{
 "cells": [
  {
   "metadata": {
    "ExecuteTime": {
     "end_time": "2025-03-31T20:43:00.485986Z",
     "start_time": "2025-03-31T20:29:32.778377Z"
    }
   },
   "cell_type": "code",
   "source": [
    "import os\n",
    "import zipfile\n",
    "import shutil\n",
    "import torch\n",
    "from ultralytics import YOLO\n",
    "import yaml\n",
    "from pathlib import Path\n",
    "\n",
    "# Set up paths\n",
    "BASE_DIR = r\"E:\\shittymikshitson\"\n",
    "EXTRACT_DIR = os.path.join(BASE_DIR, \"extracted_datasets\")\n",
    "RUNS_DIR = os.path.join(BASE_DIR, \"runs\")\n",
    "CHECKPOINT_DIR = os.path.join(BASE_DIR, \"checkpoints\")\n",
    "\n",
    "# Create directories\n",
    "os.makedirs(EXTRACT_DIR, exist_ok=True)\n",
    "os.makedirs(RUNS_DIR, exist_ok=True)\n",
    "os.makedirs(CHECKPOINT_DIR, exist_ok=True)\n",
    "\n",
    "# List of dataset zip files\n",
    "dataset_zips = [\n",
    "    \"weapon-detection.v1i.yolov8.zip\",\n",
    "    \"weapon-detection.v4-surveillance-perspective.yolov8.zip\",\n",
    "    \"weapon-detection.v5-merged-with-pistols-dataset.yolov8.zip\",\n",
    "    \"weapon-detection.v13-low-level.yolov8.zip\",\n",
    "    \"weapon-detection.v16-remapped-train-80-val-20.yolov8.zip\"\n",
    "]\n",
    "\n",
    "# Function to extract and analyze datasets\n",
    "def extract_and_analyze_datasets():\n",
    "    datasets_info = {}\n",
    "\n",
    "    for zip_file in dataset_zips:\n",
    "        zip_path = os.path.join(BASE_DIR, zip_file)\n",
    "        if not os.path.exists(zip_path):\n",
    "            print(f\"Warning: {zip_file} not found, skipping.\")\n",
    "            continue\n",
    "\n",
    "        # Create extraction directory for this dataset\n",
    "        dataset_name = os.path.splitext(zip_file)[0]\n",
    "        extract_path = os.path.join(EXTRACT_DIR, dataset_name)\n",
    "        os.makedirs(extract_path, exist_ok=True)\n",
    "\n",
    "        print(f\"Extracting {zip_file}...\")\n",
    "        with zipfile.ZipFile(zip_path, 'r') as zip_ref:\n",
    "            zip_ref.extractall(extract_path)\n",
    "\n",
    "        # Find the data.yaml file\n",
    "        yaml_files = list(Path(extract_path).glob(\"**/data.yaml\"))\n",
    "        if not yaml_files:\n",
    "            yaml_files = list(Path(extract_path).glob(\"**/*.yaml\"))\n",
    "\n",
    "        if yaml_files:\n",
    "            yaml_path = str(yaml_files[0])\n",
    "            print(f\"Found YAML file: {yaml_path}\")\n",
    "\n",
    "            # Load and analyze the YAML file\n",
    "            with open(yaml_path, 'r') as f:\n",
    "                yaml_data = yaml.safe_load(f)\n",
    "\n",
    "            # Get class names - handle both list and dict formats\n",
    "            names = yaml_data.get('names', {})\n",
    "            num_classes = len(names) if names else 0\n",
    "\n",
    "            # Store dataset information\n",
    "            datasets_info[dataset_name] = {\n",
    "                'yaml_path': yaml_path,\n",
    "                'classes': names,\n",
    "                'num_classes': num_classes,\n",
    "                'path': yaml_data.get('path', extract_path)\n",
    "            }\n",
    "\n",
    "            # Update the path in the YAML file to the correct extract path\n",
    "            parent_dir = os.path.dirname(yaml_path)\n",
    "            yaml_data['path'] = parent_dir  # Set to the directory containing data.yaml\n",
    "\n",
    "            with open(yaml_path, 'w') as f:\n",
    "                yaml.dump(yaml_data, f)\n",
    "\n",
    "            print(f\"Dataset {dataset_name} contains {num_classes} classes\")\n",
    "\n",
    "            # Handle both list and dict formats for classes\n",
    "            if isinstance(names, dict):\n",
    "                for idx, class_name in names.items():\n",
    "                    print(f\"  - Class {idx}: {class_name}\")\n",
    "            elif isinstance(names, list):\n",
    "                for idx, class_name in enumerate(names):\n",
    "                    print(f\"  - Class {idx}: {class_name}\")\n",
    "\n",
    "        else:\n",
    "            print(f\"Warning: No YAML file found in {dataset_name}\")\n",
    "\n",
    "    return datasets_info\n",
    "\n",
    "# Function to get GPU info\n",
    "def get_gpu_info():\n",
    "    if torch.cuda.is_available():\n",
    "        device = torch.device(\"cuda\")\n",
    "        gpu_name = torch.cuda.get_device_name(0)\n",
    "        vram_gb = torch.cuda.get_device_properties(0).total_memory / 1e9\n",
    "        print(f\"GPU: {gpu_name}\")\n",
    "        print(f\"VRAM: {vram_gb:.2f} GB\")\n",
    "        return device, vram_gb\n",
    "    else:\n",
    "        print(\"No GPU detected. Using CPU.\")\n",
    "        return torch.device(\"cpu\"), 0\n",
    "\n",
    "# Main function for training\n",
    "def train_weapon_detector(dataset_info):\n",
    "    # Set device\n",
    "    device, vram_gb = get_gpu_info()\n",
    "\n",
    "    # Iterate through each dataset and train the model\n",
    "    for dataset_name, info in dataset_info.items():\n",
    "        yaml_path = info['yaml_path']\n",
    "\n",
    "        print(f\"\\nTraining on dataset: {dataset_name}\")\n",
    "        print(f\"Using YAML configuration: {yaml_path}\")\n",
    "\n",
    "        # Configure model based on available VRAM\n",
    "        print(\"\\n=== Setting up model for 3060Ti with 8GB VRAM ===\")\n",
    "        model = YOLO(\"yolov8s.pt\")  # Small model - good balance for weapon detection on 3060Ti\n",
    "        batch_size = 8  # Reduced batch size for lower memory usage\n",
    "        print(f\"Selected model: YOLOv8s\")\n",
    "        print(f\"Batch size: {batch_size}\")\n",
    "\n",
    "        # Check for existing checkpoint\n",
    "        checkpoint_path = os.path.join(CHECKPOINT_DIR, f\"{dataset_name}.pt\")\n",
    "        if os.path.exists(checkpoint_path):\n",
    "            print(f\"Resuming training from checkpoint: {checkpoint_path}\")\n",
    "            model.load(checkpoint_path)\n",
    "\n",
    "        # Configure hyperparameters\n",
    "        hyperparams = {\n",
    "            \"data\": yaml_path,\n",
    "            \"epochs\": 100,\n",
    "            \"imgsz\": 640,\n",
    "            \"batch\": batch_size,\n",
    "            \"device\": device,\n",
    "            \"amp\": True,  # Mixed precision for better GPU utilization\n",
    "            \"workers\": 2,  # Reduced for stability\n",
    "            \"patience\": 20,\n",
    "            \"cos_lr\": True,\n",
    "            \"project\": RUNS_DIR,\n",
    "            \"name\": f\"weapon_detection_{dataset_name}\",\n",
    "            \"save\": True,\n",
    "            \"save_period\": 10,\n",
    "            \"exist_ok\": True,\n",
    "            \"pretrained\": True,\n",
    "            \"optimizer\": \"AdamW\",\n",
    "            \"lr0\": 0.001,\n",
    "            \"box\": 7.5,  # Box loss gain - higher for better weapon detection\n",
    "        }\n",
    "\n",
    "        print(\"\\n=== Starting Training ===\")\n",
    "        try:\n",
    "            model.train(**hyperparams)\n",
    "            # Save checkpoint after training\n",
    "            model.save(checkpoint_path)\n",
    "        except Exception as e:\n",
    "            print(f\"Error during training on dataset {dataset_name}: {e}\")\n",
    "            continue\n",
    "\n",
    "        print(\"\\n=== Training Complete ===\")\n",
    "        print(\"\\n=== Running Validation ===\")\n",
    "        try:\n",
    "            model.val()\n",
    "        except Exception as e:\n",
    "            print(f\"Error during validation on dataset {dataset_name}: {e}\")\n",
    "            continue\n",
    "\n",
    "        print(\"\\n=== Exporting Model ===\")\n",
    "        try:\n",
    "            export_path = os.path.join(RUNS_DIR, f\"weapon_detection_{dataset_name}\", \"weights\", \"best\")\n",
    "            model.export(format=\"onnx\", dynamic=True)\n",
    "        except Exception as e:\n",
    "            print(f\"Error during export on dataset {dataset_name}: {e}\")\n",
    "            continue\n",
    "\n",
    "        print(f\"\\nTraining on dataset {dataset_name} completed!\")\n",
    "        print(f\"Results saved to: {os.path.join(RUNS_DIR, f'weapon_detection_{dataset_name}')}\")\n",
    "\n",
    "if __name__ == \"__main__\":\n",
    "    print(\"=== Weapon Detection System Setup ===\")\n",
    "    print(\"Analyzing available datasets...\")\n",
    "    datasets = extract_and_analyze_datasets()\n",
    "\n",
    "    if datasets:\n",
    "        train_weapon_detector(datasets)\n",
    "    else:\n",
    "        print(\"No valid datasets found! Please check your zip files.\")"
   ],
   "id": "29b83914e806bb6",
   "outputs": [
    {
     "name": "stdout",
     "output_type": "stream",
     "text": [
      "=== Weapon Detection System Setup ===\n",
      "Analyzing available datasets...\n",
      "Extracting weapon-detection.v1i.yolov8.zip...\n",
      "Found YAML file: E:\\shittymikshitson\\extracted_datasets\\weapon-detection.v1i.yolov8\\data.yaml\n",
      "Dataset weapon-detection.v1i.yolov8 contains 1 classes\n",
      "  - Class 0: weapon\n",
      "Extracting weapon-detection.v4-surveillance-perspective.yolov8.zip...\n",
      "Found YAML file: E:\\shittymikshitson\\extracted_datasets\\weapon-detection.v4-surveillance-perspective.yolov8\\data.yaml\n",
      "Dataset weapon-detection.v4-surveillance-perspective.yolov8 contains 1 classes\n",
      "  - Class 0: weapon\n",
      "Extracting weapon-detection.v5-merged-with-pistols-dataset.yolov8.zip...\n",
      "Found YAML file: E:\\shittymikshitson\\extracted_datasets\\weapon-detection.v5-merged-with-pistols-dataset.yolov8\\data.yaml\n",
      "Dataset weapon-detection.v5-merged-with-pistols-dataset.yolov8 contains 1 classes\n",
      "  - Class 0: weapon\n",
      "Extracting weapon-detection.v13-low-level.yolov8.zip...\n",
      "Found YAML file: E:\\shittymikshitson\\extracted_datasets\\weapon-detection.v13-low-level.yolov8\\data.yaml\n",
      "Dataset weapon-detection.v13-low-level.yolov8 contains 4 classes\n",
      "  - Class 0: gun\n",
      "  - Class 1: knife\n",
      "  - Class 2: riffle\n",
      "  - Class 3: shotgun\n",
      "Extracting weapon-detection.v16-remapped-train-80-val-20.yolov8.zip...\n",
      "Found YAML file: E:\\shittymikshitson\\extracted_datasets\\weapon-detection.v16-remapped-train-80-val-20.yolov8\\data.yaml\n",
      "Dataset weapon-detection.v16-remapped-train-80-val-20.yolov8 contains 3 classes\n",
      "  - Class 0: gun\n",
      "  - Class 1: heavy-weapon\n",
      "  - Class 2: knife\n",
      "GPU: NVIDIA GeForce RTX 3060 Ti\n",
      "VRAM: 8.59 GB\n",
      "\n",
      "Training on dataset: weapon-detection.v1i.yolov8\n",
      "Using YAML configuration: E:\\shittymikshitson\\extracted_datasets\\weapon-detection.v1i.yolov8\\data.yaml\n",
      "\n",
      "=== Setting up model for 3060Ti with 8GB VRAM ===\n",
      "Selected model: YOLOv8s\n",
      "Batch size: 8\n",
      "Resuming training from checkpoint: E:\\shittymikshitson\\checkpoints\\weapon-detection.v1i.yolov8.pt\n",
      "Transferred 349/355 items from pretrained weights\n",
      "\n",
      "=== Starting Training ===\n",
      "\u001B[34m\u001B[1mengine\\trainer: \u001B[0mtask=detect, mode=train, model=yolov8s.pt, data=E:\\shittymikshitson\\extracted_datasets\\weapon-detection.v1i.yolov8\\data.yaml, epochs=100, time=None, patience=20, batch=8, imgsz=640, save=True, save_period=10, cache=False, device=cuda, workers=2, project=E:\\shittymikshitson\\runs, name=weapon_detection_weapon-detection.v1i.yolov8, exist_ok=True, pretrained=True, optimizer=AdamW, verbose=True, seed=0, deterministic=True, single_cls=False, rect=False, cos_lr=True, close_mosaic=10, resume=False, amp=True, fraction=1.0, profile=False, freeze=None, multi_scale=False, overlap_mask=True, mask_ratio=4, dropout=0.0, val=True, split=val, save_json=False, save_hybrid=False, conf=None, iou=0.7, max_det=300, half=False, dnn=False, plots=True, source=None, vid_stride=1, stream_buffer=False, visualize=False, augment=False, agnostic_nms=False, classes=None, retina_masks=False, embed=None, show=False, save_frames=False, save_txt=False, save_conf=False, save_crop=False, show_labels=True, show_conf=True, show_boxes=True, line_width=None, format=torchscript, keras=False, optimize=False, int8=False, dynamic=False, simplify=True, opset=None, workspace=None, nms=False, lr0=0.001, lrf=0.01, momentum=0.937, weight_decay=0.0005, warmup_epochs=3.0, warmup_momentum=0.8, warmup_bias_lr=0.1, box=7.5, cls=0.5, dfl=1.5, pose=12.0, kobj=1.0, nbs=64, hsv_h=0.015, hsv_s=0.7, hsv_v=0.4, degrees=0.0, translate=0.1, scale=0.5, shear=0.0, perspective=0.0, flipud=0.0, fliplr=0.5, bgr=0.0, mosaic=1.0, mixup=0.0, copy_paste=0.0, copy_paste_mode=flip, auto_augment=randaugment, erasing=0.4, crop_fraction=1.0, cfg=None, tracker=botsort.yaml, save_dir=E:\\shittymikshitson\\runs\\weapon_detection_weapon-detection.v1i.yolov8\n",
      "Overriding model.yaml nc=80 with nc=1\n",
      "\n",
      "                   from  n    params  module                                       arguments                     \n",
      "  0                  -1  1       928  ultralytics.nn.modules.conv.Conv             [3, 32, 3, 2]                 \n",
      "  1                  -1  1     18560  ultralytics.nn.modules.conv.Conv             [32, 64, 3, 2]                \n",
      "  2                  -1  1     29056  ultralytics.nn.modules.block.C2f             [64, 64, 1, True]             \n",
      "  3                  -1  1     73984  ultralytics.nn.modules.conv.Conv             [64, 128, 3, 2]               \n",
      "  4                  -1  2    197632  ultralytics.nn.modules.block.C2f             [128, 128, 2, True]           \n",
      "  5                  -1  1    295424  ultralytics.nn.modules.conv.Conv             [128, 256, 3, 2]              \n",
      "  6                  -1  2    788480  ultralytics.nn.modules.block.C2f             [256, 256, 2, True]           \n",
      "  7                  -1  1   1180672  ultralytics.nn.modules.conv.Conv             [256, 512, 3, 2]              \n",
      "  8                  -1  1   1838080  ultralytics.nn.modules.block.C2f             [512, 512, 1, True]           \n",
      "  9                  -1  1    656896  ultralytics.nn.modules.block.SPPF            [512, 512, 5]                 \n",
      " 10                  -1  1         0  torch.nn.modules.upsampling.Upsample         [None, 2, 'nearest']          \n",
      " 11             [-1, 6]  1         0  ultralytics.nn.modules.conv.Concat           [1]                           \n",
      " 12                  -1  1    591360  ultralytics.nn.modules.block.C2f             [768, 256, 1]                 \n",
      " 13                  -1  1         0  torch.nn.modules.upsampling.Upsample         [None, 2, 'nearest']          \n",
      " 14             [-1, 4]  1         0  ultralytics.nn.modules.conv.Concat           [1]                           \n",
      " 15                  -1  1    148224  ultralytics.nn.modules.block.C2f             [384, 128, 1]                 \n",
      " 16                  -1  1    147712  ultralytics.nn.modules.conv.Conv             [128, 128, 3, 2]              \n",
      " 17            [-1, 12]  1         0  ultralytics.nn.modules.conv.Concat           [1]                           \n",
      " 18                  -1  1    493056  ultralytics.nn.modules.block.C2f             [384, 256, 1]                 \n",
      " 19                  -1  1    590336  ultralytics.nn.modules.conv.Conv             [256, 256, 3, 2]              \n",
      " 20             [-1, 9]  1         0  ultralytics.nn.modules.conv.Concat           [1]                           \n",
      " 21                  -1  1   1969152  ultralytics.nn.modules.block.C2f             [768, 512, 1]                 \n",
      " 22        [15, 18, 21]  1   2116435  ultralytics.nn.modules.head.Detect           [1, [128, 256, 512]]          \n",
      "Model summary: 129 layers, 11,135,987 parameters, 11,135,971 gradients, 28.6 GFLOPs\n",
      "\n",
      "Transferred 349/355 items from pretrained weights\n",
      "Freezing layer 'model.22.dfl.conv.weight'\n",
      "\u001B[34m\u001B[1mAMP: \u001B[0mrunning Automatic Mixed Precision (AMP) checks...\n",
      "\u001B[34m\u001B[1mAMP: \u001B[0mchecks passed \n"
     ]
    },
    {
     "name": "stderr",
     "output_type": "stream",
     "text": [
      "\u001B[34m\u001B[1mtrain: \u001B[0mScanning E:\\shittymikshitson\\extracted_datasets\\weapon-detection.v1i.yolov8\\train\\labels.cache... 460 images, 163 backgrounds, 0 corrupt: 100%|██████████| 460/460 [00:00<?, ?it/s]\n",
      "\u001B[34m\u001B[1mval: \u001B[0mScanning E:\\shittymikshitson\\extracted_datasets\\weapon-detection.v1i.yolov8\\valid\\labels.cache... 74 images, 1 backgrounds, 0 corrupt: 100%|██████████| 74/74 [00:00<?, ?it/s]\n"
     ]
    },
    {
     "name": "stdout",
     "output_type": "stream",
     "text": [
      "Plotting labels to E:\\shittymikshitson\\runs\\weapon_detection_weapon-detection.v1i.yolov8\\labels.jpg... \n",
      "\u001B[34m\u001B[1moptimizer:\u001B[0m AdamW(lr=0.001, momentum=0.937) with parameter groups 57 weight(decay=0.0), 64 weight(decay=0.0005), 63 bias(decay=0.0)\n",
      "Image sizes 640 train, 640 val\n",
      "Using 2 dataloader workers\n",
      "Logging results to \u001B[1mE:\\shittymikshitson\\runs\\weapon_detection_weapon-detection.v1i.yolov8\u001B[0m\n",
      "Starting training for 100 epochs...\n",
      "\n",
      "      Epoch    GPU_mem   box_loss   cls_loss   dfl_loss  Instances       Size\n"
     ]
    },
    {
     "name": "stderr",
     "output_type": "stream",
     "text": [
      "      1/100      1.89G      1.059      1.036      1.239          6        640: 100%|██████████| 58/58 [00:08<00:00,  7.00it/s]\n",
      "                 Class     Images  Instances      Box(P          R      mAP50  mAP50-95): 100%|██████████| 5/5 [00:00<00:00,  6.89it/s]"
     ]
    },
    {
     "name": "stdout",
     "output_type": "stream",
     "text": [
      "                   all         74         82      0.577      0.183      0.186     0.0786\n"
     ]
    },
    {
     "name": "stderr",
     "output_type": "stream",
     "text": [
      "\n"
     ]
    },
    {
     "name": "stdout",
     "output_type": "stream",
     "text": [
      "\n",
      "      Epoch    GPU_mem   box_loss   cls_loss   dfl_loss  Instances       Size\n"
     ]
    },
    {
     "name": "stderr",
     "output_type": "stream",
     "text": [
      "      2/100      2.05G     0.9082     0.8809      1.214          7        640: 100%|██████████| 58/58 [00:06<00:00,  9.48it/s]\n",
      "                 Class     Images  Instances      Box(P          R      mAP50  mAP50-95): 100%|██████████| 5/5 [00:00<00:00,  9.57it/s]"
     ]
    },
    {
     "name": "stdout",
     "output_type": "stream",
     "text": [
      "                   all         74         82      0.566      0.271      0.282      0.131\n"
     ]
    },
    {
     "name": "stderr",
     "output_type": "stream",
     "text": [
      "\n"
     ]
    },
    {
     "name": "stdout",
     "output_type": "stream",
     "text": [
      "\n",
      "      Epoch    GPU_mem   box_loss   cls_loss   dfl_loss  Instances       Size\n"
     ]
    },
    {
     "name": "stderr",
     "output_type": "stream",
     "text": [
      "      3/100      2.05G     0.9166     0.8585      1.198          4        640: 100%|██████████| 58/58 [00:05<00:00, 10.03it/s]\n",
      "                 Class     Images  Instances      Box(P          R      mAP50  mAP50-95): 100%|██████████| 5/5 [00:00<00:00,  9.79it/s]"
     ]
    },
    {
     "name": "stdout",
     "output_type": "stream",
     "text": [
      "                   all         74         82      0.439      0.268      0.254      0.108\n"
     ]
    },
    {
     "name": "stderr",
     "output_type": "stream",
     "text": [
      "\n"
     ]
    },
    {
     "name": "stdout",
     "output_type": "stream",
     "text": [
      "\n",
      "      Epoch    GPU_mem   box_loss   cls_loss   dfl_loss  Instances       Size\n"
     ]
    },
    {
     "name": "stderr",
     "output_type": "stream",
     "text": [
      "      4/100      2.05G     0.9551     0.9216      1.228          7        640: 100%|██████████| 58/58 [00:05<00:00, 10.50it/s]\n",
      "                 Class     Images  Instances      Box(P          R      mAP50  mAP50-95): 100%|██████████| 5/5 [00:00<00:00,  9.84it/s]"
     ]
    },
    {
     "name": "stdout",
     "output_type": "stream",
     "text": [
      "                   all         74         82      0.399      0.364      0.323      0.134\n"
     ]
    },
    {
     "name": "stderr",
     "output_type": "stream",
     "text": [
      "\n"
     ]
    },
    {
     "name": "stdout",
     "output_type": "stream",
     "text": [
      "\n",
      "      Epoch    GPU_mem   box_loss   cls_loss   dfl_loss  Instances       Size\n"
     ]
    },
    {
     "name": "stderr",
     "output_type": "stream",
     "text": [
      "      5/100      2.05G     0.9498     0.9077       1.23          5        640: 100%|██████████| 58/58 [00:05<00:00, 10.47it/s]\n",
      "                 Class     Images  Instances      Box(P          R      mAP50  mAP50-95): 100%|██████████| 5/5 [00:00<00:00,  9.67it/s]"
     ]
    },
    {
     "name": "stdout",
     "output_type": "stream",
     "text": [
      "                   all         74         82      0.484      0.305      0.289       0.14\n"
     ]
    },
    {
     "name": "stderr",
     "output_type": "stream",
     "text": [
      "\n"
     ]
    },
    {
     "name": "stdout",
     "output_type": "stream",
     "text": [
      "\n",
      "      Epoch    GPU_mem   box_loss   cls_loss   dfl_loss  Instances       Size\n"
     ]
    },
    {
     "name": "stderr",
     "output_type": "stream",
     "text": [
      "      6/100      2.05G     0.9851     0.9467      1.261          4        640: 100%|██████████| 58/58 [00:05<00:00, 10.19it/s]\n",
      "                 Class     Images  Instances      Box(P          R      mAP50  mAP50-95): 100%|██████████| 5/5 [00:00<00:00,  9.67it/s]"
     ]
    },
    {
     "name": "stdout",
     "output_type": "stream",
     "text": [
      "                   all         74         82      0.423       0.28      0.281       0.14\n"
     ]
    },
    {
     "name": "stderr",
     "output_type": "stream",
     "text": [
      "\n"
     ]
    },
    {
     "name": "stdout",
     "output_type": "stream",
     "text": [
      "\n",
      "      Epoch    GPU_mem   box_loss   cls_loss   dfl_loss  Instances       Size\n"
     ]
    },
    {
     "name": "stderr",
     "output_type": "stream",
     "text": [
      "      7/100      2.05G     0.9817     0.9456      1.228          6        640: 100%|██████████| 58/58 [00:05<00:00, 10.45it/s]\n",
      "                 Class     Images  Instances      Box(P          R      mAP50  mAP50-95): 100%|██████████| 5/5 [00:00<00:00,  9.77it/s]"
     ]
    },
    {
     "name": "stdout",
     "output_type": "stream",
     "text": [
      "                   all         74         82      0.478      0.244      0.246      0.114\n"
     ]
    },
    {
     "name": "stderr",
     "output_type": "stream",
     "text": [
      "\n"
     ]
    },
    {
     "name": "stdout",
     "output_type": "stream",
     "text": [
      "\n",
      "      Epoch    GPU_mem   box_loss   cls_loss   dfl_loss  Instances       Size\n"
     ]
    },
    {
     "name": "stderr",
     "output_type": "stream",
     "text": [
      "      8/100      2.05G     0.9785      0.965      1.227          2        640: 100%|██████████| 58/58 [00:05<00:00, 10.57it/s]\n",
      "                 Class     Images  Instances      Box(P          R      mAP50  mAP50-95): 100%|██████████| 5/5 [00:00<00:00,  9.63it/s]"
     ]
    },
    {
     "name": "stdout",
     "output_type": "stream",
     "text": [
      "                   all         74         82       0.66      0.256      0.319      0.142\n"
     ]
    },
    {
     "name": "stderr",
     "output_type": "stream",
     "text": [
      "\n"
     ]
    },
    {
     "name": "stdout",
     "output_type": "stream",
     "text": [
      "\n",
      "      Epoch    GPU_mem   box_loss   cls_loss   dfl_loss  Instances       Size\n"
     ]
    },
    {
     "name": "stderr",
     "output_type": "stream",
     "text": [
      "      9/100      2.05G      1.018     0.9734      1.278          4        640: 100%|██████████| 58/58 [00:05<00:00, 10.02it/s]\n",
      "                 Class     Images  Instances      Box(P          R      mAP50  mAP50-95): 100%|██████████| 5/5 [00:00<00:00, 10.11it/s]"
     ]
    },
    {
     "name": "stdout",
     "output_type": "stream",
     "text": [
      "                   all         74         82      0.464      0.305      0.292      0.141\n"
     ]
    },
    {
     "name": "stderr",
     "output_type": "stream",
     "text": [
      "\n"
     ]
    },
    {
     "name": "stdout",
     "output_type": "stream",
     "text": [
      "\n",
      "      Epoch    GPU_mem   box_loss   cls_loss   dfl_loss  Instances       Size\n"
     ]
    },
    {
     "name": "stderr",
     "output_type": "stream",
     "text": [
      "     10/100      2.05G     0.9498     0.9293      1.228         11        640: 100%|██████████| 58/58 [00:05<00:00, 10.22it/s]\n",
      "                 Class     Images  Instances      Box(P          R      mAP50  mAP50-95): 100%|██████████| 5/5 [00:00<00:00, 10.07it/s]\n"
     ]
    },
    {
     "name": "stdout",
     "output_type": "stream",
     "text": [
      "                   all         74         82      0.391      0.258      0.246       0.11\n",
      "\n",
      "      Epoch    GPU_mem   box_loss   cls_loss   dfl_loss  Instances       Size\n"
     ]
    },
    {
     "name": "stderr",
     "output_type": "stream",
     "text": [
      "     11/100      2.05G      1.014     0.9732      1.244          6        640: 100%|██████████| 58/58 [00:05<00:00, 10.10it/s]\n",
      "                 Class     Images  Instances      Box(P          R      mAP50  mAP50-95): 100%|██████████| 5/5 [00:00<00:00,  9.43it/s]"
     ]
    },
    {
     "name": "stdout",
     "output_type": "stream",
     "text": [
      "                   all         74         82      0.338      0.349      0.268      0.119\n"
     ]
    },
    {
     "name": "stderr",
     "output_type": "stream",
     "text": [
      "\n"
     ]
    },
    {
     "name": "stdout",
     "output_type": "stream",
     "text": [
      "\n",
      "      Epoch    GPU_mem   box_loss   cls_loss   dfl_loss  Instances       Size\n"
     ]
    },
    {
     "name": "stderr",
     "output_type": "stream",
     "text": [
      "     12/100      2.05G      1.065     0.9894      1.307          1        640: 100%|██████████| 58/58 [00:05<00:00,  9.98it/s]\n",
      "                 Class     Images  Instances      Box(P          R      mAP50  mAP50-95): 100%|██████████| 5/5 [00:00<00:00,  9.62it/s]"
     ]
    },
    {
     "name": "stdout",
     "output_type": "stream",
     "text": [
      "                   all         74         82      0.482       0.28      0.262      0.107\n"
     ]
    },
    {
     "name": "stderr",
     "output_type": "stream",
     "text": [
      "\n"
     ]
    },
    {
     "name": "stdout",
     "output_type": "stream",
     "text": [
      "\n",
      "      Epoch    GPU_mem   box_loss   cls_loss   dfl_loss  Instances       Size\n"
     ]
    },
    {
     "name": "stderr",
     "output_type": "stream",
     "text": [
      "     13/100      2.05G     0.9898     0.9703       1.24          1        640: 100%|██████████| 58/58 [00:05<00:00, 10.05it/s]\n",
      "                 Class     Images  Instances      Box(P          R      mAP50  mAP50-95): 100%|██████████| 5/5 [00:00<00:00,  9.77it/s]"
     ]
    },
    {
     "name": "stdout",
     "output_type": "stream",
     "text": [
      "                   all         74         82      0.403      0.354      0.306      0.112\n"
     ]
    },
    {
     "name": "stderr",
     "output_type": "stream",
     "text": [
      "\n"
     ]
    },
    {
     "name": "stdout",
     "output_type": "stream",
     "text": [
      "\n",
      "      Epoch    GPU_mem   box_loss   cls_loss   dfl_loss  Instances       Size\n"
     ]
    },
    {
     "name": "stderr",
     "output_type": "stream",
     "text": [
      "     14/100      2.05G      1.066      1.063      1.288          5        640: 100%|██████████| 58/58 [00:05<00:00, 10.26it/s]\n",
      "                 Class     Images  Instances      Box(P          R      mAP50  mAP50-95): 100%|██████████| 5/5 [00:00<00:00,  9.64it/s]"
     ]
    },
    {
     "name": "stdout",
     "output_type": "stream",
     "text": [
      "                   all         74         82      0.431       0.28      0.269      0.122\n"
     ]
    },
    {
     "name": "stderr",
     "output_type": "stream",
     "text": [
      "\n"
     ]
    },
    {
     "name": "stdout",
     "output_type": "stream",
     "text": [
      "\n",
      "      Epoch    GPU_mem   box_loss   cls_loss   dfl_loss  Instances       Size\n"
     ]
    },
    {
     "name": "stderr",
     "output_type": "stream",
     "text": [
      "     15/100      2.05G      1.093      1.059      1.299          6        640: 100%|██████████| 58/58 [00:05<00:00, 10.20it/s]\n",
      "                 Class     Images  Instances      Box(P          R      mAP50  mAP50-95): 100%|██████████| 5/5 [00:00<00:00,  9.66it/s]"
     ]
    },
    {
     "name": "stdout",
     "output_type": "stream",
     "text": [
      "                   all         74         82      0.515      0.317      0.313      0.153\n"
     ]
    },
    {
     "name": "stderr",
     "output_type": "stream",
     "text": [
      "\n"
     ]
    },
    {
     "name": "stdout",
     "output_type": "stream",
     "text": [
      "\n",
      "      Epoch    GPU_mem   box_loss   cls_loss   dfl_loss  Instances       Size\n"
     ]
    },
    {
     "name": "stderr",
     "output_type": "stream",
     "text": [
      "     16/100      2.05G      1.082      1.107      1.325          4        640: 100%|██████████| 58/58 [00:05<00:00, 10.09it/s]\n",
      "                 Class     Images  Instances      Box(P          R      mAP50  mAP50-95): 100%|██████████| 5/5 [00:00<00:00,  9.12it/s]"
     ]
    },
    {
     "name": "stdout",
     "output_type": "stream",
     "text": [
      "                   all         74         82      0.485      0.329      0.303       0.14\n"
     ]
    },
    {
     "name": "stderr",
     "output_type": "stream",
     "text": [
      "\n"
     ]
    },
    {
     "name": "stdout",
     "output_type": "stream",
     "text": [
      "\n",
      "      Epoch    GPU_mem   box_loss   cls_loss   dfl_loss  Instances       Size\n"
     ]
    },
    {
     "name": "stderr",
     "output_type": "stream",
     "text": [
      "     17/100      2.05G      1.065      1.186      1.269          3        640: 100%|██████████| 58/58 [00:05<00:00, 10.21it/s]\n",
      "                 Class     Images  Instances      Box(P          R      mAP50  mAP50-95): 100%|██████████| 5/5 [00:00<00:00,  9.75it/s]"
     ]
    },
    {
     "name": "stdout",
     "output_type": "stream",
     "text": [
      "                   all         74         82      0.459      0.317      0.321      0.158\n"
     ]
    },
    {
     "name": "stderr",
     "output_type": "stream",
     "text": [
      "\n"
     ]
    },
    {
     "name": "stdout",
     "output_type": "stream",
     "text": [
      "\n",
      "      Epoch    GPU_mem   box_loss   cls_loss   dfl_loss  Instances       Size\n"
     ]
    },
    {
     "name": "stderr",
     "output_type": "stream",
     "text": [
      "     18/100      2.05G      1.066      1.079      1.299          4        640: 100%|██████████| 58/58 [00:05<00:00,  9.93it/s]\n",
      "                 Class     Images  Instances      Box(P          R      mAP50  mAP50-95): 100%|██████████| 5/5 [00:00<00:00,  8.88it/s]"
     ]
    },
    {
     "name": "stdout",
     "output_type": "stream",
     "text": [
      "                   all         74         82      0.605       0.28       0.32      0.157\n"
     ]
    },
    {
     "name": "stderr",
     "output_type": "stream",
     "text": [
      "\n"
     ]
    },
    {
     "name": "stdout",
     "output_type": "stream",
     "text": [
      "\n",
      "      Epoch    GPU_mem   box_loss   cls_loss   dfl_loss  Instances       Size\n"
     ]
    },
    {
     "name": "stderr",
     "output_type": "stream",
     "text": [
      "     19/100      2.05G      1.056      1.057      1.257          6        640: 100%|██████████| 58/58 [00:05<00:00,  9.92it/s]\n",
      "                 Class     Images  Instances      Box(P          R      mAP50  mAP50-95): 100%|██████████| 5/5 [00:00<00:00,  9.11it/s]"
     ]
    },
    {
     "name": "stdout",
     "output_type": "stream",
     "text": [
      "                   all         74         82      0.471      0.317      0.295      0.133\n"
     ]
    },
    {
     "name": "stderr",
     "output_type": "stream",
     "text": [
      "\n"
     ]
    },
    {
     "name": "stdout",
     "output_type": "stream",
     "text": [
      "\n",
      "      Epoch    GPU_mem   box_loss   cls_loss   dfl_loss  Instances       Size\n"
     ]
    },
    {
     "name": "stderr",
     "output_type": "stream",
     "text": [
      "     20/100      2.05G      1.043     0.9836      1.283          3        640: 100%|██████████| 58/58 [00:05<00:00, 10.18it/s]\n",
      "                 Class     Images  Instances      Box(P          R      mAP50  mAP50-95): 100%|██████████| 5/5 [00:00<00:00,  9.72it/s]"
     ]
    },
    {
     "name": "stdout",
     "output_type": "stream",
     "text": [
      "                   all         74         82      0.481      0.268      0.251      0.118\n"
     ]
    },
    {
     "name": "stderr",
     "output_type": "stream",
     "text": [
      "\n"
     ]
    },
    {
     "name": "stdout",
     "output_type": "stream",
     "text": [
      "\n",
      "      Epoch    GPU_mem   box_loss   cls_loss   dfl_loss  Instances       Size\n"
     ]
    },
    {
     "name": "stderr",
     "output_type": "stream",
     "text": [
      "     21/100      2.05G      0.997      0.962      1.242          5        640: 100%|██████████| 58/58 [00:05<00:00, 10.18it/s]\n",
      "                 Class     Images  Instances      Box(P          R      mAP50  mAP50-95): 100%|██████████| 5/5 [00:00<00:00,  9.58it/s]"
     ]
    },
    {
     "name": "stdout",
     "output_type": "stream",
     "text": [
      "                   all         74         82      0.583      0.293      0.325      0.131\n"
     ]
    },
    {
     "name": "stderr",
     "output_type": "stream",
     "text": [
      "\n"
     ]
    },
    {
     "name": "stdout",
     "output_type": "stream",
     "text": [
      "\n",
      "      Epoch    GPU_mem   box_loss   cls_loss   dfl_loss  Instances       Size\n"
     ]
    },
    {
     "name": "stderr",
     "output_type": "stream",
     "text": [
      "     22/100      2.05G      1.058      1.055      1.256          5        640: 100%|██████████| 58/58 [00:05<00:00, 10.25it/s]\n",
      "                 Class     Images  Instances      Box(P          R      mAP50  mAP50-95): 100%|██████████| 5/5 [00:00<00:00,  9.72it/s]"
     ]
    },
    {
     "name": "stdout",
     "output_type": "stream",
     "text": [
      "                   all         74         82      0.447      0.296      0.308      0.138\n"
     ]
    },
    {
     "name": "stderr",
     "output_type": "stream",
     "text": [
      "\n"
     ]
    },
    {
     "name": "stdout",
     "output_type": "stream",
     "text": [
      "\n",
      "      Epoch    GPU_mem   box_loss   cls_loss   dfl_loss  Instances       Size\n"
     ]
    },
    {
     "name": "stderr",
     "output_type": "stream",
     "text": [
      "     23/100      2.05G      1.057      1.042      1.257          5        640: 100%|██████████| 58/58 [00:05<00:00, 10.23it/s]\n",
      "                 Class     Images  Instances      Box(P          R      mAP50  mAP50-95): 100%|██████████| 5/5 [00:00<00:00,  9.41it/s]"
     ]
    },
    {
     "name": "stdout",
     "output_type": "stream",
     "text": [
      "                   all         74         82      0.553      0.287      0.279      0.145\n"
     ]
    },
    {
     "name": "stderr",
     "output_type": "stream",
     "text": [
      "\n"
     ]
    },
    {
     "name": "stdout",
     "output_type": "stream",
     "text": [
      "\n",
      "      Epoch    GPU_mem   box_loss   cls_loss   dfl_loss  Instances       Size\n"
     ]
    },
    {
     "name": "stderr",
     "output_type": "stream",
     "text": [
      "     24/100      2.05G     0.9731      1.005       1.24          5        640: 100%|██████████| 58/58 [00:05<00:00, 10.24it/s]\n",
      "                 Class     Images  Instances      Box(P          R      mAP50  mAP50-95): 100%|██████████| 5/5 [00:00<00:00,  9.68it/s]"
     ]
    },
    {
     "name": "stdout",
     "output_type": "stream",
     "text": [
      "                   all         74         82      0.418      0.305      0.291      0.142\n"
     ]
    },
    {
     "name": "stderr",
     "output_type": "stream",
     "text": [
      "\n"
     ]
    },
    {
     "name": "stdout",
     "output_type": "stream",
     "text": [
      "\n",
      "      Epoch    GPU_mem   box_loss   cls_loss   dfl_loss  Instances       Size\n"
     ]
    },
    {
     "name": "stderr",
     "output_type": "stream",
     "text": [
      "     25/100      2.05G     0.9681     0.9277      1.185          6        640: 100%|██████████| 58/58 [00:05<00:00, 10.19it/s]\n",
      "                 Class     Images  Instances      Box(P          R      mAP50  mAP50-95): 100%|██████████| 5/5 [00:00<00:00,  9.89it/s]"
     ]
    },
    {
     "name": "stdout",
     "output_type": "stream",
     "text": [
      "                   all         74         82      0.436      0.232      0.223        0.1\n"
     ]
    },
    {
     "name": "stderr",
     "output_type": "stream",
     "text": [
      "\n"
     ]
    },
    {
     "name": "stdout",
     "output_type": "stream",
     "text": [
      "\n",
      "      Epoch    GPU_mem   box_loss   cls_loss   dfl_loss  Instances       Size\n"
     ]
    },
    {
     "name": "stderr",
     "output_type": "stream",
     "text": [
      "     26/100      2.05G      1.011     0.9593      1.229          5        640: 100%|██████████| 58/58 [00:05<00:00, 10.30it/s]\n",
      "                 Class     Images  Instances      Box(P          R      mAP50  mAP50-95): 100%|██████████| 5/5 [00:00<00:00,  9.87it/s]"
     ]
    },
    {
     "name": "stdout",
     "output_type": "stream",
     "text": [
      "                   all         74         82      0.423      0.268      0.251       0.11\n"
     ]
    },
    {
     "name": "stderr",
     "output_type": "stream",
     "text": [
      "\n"
     ]
    },
    {
     "name": "stdout",
     "output_type": "stream",
     "text": [
      "\n",
      "      Epoch    GPU_mem   box_loss   cls_loss   dfl_loss  Instances       Size\n"
     ]
    },
    {
     "name": "stderr",
     "output_type": "stream",
     "text": [
      "     27/100      2.05G      1.013     0.9721      1.265          4        640: 100%|██████████| 58/58 [00:05<00:00, 10.27it/s]\n",
      "                 Class     Images  Instances      Box(P          R      mAP50  mAP50-95): 100%|██████████| 5/5 [00:00<00:00,  9.72it/s]"
     ]
    },
    {
     "name": "stdout",
     "output_type": "stream",
     "text": [
      "                   all         74         82       0.46       0.27      0.295      0.127\n"
     ]
    },
    {
     "name": "stderr",
     "output_type": "stream",
     "text": [
      "\n"
     ]
    },
    {
     "name": "stdout",
     "output_type": "stream",
     "text": [
      "\n",
      "      Epoch    GPU_mem   box_loss   cls_loss   dfl_loss  Instances       Size\n"
     ]
    },
    {
     "name": "stderr",
     "output_type": "stream",
     "text": [
      "     28/100      2.05G       1.02     0.9547       1.23          5        640: 100%|██████████| 58/58 [00:05<00:00, 10.16it/s]\n",
      "                 Class     Images  Instances      Box(P          R      mAP50  mAP50-95): 100%|██████████| 5/5 [00:00<00:00,  9.64it/s]"
     ]
    },
    {
     "name": "stdout",
     "output_type": "stream",
     "text": [
      "                   all         74         82      0.529       0.22      0.246      0.112\n"
     ]
    },
    {
     "name": "stderr",
     "output_type": "stream",
     "text": [
      "\n"
     ]
    },
    {
     "name": "stdout",
     "output_type": "stream",
     "text": [
      "\n",
      "      Epoch    GPU_mem   box_loss   cls_loss   dfl_loss  Instances       Size\n"
     ]
    },
    {
     "name": "stderr",
     "output_type": "stream",
     "text": [
      "     29/100      2.05G     0.9416     0.8928      1.213          5        640: 100%|██████████| 58/58 [00:05<00:00, 10.11it/s]\n",
      "                 Class     Images  Instances      Box(P          R      mAP50  mAP50-95): 100%|██████████| 5/5 [00:00<00:00,  9.68it/s]"
     ]
    },
    {
     "name": "stdout",
     "output_type": "stream",
     "text": [
      "                   all         74         82      0.519      0.276      0.267      0.116\n"
     ]
    },
    {
     "name": "stderr",
     "output_type": "stream",
     "text": [
      "\n"
     ]
    },
    {
     "name": "stdout",
     "output_type": "stream",
     "text": [
      "\n",
      "      Epoch    GPU_mem   box_loss   cls_loss   dfl_loss  Instances       Size\n"
     ]
    },
    {
     "name": "stderr",
     "output_type": "stream",
     "text": [
      "     30/100      2.05G      1.009     0.9865       1.24          4        640: 100%|██████████| 58/58 [00:05<00:00, 10.23it/s]\n",
      "                 Class     Images  Instances      Box(P          R      mAP50  mAP50-95): 100%|██████████| 5/5 [00:00<00:00,  9.64it/s]"
     ]
    },
    {
     "name": "stdout",
     "output_type": "stream",
     "text": [
      "                   all         74         82      0.532      0.232      0.241      0.114\n"
     ]
    },
    {
     "name": "stderr",
     "output_type": "stream",
     "text": [
      "\n"
     ]
    },
    {
     "name": "stdout",
     "output_type": "stream",
     "text": [
      "\n",
      "      Epoch    GPU_mem   box_loss   cls_loss   dfl_loss  Instances       Size\n"
     ]
    },
    {
     "name": "stderr",
     "output_type": "stream",
     "text": [
      "     31/100      2.05G      0.991      1.003      1.246          7        640: 100%|██████████| 58/58 [00:05<00:00, 10.22it/s]\n",
      "                 Class     Images  Instances      Box(P          R      mAP50  mAP50-95): 100%|██████████| 5/5 [00:00<00:00,  9.64it/s]"
     ]
    },
    {
     "name": "stdout",
     "output_type": "stream",
     "text": [
      "                   all         74         82      0.505      0.336      0.313      0.141\n"
     ]
    },
    {
     "name": "stderr",
     "output_type": "stream",
     "text": [
      "\n"
     ]
    },
    {
     "name": "stdout",
     "output_type": "stream",
     "text": [
      "\n",
      "      Epoch    GPU_mem   box_loss   cls_loss   dfl_loss  Instances       Size\n"
     ]
    },
    {
     "name": "stderr",
     "output_type": "stream",
     "text": [
      "     32/100      2.05G     0.9615     0.9154      1.233          4        640: 100%|██████████| 58/58 [00:05<00:00, 10.00it/s]\n",
      "                 Class     Images  Instances      Box(P          R      mAP50  mAP50-95): 100%|██████████| 5/5 [00:00<00:00,  9.63it/s]"
     ]
    },
    {
     "name": "stdout",
     "output_type": "stream",
     "text": [
      "                   all         74         82      0.677       0.28      0.336      0.159\n"
     ]
    },
    {
     "name": "stderr",
     "output_type": "stream",
     "text": [
      "\n"
     ]
    },
    {
     "name": "stdout",
     "output_type": "stream",
     "text": [
      "\n",
      "      Epoch    GPU_mem   box_loss   cls_loss   dfl_loss  Instances       Size\n"
     ]
    },
    {
     "name": "stderr",
     "output_type": "stream",
     "text": [
      "     33/100      2.05G     0.9288     0.9117      1.205          5        640: 100%|██████████| 58/58 [00:06<00:00,  9.51it/s]\n",
      "                 Class     Images  Instances      Box(P          R      mAP50  mAP50-95): 100%|██████████| 5/5 [00:00<00:00,  9.57it/s]"
     ]
    },
    {
     "name": "stdout",
     "output_type": "stream",
     "text": [
      "                   all         74         82      0.437      0.322      0.284      0.135\n"
     ]
    },
    {
     "name": "stderr",
     "output_type": "stream",
     "text": [
      "\n"
     ]
    },
    {
     "name": "stdout",
     "output_type": "stream",
     "text": [
      "\n",
      "      Epoch    GPU_mem   box_loss   cls_loss   dfl_loss  Instances       Size\n"
     ]
    },
    {
     "name": "stderr",
     "output_type": "stream",
     "text": [
      "     34/100      2.05G     0.9157     0.8561      1.168          4        640: 100%|██████████| 58/58 [00:05<00:00,  9.98it/s]\n",
      "                 Class     Images  Instances      Box(P          R      mAP50  mAP50-95): 100%|██████████| 5/5 [00:00<00:00,  9.31it/s]"
     ]
    },
    {
     "name": "stdout",
     "output_type": "stream",
     "text": [
      "                   all         74         82      0.613      0.317      0.338      0.156\n"
     ]
    },
    {
     "name": "stderr",
     "output_type": "stream",
     "text": [
      "\n"
     ]
    },
    {
     "name": "stdout",
     "output_type": "stream",
     "text": [
      "\n",
      "      Epoch    GPU_mem   box_loss   cls_loss   dfl_loss  Instances       Size\n"
     ]
    },
    {
     "name": "stderr",
     "output_type": "stream",
     "text": [
      "     35/100      2.05G     0.9716     0.9434       1.23          4        640: 100%|██████████| 58/58 [00:05<00:00, 10.03it/s]\n",
      "                 Class     Images  Instances      Box(P          R      mAP50  mAP50-95): 100%|██████████| 5/5 [00:00<00:00,  9.40it/s]"
     ]
    },
    {
     "name": "stdout",
     "output_type": "stream",
     "text": [
      "                   all         74         82      0.658      0.293      0.329      0.137\n"
     ]
    },
    {
     "name": "stderr",
     "output_type": "stream",
     "text": [
      "\n"
     ]
    },
    {
     "name": "stdout",
     "output_type": "stream",
     "text": [
      "\n",
      "      Epoch    GPU_mem   box_loss   cls_loss   dfl_loss  Instances       Size\n"
     ]
    },
    {
     "name": "stderr",
     "output_type": "stream",
     "text": [
      "     36/100      2.05G     0.9836     0.9373      1.236          4        640: 100%|██████████| 58/58 [00:06<00:00,  9.64it/s]\n",
      "                 Class     Images  Instances      Box(P          R      mAP50  mAP50-95): 100%|██████████| 5/5 [00:00<00:00,  9.08it/s]"
     ]
    },
    {
     "name": "stdout",
     "output_type": "stream",
     "text": [
      "                   all         74         82      0.511      0.317      0.309      0.121\n"
     ]
    },
    {
     "name": "stderr",
     "output_type": "stream",
     "text": [
      "\n"
     ]
    },
    {
     "name": "stdout",
     "output_type": "stream",
     "text": [
      "\n",
      "      Epoch    GPU_mem   box_loss   cls_loss   dfl_loss  Instances       Size\n"
     ]
    },
    {
     "name": "stderr",
     "output_type": "stream",
     "text": [
      "     37/100      2.05G     0.9458     0.8874      1.225         10        640: 100%|██████████| 58/58 [00:05<00:00, 10.10it/s]\n",
      "                 Class     Images  Instances      Box(P          R      mAP50  mAP50-95): 100%|██████████| 5/5 [00:00<00:00,  9.66it/s]"
     ]
    },
    {
     "name": "stdout",
     "output_type": "stream",
     "text": [
      "                   all         74         82      0.581      0.321      0.313      0.128\n"
     ]
    },
    {
     "name": "stderr",
     "output_type": "stream",
     "text": [
      "\n"
     ]
    },
    {
     "name": "stdout",
     "output_type": "stream",
     "text": [
      "\n",
      "      Epoch    GPU_mem   box_loss   cls_loss   dfl_loss  Instances       Size\n"
     ]
    },
    {
     "name": "stderr",
     "output_type": "stream",
     "text": [
      "     38/100      2.05G     0.9651     0.9326      1.228          1        640: 100%|██████████| 58/58 [00:05<00:00, 10.21it/s]\n",
      "                 Class     Images  Instances      Box(P          R      mAP50  mAP50-95): 100%|██████████| 5/5 [00:00<00:00,  9.54it/s]"
     ]
    },
    {
     "name": "stdout",
     "output_type": "stream",
     "text": [
      "                   all         74         82      0.568      0.268      0.286      0.123\n"
     ]
    },
    {
     "name": "stderr",
     "output_type": "stream",
     "text": [
      "\n"
     ]
    },
    {
     "name": "stdout",
     "output_type": "stream",
     "text": [
      "\n",
      "      Epoch    GPU_mem   box_loss   cls_loss   dfl_loss  Instances       Size\n"
     ]
    },
    {
     "name": "stderr",
     "output_type": "stream",
     "text": [
      "     39/100      2.05G     0.9647     0.9574      1.181          6        640: 100%|██████████| 58/58 [00:05<00:00, 10.07it/s]\n",
      "                 Class     Images  Instances      Box(P          R      mAP50  mAP50-95): 100%|██████████| 5/5 [00:00<00:00,  9.30it/s]"
     ]
    },
    {
     "name": "stdout",
     "output_type": "stream",
     "text": [
      "                   all         74         82      0.763      0.244      0.298      0.136\n"
     ]
    },
    {
     "name": "stderr",
     "output_type": "stream",
     "text": [
      "\n"
     ]
    },
    {
     "name": "stdout",
     "output_type": "stream",
     "text": [
      "\n",
      "      Epoch    GPU_mem   box_loss   cls_loss   dfl_loss  Instances       Size\n"
     ]
    },
    {
     "name": "stderr",
     "output_type": "stream",
     "text": [
      "     40/100      2.05G     0.9553     0.9863      1.233          5        640: 100%|██████████| 58/58 [00:06<00:00,  9.65it/s]\n",
      "                 Class     Images  Instances      Box(P          R      mAP50  mAP50-95): 100%|██████████| 5/5 [00:00<00:00,  9.29it/s]"
     ]
    },
    {
     "name": "stdout",
     "output_type": "stream",
     "text": [
      "                   all         74         82      0.379      0.354        0.3      0.134\n"
     ]
    },
    {
     "name": "stderr",
     "output_type": "stream",
     "text": [
      "\n"
     ]
    },
    {
     "name": "stdout",
     "output_type": "stream",
     "text": [
      "\n",
      "      Epoch    GPU_mem   box_loss   cls_loss   dfl_loss  Instances       Size\n"
     ]
    },
    {
     "name": "stderr",
     "output_type": "stream",
     "text": [
      "     41/100      2.05G     0.9635     0.9114      1.207          4        640: 100%|██████████| 58/58 [00:05<00:00,  9.92it/s]\n",
      "                 Class     Images  Instances      Box(P          R      mAP50  mAP50-95): 100%|██████████| 5/5 [00:00<00:00,  9.48it/s]"
     ]
    },
    {
     "name": "stdout",
     "output_type": "stream",
     "text": [
      "                   all         74         82      0.558      0.305      0.302      0.135\n"
     ]
    },
    {
     "name": "stderr",
     "output_type": "stream",
     "text": [
      "\n"
     ]
    },
    {
     "name": "stdout",
     "output_type": "stream",
     "text": [
      "\n",
      "      Epoch    GPU_mem   box_loss   cls_loss   dfl_loss  Instances       Size\n"
     ]
    },
    {
     "name": "stderr",
     "output_type": "stream",
     "text": [
      "     42/100      2.05G     0.9719     0.9346      1.203          2        640: 100%|██████████| 58/58 [00:05<00:00,  9.67it/s]\n",
      "                 Class     Images  Instances      Box(P          R      mAP50  mAP50-95): 100%|██████████| 5/5 [00:00<00:00,  8.85it/s]"
     ]
    },
    {
     "name": "stdout",
     "output_type": "stream",
     "text": [
      "                   all         74         82      0.621      0.317      0.325      0.143\n"
     ]
    },
    {
     "name": "stderr",
     "output_type": "stream",
     "text": [
      "\n"
     ]
    },
    {
     "name": "stdout",
     "output_type": "stream",
     "text": [
      "\n",
      "      Epoch    GPU_mem   box_loss   cls_loss   dfl_loss  Instances       Size\n"
     ]
    },
    {
     "name": "stderr",
     "output_type": "stream",
     "text": [
      "     43/100      2.05G     0.8706     0.8176      1.183          4        640: 100%|██████████| 58/58 [00:05<00:00, 10.06it/s]\n",
      "                 Class     Images  Instances      Box(P          R      mAP50  mAP50-95): 100%|██████████| 5/5 [00:00<00:00,  9.43it/s]"
     ]
    },
    {
     "name": "stdout",
     "output_type": "stream",
     "text": [
      "                   all         74         82      0.584      0.293      0.318      0.147\n"
     ]
    },
    {
     "name": "stderr",
     "output_type": "stream",
     "text": [
      "\n"
     ]
    },
    {
     "name": "stdout",
     "output_type": "stream",
     "text": [
      "\n",
      "      Epoch    GPU_mem   box_loss   cls_loss   dfl_loss  Instances       Size\n"
     ]
    },
    {
     "name": "stderr",
     "output_type": "stream",
     "text": [
      "     44/100      2.05G      0.907     0.8382      1.214          3        640: 100%|██████████| 58/58 [00:05<00:00, 10.16it/s]\n",
      "                 Class     Images  Instances      Box(P          R      mAP50  mAP50-95): 100%|██████████| 5/5 [00:00<00:00,  9.69it/s]"
     ]
    },
    {
     "name": "stdout",
     "output_type": "stream",
     "text": [
      "                   all         74         82      0.762      0.256      0.306      0.149\n"
     ]
    },
    {
     "name": "stderr",
     "output_type": "stream",
     "text": [
      "\n"
     ]
    },
    {
     "name": "stdout",
     "output_type": "stream",
     "text": [
      "\n",
      "      Epoch    GPU_mem   box_loss   cls_loss   dfl_loss  Instances       Size\n"
     ]
    },
    {
     "name": "stderr",
     "output_type": "stream",
     "text": [
      "     45/100      2.05G     0.8414     0.7856      1.138          8        640: 100%|██████████| 58/58 [00:05<00:00, 10.17it/s]\n",
      "                 Class     Images  Instances      Box(P          R      mAP50  mAP50-95): 100%|██████████| 5/5 [00:00<00:00,  9.32it/s]"
     ]
    },
    {
     "name": "stdout",
     "output_type": "stream",
     "text": [
      "                   all         74         82      0.599      0.317      0.281      0.148\n"
     ]
    },
    {
     "name": "stderr",
     "output_type": "stream",
     "text": [
      "\n"
     ]
    },
    {
     "name": "stdout",
     "output_type": "stream",
     "text": [
      "\n",
      "      Epoch    GPU_mem   box_loss   cls_loss   dfl_loss  Instances       Size\n"
     ]
    },
    {
     "name": "stderr",
     "output_type": "stream",
     "text": [
      "     46/100      2.05G     0.8915     0.8205       1.18          7        640: 100%|██████████| 58/58 [00:05<00:00, 10.08it/s]\n",
      "                 Class     Images  Instances      Box(P          R      mAP50  mAP50-95): 100%|██████████| 5/5 [00:00<00:00,  9.31it/s]"
     ]
    },
    {
     "name": "stdout",
     "output_type": "stream",
     "text": [
      "                   all         74         82       0.61      0.329       0.31      0.157\n"
     ]
    },
    {
     "name": "stderr",
     "output_type": "stream",
     "text": [
      "\n"
     ]
    },
    {
     "name": "stdout",
     "output_type": "stream",
     "text": [
      "\n",
      "      Epoch    GPU_mem   box_loss   cls_loss   dfl_loss  Instances       Size\n"
     ]
    },
    {
     "name": "stderr",
     "output_type": "stream",
     "text": [
      "     47/100      2.05G     0.8533     0.7862      1.158          7        640: 100%|██████████| 58/58 [00:05<00:00, 10.14it/s]\n",
      "                 Class     Images  Instances      Box(P          R      mAP50  mAP50-95): 100%|██████████| 5/5 [00:00<00:00,  9.68it/s]"
     ]
    },
    {
     "name": "stdout",
     "output_type": "stream",
     "text": [
      "                   all         74         82      0.745      0.293      0.342      0.167\n"
     ]
    },
    {
     "name": "stderr",
     "output_type": "stream",
     "text": [
      "\n"
     ]
    },
    {
     "name": "stdout",
     "output_type": "stream",
     "text": [
      "\n",
      "      Epoch    GPU_mem   box_loss   cls_loss   dfl_loss  Instances       Size\n"
     ]
    },
    {
     "name": "stderr",
     "output_type": "stream",
     "text": [
      "     48/100      2.05G     0.8913     0.8453      1.172          6        640: 100%|██████████| 58/58 [00:05<00:00,  9.80it/s]\n",
      "                 Class     Images  Instances      Box(P          R      mAP50  mAP50-95): 100%|██████████| 5/5 [00:00<00:00,  9.69it/s]"
     ]
    },
    {
     "name": "stdout",
     "output_type": "stream",
     "text": [
      "                   all         74         82      0.743      0.293      0.341      0.168\n"
     ]
    },
    {
     "name": "stderr",
     "output_type": "stream",
     "text": [
      "\n"
     ]
    },
    {
     "name": "stdout",
     "output_type": "stream",
     "text": [
      "\n",
      "      Epoch    GPU_mem   box_loss   cls_loss   dfl_loss  Instances       Size\n"
     ]
    },
    {
     "name": "stderr",
     "output_type": "stream",
     "text": [
      "     49/100      2.05G     0.8635     0.8175      1.169          5        640: 100%|██████████| 58/58 [00:05<00:00,  9.77it/s]\n",
      "                 Class     Images  Instances      Box(P          R      mAP50  mAP50-95): 100%|██████████| 5/5 [00:00<00:00,  9.89it/s]"
     ]
    },
    {
     "name": "stdout",
     "output_type": "stream",
     "text": [
      "                   all         74         82      0.652      0.317      0.321      0.144\n"
     ]
    },
    {
     "name": "stderr",
     "output_type": "stream",
     "text": [
      "\n"
     ]
    },
    {
     "name": "stdout",
     "output_type": "stream",
     "text": [
      "\n",
      "      Epoch    GPU_mem   box_loss   cls_loss   dfl_loss  Instances       Size\n"
     ]
    },
    {
     "name": "stderr",
     "output_type": "stream",
     "text": [
      "     50/100      2.05G     0.8221     0.8009      1.163          6        640: 100%|██████████| 58/58 [00:05<00:00, 10.10it/s]\n",
      "                 Class     Images  Instances      Box(P          R      mAP50  mAP50-95): 100%|██████████| 5/5 [00:00<00:00,  9.14it/s]"
     ]
    },
    {
     "name": "stdout",
     "output_type": "stream",
     "text": [
      "                   all         74         82      0.527      0.354      0.349      0.172\n"
     ]
    },
    {
     "name": "stderr",
     "output_type": "stream",
     "text": [
      "\n"
     ]
    },
    {
     "name": "stdout",
     "output_type": "stream",
     "text": [
      "\n",
      "      Epoch    GPU_mem   box_loss   cls_loss   dfl_loss  Instances       Size\n"
     ]
    },
    {
     "name": "stderr",
     "output_type": "stream",
     "text": [
      "     51/100      2.05G     0.8683     0.8276      1.173          7        640: 100%|██████████| 58/58 [00:05<00:00,  9.83it/s]\n",
      "                 Class     Images  Instances      Box(P          R      mAP50  mAP50-95): 100%|██████████| 5/5 [00:00<00:00,  9.72it/s]"
     ]
    },
    {
     "name": "stdout",
     "output_type": "stream",
     "text": [
      "                   all         74         82      0.551      0.317      0.359      0.172\n"
     ]
    },
    {
     "name": "stderr",
     "output_type": "stream",
     "text": [
      "\n"
     ]
    },
    {
     "name": "stdout",
     "output_type": "stream",
     "text": [
      "\n",
      "      Epoch    GPU_mem   box_loss   cls_loss   dfl_loss  Instances       Size\n"
     ]
    },
    {
     "name": "stderr",
     "output_type": "stream",
     "text": [
      "     52/100      2.05G     0.9085     0.8689      1.207          7        640: 100%|██████████| 58/58 [00:05<00:00,  9.71it/s]\n",
      "                 Class     Images  Instances      Box(P          R      mAP50  mAP50-95): 100%|██████████| 5/5 [00:00<00:00,  9.46it/s]"
     ]
    },
    {
     "name": "stdout",
     "output_type": "stream",
     "text": [
      "                   all         74         82      0.577       0.28      0.309      0.155\n"
     ]
    },
    {
     "name": "stderr",
     "output_type": "stream",
     "text": [
      "\n"
     ]
    },
    {
     "name": "stdout",
     "output_type": "stream",
     "text": [
      "\n",
      "      Epoch    GPU_mem   box_loss   cls_loss   dfl_loss  Instances       Size\n"
     ]
    },
    {
     "name": "stderr",
     "output_type": "stream",
     "text": [
      "     53/100      2.06G     0.8641      0.803      1.172          3        640: 100%|██████████| 58/58 [00:05<00:00, 10.07it/s]\n",
      "                 Class     Images  Instances      Box(P          R      mAP50  mAP50-95): 100%|██████████| 5/5 [00:00<00:00,  9.51it/s]"
     ]
    },
    {
     "name": "stdout",
     "output_type": "stream",
     "text": [
      "                   all         74         82      0.685      0.238      0.284       0.14\n"
     ]
    },
    {
     "name": "stderr",
     "output_type": "stream",
     "text": [
      "\n"
     ]
    },
    {
     "name": "stdout",
     "output_type": "stream",
     "text": [
      "\n",
      "      Epoch    GPU_mem   box_loss   cls_loss   dfl_loss  Instances       Size\n"
     ]
    },
    {
     "name": "stderr",
     "output_type": "stream",
     "text": [
      "     54/100      2.06G      0.857     0.8485      1.171          4        640: 100%|██████████| 58/58 [00:05<00:00, 10.07it/s]\n",
      "                 Class     Images  Instances      Box(P          R      mAP50  mAP50-95): 100%|██████████| 5/5 [00:00<00:00, 10.09it/s]"
     ]
    },
    {
     "name": "stdout",
     "output_type": "stream",
     "text": [
      "                   all         74         82      0.497      0.305       0.32      0.152\n"
     ]
    },
    {
     "name": "stderr",
     "output_type": "stream",
     "text": [
      "\n"
     ]
    },
    {
     "name": "stdout",
     "output_type": "stream",
     "text": [
      "\n",
      "      Epoch    GPU_mem   box_loss   cls_loss   dfl_loss  Instances       Size\n"
     ]
    },
    {
     "name": "stderr",
     "output_type": "stream",
     "text": [
      "     55/100      2.06G     0.8886     0.8311      1.173          4        640: 100%|██████████| 58/58 [00:05<00:00, 10.16it/s]\n",
      "                 Class     Images  Instances      Box(P          R      mAP50  mAP50-95): 100%|██████████| 5/5 [00:00<00:00,  9.66it/s]"
     ]
    },
    {
     "name": "stdout",
     "output_type": "stream",
     "text": [
      "                   all         74         82      0.587      0.317      0.336      0.155\n"
     ]
    },
    {
     "name": "stderr",
     "output_type": "stream",
     "text": [
      "\n"
     ]
    },
    {
     "name": "stdout",
     "output_type": "stream",
     "text": [
      "\n",
      "      Epoch    GPU_mem   box_loss   cls_loss   dfl_loss  Instances       Size\n"
     ]
    },
    {
     "name": "stderr",
     "output_type": "stream",
     "text": [
      "     56/100      2.06G     0.8212     0.7638      1.151          3        640: 100%|██████████| 58/58 [00:05<00:00, 10.24it/s]\n",
      "                 Class     Images  Instances      Box(P          R      mAP50  mAP50-95): 100%|██████████| 5/5 [00:00<00:00,  9.85it/s]"
     ]
    },
    {
     "name": "stdout",
     "output_type": "stream",
     "text": [
      "                   all         74         82      0.563      0.268      0.295      0.152\n"
     ]
    },
    {
     "name": "stderr",
     "output_type": "stream",
     "text": [
      "\n"
     ]
    },
    {
     "name": "stdout",
     "output_type": "stream",
     "text": [
      "\n",
      "      Epoch    GPU_mem   box_loss   cls_loss   dfl_loss  Instances       Size\n"
     ]
    },
    {
     "name": "stderr",
     "output_type": "stream",
     "text": [
      "     57/100      2.06G     0.8204     0.7186      1.128          2        640: 100%|██████████| 58/58 [00:05<00:00, 10.19it/s]\n",
      "                 Class     Images  Instances      Box(P          R      mAP50  mAP50-95): 100%|██████████| 5/5 [00:00<00:00,  9.44it/s]"
     ]
    },
    {
     "name": "stdout",
     "output_type": "stream",
     "text": [
      "                   all         74         82      0.586      0.268      0.295      0.149\n"
     ]
    },
    {
     "name": "stderr",
     "output_type": "stream",
     "text": [
      "\n"
     ]
    },
    {
     "name": "stdout",
     "output_type": "stream",
     "text": [
      "\n",
      "      Epoch    GPU_mem   box_loss   cls_loss   dfl_loss  Instances       Size\n"
     ]
    },
    {
     "name": "stderr",
     "output_type": "stream",
     "text": [
      "     58/100      2.06G     0.8195      0.777      1.135          3        640: 100%|██████████| 58/58 [00:05<00:00, 10.05it/s]\n",
      "                 Class     Images  Instances      Box(P          R      mAP50  mAP50-95): 100%|██████████| 5/5 [00:00<00:00,  9.38it/s]"
     ]
    },
    {
     "name": "stdout",
     "output_type": "stream",
     "text": [
      "                   all         74         82      0.674      0.244      0.286      0.141\n"
     ]
    },
    {
     "name": "stderr",
     "output_type": "stream",
     "text": [
      "\n"
     ]
    },
    {
     "name": "stdout",
     "output_type": "stream",
     "text": [
      "\n",
      "      Epoch    GPU_mem   box_loss   cls_loss   dfl_loss  Instances       Size\n"
     ]
    },
    {
     "name": "stderr",
     "output_type": "stream",
     "text": [
      "     59/100      2.06G     0.8407     0.7615      1.154          2        640: 100%|██████████| 58/58 [00:05<00:00, 10.09it/s]\n",
      "                 Class     Images  Instances      Box(P          R      mAP50  mAP50-95): 100%|██████████| 5/5 [00:00<00:00,  9.39it/s]"
     ]
    },
    {
     "name": "stdout",
     "output_type": "stream",
     "text": [
      "                   all         74         82      0.415      0.317      0.286      0.145\n"
     ]
    },
    {
     "name": "stderr",
     "output_type": "stream",
     "text": [
      "\n"
     ]
    },
    {
     "name": "stdout",
     "output_type": "stream",
     "text": [
      "\n",
      "      Epoch    GPU_mem   box_loss   cls_loss   dfl_loss  Instances       Size\n"
     ]
    },
    {
     "name": "stderr",
     "output_type": "stream",
     "text": [
      "     60/100      2.06G     0.7929     0.7556      1.107          3        640: 100%|██████████| 58/58 [00:05<00:00, 10.08it/s]\n",
      "                 Class     Images  Instances      Box(P          R      mAP50  mAP50-95): 100%|██████████| 5/5 [00:00<00:00,  9.65it/s]"
     ]
    },
    {
     "name": "stdout",
     "output_type": "stream",
     "text": [
      "                   all         74         82      0.623       0.28      0.306      0.141\n"
     ]
    },
    {
     "name": "stderr",
     "output_type": "stream",
     "text": [
      "\n"
     ]
    },
    {
     "name": "stdout",
     "output_type": "stream",
     "text": [
      "\n",
      "      Epoch    GPU_mem   box_loss   cls_loss   dfl_loss  Instances       Size\n"
     ]
    },
    {
     "name": "stderr",
     "output_type": "stream",
     "text": [
      "     61/100      2.06G     0.7581     0.7053      1.087          3        640: 100%|██████████| 58/58 [00:05<00:00,  9.81it/s]\n",
      "                 Class     Images  Instances      Box(P          R      mAP50  mAP50-95): 100%|██████████| 5/5 [00:00<00:00,  9.42it/s]"
     ]
    },
    {
     "name": "stdout",
     "output_type": "stream",
     "text": [
      "                   all         74         82      0.573      0.329        0.3      0.131\n"
     ]
    },
    {
     "name": "stderr",
     "output_type": "stream",
     "text": [
      "\n"
     ]
    },
    {
     "name": "stdout",
     "output_type": "stream",
     "text": [
      "\n",
      "      Epoch    GPU_mem   box_loss   cls_loss   dfl_loss  Instances       Size\n"
     ]
    },
    {
     "name": "stderr",
     "output_type": "stream",
     "text": [
      "     62/100      2.06G     0.7889     0.7435      1.146          4        640: 100%|██████████| 58/58 [00:05<00:00,  9.77it/s]\n",
      "                 Class     Images  Instances      Box(P          R      mAP50  mAP50-95): 100%|██████████| 5/5 [00:00<00:00,  9.65it/s]"
     ]
    },
    {
     "name": "stdout",
     "output_type": "stream",
     "text": [
      "                   all         74         82      0.528       0.28      0.278      0.132\n"
     ]
    },
    {
     "name": "stderr",
     "output_type": "stream",
     "text": [
      "\n"
     ]
    },
    {
     "name": "stdout",
     "output_type": "stream",
     "text": [
      "\n",
      "      Epoch    GPU_mem   box_loss   cls_loss   dfl_loss  Instances       Size\n"
     ]
    },
    {
     "name": "stderr",
     "output_type": "stream",
     "text": [
      "     63/100      2.06G     0.7743      0.702      1.101          3        640: 100%|██████████| 58/58 [00:05<00:00, 10.00it/s]\n",
      "                 Class     Images  Instances      Box(P          R      mAP50  mAP50-95): 100%|██████████| 5/5 [00:00<00:00,  9.56it/s]"
     ]
    },
    {
     "name": "stdout",
     "output_type": "stream",
     "text": [
      "                   all         74         82      0.614       0.28      0.296      0.151\n"
     ]
    },
    {
     "name": "stderr",
     "output_type": "stream",
     "text": [
      "\n"
     ]
    },
    {
     "name": "stdout",
     "output_type": "stream",
     "text": [
      "\n",
      "      Epoch    GPU_mem   box_loss   cls_loss   dfl_loss  Instances       Size\n"
     ]
    },
    {
     "name": "stderr",
     "output_type": "stream",
     "text": [
      "     64/100      2.06G     0.7471      0.725      1.099          4        640: 100%|██████████| 58/58 [00:05<00:00, 10.14it/s]\n",
      "                 Class     Images  Instances      Box(P          R      mAP50  mAP50-95): 100%|██████████| 5/5 [00:00<00:00,  9.41it/s]"
     ]
    },
    {
     "name": "stdout",
     "output_type": "stream",
     "text": [
      "                   all         74         82      0.639      0.305      0.315      0.147\n"
     ]
    },
    {
     "name": "stderr",
     "output_type": "stream",
     "text": [
      "\n"
     ]
    },
    {
     "name": "stdout",
     "output_type": "stream",
     "text": [
      "\n",
      "      Epoch    GPU_mem   box_loss   cls_loss   dfl_loss  Instances       Size\n"
     ]
    },
    {
     "name": "stderr",
     "output_type": "stream",
     "text": [
      "     65/100      2.06G     0.7802     0.6925      1.106          4        640: 100%|██████████| 58/58 [00:05<00:00, 10.09it/s]\n",
      "                 Class     Images  Instances      Box(P          R      mAP50  mAP50-95): 100%|██████████| 5/5 [00:00<00:00,  9.54it/s]"
     ]
    },
    {
     "name": "stdout",
     "output_type": "stream",
     "text": [
      "                   all         74         82        0.7      0.268       0.29      0.142\n"
     ]
    },
    {
     "name": "stderr",
     "output_type": "stream",
     "text": [
      "\n"
     ]
    },
    {
     "name": "stdout",
     "output_type": "stream",
     "text": [
      "\n",
      "      Epoch    GPU_mem   box_loss   cls_loss   dfl_loss  Instances       Size\n"
     ]
    },
    {
     "name": "stderr",
     "output_type": "stream",
     "text": [
      "     66/100      2.06G      0.767     0.6949       1.12          2        640: 100%|██████████| 58/58 [00:05<00:00, 10.10it/s]\n",
      "                 Class     Images  Instances      Box(P          R      mAP50  mAP50-95): 100%|██████████| 5/5 [00:00<00:00,  9.47it/s]"
     ]
    },
    {
     "name": "stdout",
     "output_type": "stream",
     "text": [
      "                   all         74         82      0.731       0.28      0.302      0.153\n"
     ]
    },
    {
     "name": "stderr",
     "output_type": "stream",
     "text": [
      "\n"
     ]
    },
    {
     "name": "stdout",
     "output_type": "stream",
     "text": [
      "\n",
      "      Epoch    GPU_mem   box_loss   cls_loss   dfl_loss  Instances       Size\n"
     ]
    },
    {
     "name": "stderr",
     "output_type": "stream",
     "text": [
      "     67/100      2.06G     0.7571     0.7083      1.083          3        640: 100%|██████████| 58/58 [00:05<00:00,  9.93it/s]\n",
      "                 Class     Images  Instances      Box(P          R      mAP50  mAP50-95): 100%|██████████| 5/5 [00:00<00:00,  9.39it/s]"
     ]
    },
    {
     "name": "stdout",
     "output_type": "stream",
     "text": [
      "                   all         74         82      0.759      0.293      0.337      0.159\n"
     ]
    },
    {
     "name": "stderr",
     "output_type": "stream",
     "text": [
      "\n"
     ]
    },
    {
     "name": "stdout",
     "output_type": "stream",
     "text": [
      "\n",
      "      Epoch    GPU_mem   box_loss   cls_loss   dfl_loss  Instances       Size\n"
     ]
    },
    {
     "name": "stderr",
     "output_type": "stream",
     "text": [
      "     68/100      2.06G     0.7629     0.7348      1.105          1        640: 100%|██████████| 58/58 [00:05<00:00,  9.83it/s]\n",
      "                 Class     Images  Instances      Box(P          R      mAP50  mAP50-95): 100%|██████████| 5/5 [00:00<00:00,  9.66it/s]"
     ]
    },
    {
     "name": "stdout",
     "output_type": "stream",
     "text": [
      "                   all         74         82      0.637      0.305      0.341      0.162\n"
     ]
    },
    {
     "name": "stderr",
     "output_type": "stream",
     "text": [
      "\n"
     ]
    },
    {
     "name": "stdout",
     "output_type": "stream",
     "text": [
      "\n",
      "      Epoch    GPU_mem   box_loss   cls_loss   dfl_loss  Instances       Size\n"
     ]
    },
    {
     "name": "stderr",
     "output_type": "stream",
     "text": [
      "     69/100      2.06G     0.7763     0.6999      1.105          7        640: 100%|██████████| 58/58 [00:05<00:00, 10.22it/s]\n",
      "                 Class     Images  Instances      Box(P          R      mAP50  mAP50-95): 100%|██████████| 5/5 [00:00<00:00,  9.96it/s]"
     ]
    },
    {
     "name": "stdout",
     "output_type": "stream",
     "text": [
      "                   all         74         82      0.727      0.305      0.338      0.163\n"
     ]
    },
    {
     "name": "stderr",
     "output_type": "stream",
     "text": [
      "\n"
     ]
    },
    {
     "name": "stdout",
     "output_type": "stream",
     "text": [
      "\n",
      "      Epoch    GPU_mem   box_loss   cls_loss   dfl_loss  Instances       Size\n"
     ]
    },
    {
     "name": "stderr",
     "output_type": "stream",
     "text": [
      "     70/100      2.06G     0.7035     0.6195      1.089          1        640: 100%|██████████| 58/58 [00:05<00:00,  9.88it/s]\n",
      "                 Class     Images  Instances      Box(P          R      mAP50  mAP50-95): 100%|██████████| 5/5 [00:00<00:00,  9.67it/s]"
     ]
    },
    {
     "name": "stdout",
     "output_type": "stream",
     "text": [
      "                   all         74         82      0.687      0.305      0.339      0.162\n"
     ]
    },
    {
     "name": "stderr",
     "output_type": "stream",
     "text": [
      "\n"
     ]
    },
    {
     "name": "stdout",
     "output_type": "stream",
     "text": [
      "\n",
      "      Epoch    GPU_mem   box_loss   cls_loss   dfl_loss  Instances       Size\n"
     ]
    },
    {
     "name": "stderr",
     "output_type": "stream",
     "text": [
      "     71/100      2.06G     0.7564     0.7106      1.096          2        640: 100%|██████████| 58/58 [00:05<00:00, 10.22it/s]\n",
      "                 Class     Images  Instances      Box(P          R      mAP50  mAP50-95): 100%|██████████| 5/5 [00:00<00:00, 10.46it/s]"
     ]
    },
    {
     "name": "stdout",
     "output_type": "stream",
     "text": [
      "                   all         74         82      0.733      0.305      0.346      0.166\n",
      "\u001B[34m\u001B[1mEarlyStopping: \u001B[0mTraining stopped early as no improvement observed in last 20 epochs. Best results observed at epoch 51, best model saved as best.pt.\n",
      "To update EarlyStopping(patience=20) pass a new patience value, i.e. `patience=300` or use `patience=0` to disable EarlyStopping.\n"
     ]
    },
    {
     "name": "stderr",
     "output_type": "stream",
     "text": [
      "\n"
     ]
    },
    {
     "name": "stdout",
     "output_type": "stream",
     "text": [
      "\n",
      "71 epochs completed in 0.152 hours.\n",
      "Optimizer stripped from E:\\shittymikshitson\\runs\\weapon_detection_weapon-detection.v1i.yolov8\\weights\\last.pt, 22.6MB\n",
      "Optimizer stripped from E:\\shittymikshitson\\runs\\weapon_detection_weapon-detection.v1i.yolov8\\weights\\best.pt, 22.6MB\n",
      "\n",
      "Validating E:\\shittymikshitson\\runs\\weapon_detection_weapon-detection.v1i.yolov8\\weights\\best.pt...\n",
      "Ultralytics 8.3.99  Python-3.11.9 torch-2.0.1+cu117 CUDA:0 (NVIDIA GeForce RTX 3060 Ti, 8191MiB)\n",
      "Model summary (fused): 72 layers, 11,125,971 parameters, 0 gradients, 28.4 GFLOPs\n"
     ]
    },
    {
     "name": "stderr",
     "output_type": "stream",
     "text": [
      "                 Class     Images  Instances      Box(P          R      mAP50  mAP50-95): 100%|██████████| 5/5 [00:01<00:00,  4.98it/s]\n"
     ]
    },
    {
     "name": "stdout",
     "output_type": "stream",
     "text": [
      "                   all         74         82      0.555      0.319      0.359      0.172\n",
      "Speed: 0.9ms preprocess, 5.7ms inference, 0.0ms loss, 1.3ms postprocess per image\n",
      "Results saved to \u001B[1mE:\\shittymikshitson\\runs\\weapon_detection_weapon-detection.v1i.yolov8\u001B[0m\n",
      "\n",
      "=== Training Complete ===\n",
      "\n",
      "=== Running Validation ===\n",
      "Ultralytics 8.3.99  Python-3.11.9 torch-2.0.1+cu117 CUDA:0 (NVIDIA GeForce RTX 3060 Ti, 8191MiB)\n",
      "Model summary (fused): 72 layers, 11,125,971 parameters, 0 gradients, 28.4 GFLOPs\n"
     ]
    },
    {
     "name": "stderr",
     "output_type": "stream",
     "text": [
      "\u001B[34m\u001B[1mval: \u001B[0mScanning E:\\shittymikshitson\\extracted_datasets\\weapon-detection.v1i.yolov8\\valid\\labels.cache... 74 images, 1 backgrounds, 0 corrupt: 100%|██████████| 74/74 [00:00<?, ?it/s]\n",
      "                 Class     Images  Instances      Box(P          R      mAP50  mAP50-95): 100%|██████████| 10/10 [00:03<00:00,  3.07it/s]\n"
     ]
    },
    {
     "name": "stdout",
     "output_type": "stream",
     "text": [
      "                   all         74         82      0.555      0.319      0.359      0.172\n",
      "Speed: 0.9ms preprocess, 8.5ms inference, 0.0ms loss, 1.2ms postprocess per image\n",
      "Results saved to \u001B[1mE:\\shittymikshitson\\runs\\weapon_detection_weapon-detection.v1i.yolov8\u001B[0m\n",
      "\n",
      "=== Exporting Model ===\n",
      "Ultralytics 8.3.99  Python-3.11.9 torch-2.0.1+cu117 CPU (AMD Ryzen 5 5600 6-Core Processor)\n",
      "\n",
      "\u001B[34m\u001B[1mPyTorch:\u001B[0m starting from 'E:\\shittymikshitson\\runs\\weapon_detection_weapon-detection.v1i.yolov8\\weights\\best.pt' with input shape (1, 3, 640, 640) BCHW and output shape(s) (1, 5, 8400) (21.5 MB)\n",
      "\n",
      "\u001B[34m\u001B[1mONNX:\u001B[0m starting export with onnx 1.17.0 opset 17...\n",
      "============= Diagnostic Run torch.onnx.export version 2.0.1+cu117 =============\n",
      "verbose: False, log level: Level.ERROR\n",
      "======================= 0 NONE 0 NOTE 0 WARNING 0 ERROR ========================\n",
      "\n",
      "\u001B[34m\u001B[1mONNX:\u001B[0m slimming with onnxslim 0.1.49...\n",
      "\u001B[34m\u001B[1mONNX:\u001B[0m export success  13.2s, saved as 'E:\\shittymikshitson\\runs\\weapon_detection_weapon-detection.v1i.yolov8\\weights\\best.onnx' (42.5 MB)\n",
      "\n",
      "Export complete (13.6s)\n",
      "Results saved to \u001B[1mE:\\shittymikshitson\\runs\\weapon_detection_weapon-detection.v1i.yolov8\\weights\u001B[0m\n",
      "Predict:         yolo predict task=detect model=E:\\shittymikshitson\\runs\\weapon_detection_weapon-detection.v1i.yolov8\\weights\\best.onnx imgsz=640  \n",
      "Validate:        yolo val task=detect model=E:\\shittymikshitson\\runs\\weapon_detection_weapon-detection.v1i.yolov8\\weights\\best.onnx imgsz=640 data=E:\\shittymikshitson\\extracted_datasets\\weapon-detection.v1i.yolov8\\data.yaml  \n",
      "Visualize:       https://netron.app\n",
      "\n",
      "Training on dataset weapon-detection.v1i.yolov8 completed!\n",
      "Results saved to: E:\\shittymikshitson\\runs\\weapon_detection_weapon-detection.v1i.yolov8\n",
      "\n",
      "Training on dataset: weapon-detection.v4-surveillance-perspective.yolov8\n",
      "Using YAML configuration: E:\\shittymikshitson\\extracted_datasets\\weapon-detection.v4-surveillance-perspective.yolov8\\data.yaml\n",
      "\n",
      "=== Setting up model for 3060Ti with 8GB VRAM ===\n",
      "Selected model: YOLOv8s\n",
      "Batch size: 8\n",
      "Resuming training from checkpoint: E:\\shittymikshitson\\checkpoints\\weapon-detection.v4-surveillance-perspective.yolov8.pt\n",
      "Transferred 349/355 items from pretrained weights\n",
      "\n",
      "=== Starting Training ===\n",
      "\u001B[34m\u001B[1mengine\\trainer: \u001B[0mtask=detect, mode=train, model=yolov8s.pt, data=E:\\shittymikshitson\\extracted_datasets\\weapon-detection.v4-surveillance-perspective.yolov8\\data.yaml, epochs=100, time=None, patience=20, batch=8, imgsz=640, save=True, save_period=10, cache=False, device=cuda, workers=2, project=E:\\shittymikshitson\\runs, name=weapon_detection_weapon-detection.v4-surveillance-perspective.yolov8, exist_ok=True, pretrained=True, optimizer=AdamW, verbose=True, seed=0, deterministic=True, single_cls=False, rect=False, cos_lr=True, close_mosaic=10, resume=False, amp=True, fraction=1.0, profile=False, freeze=None, multi_scale=False, overlap_mask=True, mask_ratio=4, dropout=0.0, val=True, split=val, save_json=False, save_hybrid=False, conf=None, iou=0.7, max_det=300, half=False, dnn=False, plots=True, source=None, vid_stride=1, stream_buffer=False, visualize=False, augment=False, agnostic_nms=False, classes=None, retina_masks=False, embed=None, show=False, save_frames=False, save_txt=False, save_conf=False, save_crop=False, show_labels=True, show_conf=True, show_boxes=True, line_width=None, format=torchscript, keras=False, optimize=False, int8=False, dynamic=False, simplify=True, opset=None, workspace=None, nms=False, lr0=0.001, lrf=0.01, momentum=0.937, weight_decay=0.0005, warmup_epochs=3.0, warmup_momentum=0.8, warmup_bias_lr=0.1, box=7.5, cls=0.5, dfl=1.5, pose=12.0, kobj=1.0, nbs=64, hsv_h=0.015, hsv_s=0.7, hsv_v=0.4, degrees=0.0, translate=0.1, scale=0.5, shear=0.0, perspective=0.0, flipud=0.0, fliplr=0.5, bgr=0.0, mosaic=1.0, mixup=0.0, copy_paste=0.0, copy_paste_mode=flip, auto_augment=randaugment, erasing=0.4, crop_fraction=1.0, cfg=None, tracker=botsort.yaml, save_dir=E:\\shittymikshitson\\runs\\weapon_detection_weapon-detection.v4-surveillance-perspective.yolov8\n",
      "Overriding model.yaml nc=80 with nc=1\n",
      "\n",
      "                   from  n    params  module                                       arguments                     \n",
      "  0                  -1  1       928  ultralytics.nn.modules.conv.Conv             [3, 32, 3, 2]                 \n",
      "  1                  -1  1     18560  ultralytics.nn.modules.conv.Conv             [32, 64, 3, 2]                \n",
      "  2                  -1  1     29056  ultralytics.nn.modules.block.C2f             [64, 64, 1, True]             \n",
      "  3                  -1  1     73984  ultralytics.nn.modules.conv.Conv             [64, 128, 3, 2]               \n",
      "  4                  -1  2    197632  ultralytics.nn.modules.block.C2f             [128, 128, 2, True]           \n",
      "  5                  -1  1    295424  ultralytics.nn.modules.conv.Conv             [128, 256, 3, 2]              \n",
      "  6                  -1  2    788480  ultralytics.nn.modules.block.C2f             [256, 256, 2, True]           \n",
      "  7                  -1  1   1180672  ultralytics.nn.modules.conv.Conv             [256, 512, 3, 2]              \n",
      "  8                  -1  1   1838080  ultralytics.nn.modules.block.C2f             [512, 512, 1, True]           \n",
      "  9                  -1  1    656896  ultralytics.nn.modules.block.SPPF            [512, 512, 5]                 \n",
      " 10                  -1  1         0  torch.nn.modules.upsampling.Upsample         [None, 2, 'nearest']          \n",
      " 11             [-1, 6]  1         0  ultralytics.nn.modules.conv.Concat           [1]                           \n",
      " 12                  -1  1    591360  ultralytics.nn.modules.block.C2f             [768, 256, 1]                 \n",
      " 13                  -1  1         0  torch.nn.modules.upsampling.Upsample         [None, 2, 'nearest']          \n",
      " 14             [-1, 4]  1         0  ultralytics.nn.modules.conv.Concat           [1]                           \n",
      " 15                  -1  1    148224  ultralytics.nn.modules.block.C2f             [384, 128, 1]                 \n",
      " 16                  -1  1    147712  ultralytics.nn.modules.conv.Conv             [128, 128, 3, 2]              \n",
      " 17            [-1, 12]  1         0  ultralytics.nn.modules.conv.Concat           [1]                           \n",
      " 18                  -1  1    493056  ultralytics.nn.modules.block.C2f             [384, 256, 1]                 \n",
      " 19                  -1  1    590336  ultralytics.nn.modules.conv.Conv             [256, 256, 3, 2]              \n",
      " 20             [-1, 9]  1         0  ultralytics.nn.modules.conv.Concat           [1]                           \n",
      " 21                  -1  1   1969152  ultralytics.nn.modules.block.C2f             [768, 512, 1]                 \n",
      " 22        [15, 18, 21]  1   2116435  ultralytics.nn.modules.head.Detect           [1, [128, 256, 512]]          \n",
      "Model summary: 129 layers, 11,135,987 parameters, 11,135,971 gradients, 28.6 GFLOPs\n",
      "\n",
      "Transferred 349/355 items from pretrained weights\n",
      "Freezing layer 'model.22.dfl.conv.weight'\n",
      "\u001B[34m\u001B[1mAMP: \u001B[0mrunning Automatic Mixed Precision (AMP) checks...\n",
      "\u001B[34m\u001B[1mAMP: \u001B[0mchecks passed \n"
     ]
    },
    {
     "name": "stderr",
     "output_type": "stream",
     "text": [
      "\u001B[34m\u001B[1mtrain: \u001B[0mScanning E:\\shittymikshitson\\extracted_datasets\\weapon-detection.v4-surveillance-perspective.yolov8\\train\\labels.cache... 2120 images, 230 backgrounds, 0 corrupt: 100%|██████████| 2120/2120 [00:00<?, ?it/s]\n",
      "\u001B[34m\u001B[1mval: \u001B[0mScanning E:\\shittymikshitson\\extracted_datasets\\weapon-detection.v4-surveillance-perspective.yolov8\\valid\\labels.cache... 245 images, 1 backgrounds, 0 corrupt: 100%|██████████| 245/245 [00:00<?, ?it/s]\n"
     ]
    },
    {
     "name": "stdout",
     "output_type": "stream",
     "text": [
      "Plotting labels to E:\\shittymikshitson\\runs\\weapon_detection_weapon-detection.v4-surveillance-perspective.yolov8\\labels.jpg... \n",
      "\u001B[34m\u001B[1moptimizer:\u001B[0m AdamW(lr=0.001, momentum=0.937) with parameter groups 57 weight(decay=0.0), 64 weight(decay=0.0005), 63 bias(decay=0.0)\n",
      "Image sizes 640 train, 640 val\n",
      "Using 2 dataloader workers\n",
      "Logging results to \u001B[1mE:\\shittymikshitson\\runs\\weapon_detection_weapon-detection.v4-surveillance-perspective.yolov8\u001B[0m\n",
      "Starting training for 100 epochs...\n",
      "\n",
      "      Epoch    GPU_mem   box_loss   cls_loss   dfl_loss  Instances       Size\n"
     ]
    },
    {
     "name": "stderr",
     "output_type": "stream",
     "text": [
      "      1/100      1.89G      1.205     0.9399      1.312         10        640: 100%|██████████| 265/265 [00:36<00:00,  7.17it/s]\n",
      "                 Class     Images  Instances      Box(P          R      mAP50  mAP50-95): 100%|██████████| 16/16 [00:01<00:00,  8.70it/s]"
     ]
    },
    {
     "name": "stdout",
     "output_type": "stream",
     "text": [
      "                   all        245        256      0.931      0.685      0.758      0.465\n"
     ]
    },
    {
     "name": "stderr",
     "output_type": "stream",
     "text": [
      "\n"
     ]
    },
    {
     "name": "stdout",
     "output_type": "stream",
     "text": [
      "\n",
      "      Epoch    GPU_mem   box_loss   cls_loss   dfl_loss  Instances       Size\n"
     ]
    },
    {
     "name": "stderr",
     "output_type": "stream",
     "text": [
      "      2/100      2.05G      1.132     0.8313      1.277         12        640: 100%|██████████| 265/265 [00:27<00:00,  9.72it/s]\n",
      "                 Class     Images  Instances      Box(P          R      mAP50  mAP50-95): 100%|██████████| 16/16 [00:01<00:00, 10.09it/s]"
     ]
    },
    {
     "name": "stdout",
     "output_type": "stream",
     "text": [
      "                   all        245        256      0.926      0.738      0.769      0.469\n"
     ]
    },
    {
     "name": "stderr",
     "output_type": "stream",
     "text": [
      "\n"
     ]
    },
    {
     "name": "stdout",
     "output_type": "stream",
     "text": [
      "\n",
      "      Epoch    GPU_mem   box_loss   cls_loss   dfl_loss  Instances       Size\n"
     ]
    },
    {
     "name": "stderr",
     "output_type": "stream",
     "text": [
      "      3/100      2.05G      1.112     0.8246      1.267         14        640:  73%|███████▎  | 193/265 [00:19<00:07,  9.95it/s]\n"
     ]
    },
    {
     "ename": "KeyboardInterrupt",
     "evalue": "",
     "output_type": "error",
     "traceback": [
      "\u001B[1;31m---------------------------------------------------------------------------\u001B[0m",
      "\u001B[1;31mKeyboardInterrupt\u001B[0m                         Traceback (most recent call last)",
      "Cell \u001B[1;32mIn[1], line 189\u001B[0m\n\u001B[0;32m    186\u001B[0m datasets \u001B[38;5;241m=\u001B[39m extract_and_analyze_datasets()\n\u001B[0;32m    188\u001B[0m \u001B[38;5;28;01mif\u001B[39;00m datasets:\n\u001B[1;32m--> 189\u001B[0m     \u001B[43mtrain_weapon_detector\u001B[49m\u001B[43m(\u001B[49m\u001B[43mdatasets\u001B[49m\u001B[43m)\u001B[49m\n\u001B[0;32m    190\u001B[0m \u001B[38;5;28;01melse\u001B[39;00m:\n\u001B[0;32m    191\u001B[0m     \u001B[38;5;28mprint\u001B[39m(\u001B[38;5;124m\"\u001B[39m\u001B[38;5;124mNo valid datasets found! Please check your zip files.\u001B[39m\u001B[38;5;124m\"\u001B[39m)\n",
      "Cell \u001B[1;32mIn[1], line 157\u001B[0m, in \u001B[0;36mtrain_weapon_detector\u001B[1;34m(dataset_info)\u001B[0m\n\u001B[0;32m    155\u001B[0m \u001B[38;5;28mprint\u001B[39m(\u001B[38;5;124m\"\u001B[39m\u001B[38;5;130;01m\\n\u001B[39;00m\u001B[38;5;124m=== Starting Training ===\u001B[39m\u001B[38;5;124m\"\u001B[39m)\n\u001B[0;32m    156\u001B[0m \u001B[38;5;28;01mtry\u001B[39;00m:\n\u001B[1;32m--> 157\u001B[0m     \u001B[43mmodel\u001B[49m\u001B[38;5;241;43m.\u001B[39;49m\u001B[43mtrain\u001B[49m\u001B[43m(\u001B[49m\u001B[38;5;241;43m*\u001B[39;49m\u001B[38;5;241;43m*\u001B[39;49m\u001B[43mhyperparams\u001B[49m\u001B[43m)\u001B[49m\n\u001B[0;32m    158\u001B[0m     \u001B[38;5;66;03m# Save checkpoint after training\u001B[39;00m\n\u001B[0;32m    159\u001B[0m     model\u001B[38;5;241m.\u001B[39msave(checkpoint_path)\n",
      "File \u001B[1;32m~\\PycharmProjects\\PythonProject\\.venv\\Lib\\site-packages\\ultralytics\\engine\\model.py:791\u001B[0m, in \u001B[0;36mModel.train\u001B[1;34m(self, trainer, **kwargs)\u001B[0m\n\u001B[0;32m    788\u001B[0m     \u001B[38;5;28mself\u001B[39m\u001B[38;5;241m.\u001B[39mmodel \u001B[38;5;241m=\u001B[39m \u001B[38;5;28mself\u001B[39m\u001B[38;5;241m.\u001B[39mtrainer\u001B[38;5;241m.\u001B[39mmodel\n\u001B[0;32m    790\u001B[0m \u001B[38;5;28mself\u001B[39m\u001B[38;5;241m.\u001B[39mtrainer\u001B[38;5;241m.\u001B[39mhub_session \u001B[38;5;241m=\u001B[39m \u001B[38;5;28mself\u001B[39m\u001B[38;5;241m.\u001B[39msession  \u001B[38;5;66;03m# attach optional HUB session\u001B[39;00m\n\u001B[1;32m--> 791\u001B[0m \u001B[38;5;28;43mself\u001B[39;49m\u001B[38;5;241;43m.\u001B[39;49m\u001B[43mtrainer\u001B[49m\u001B[38;5;241;43m.\u001B[39;49m\u001B[43mtrain\u001B[49m\u001B[43m(\u001B[49m\u001B[43m)\u001B[49m\n\u001B[0;32m    792\u001B[0m \u001B[38;5;66;03m# Update model and cfg after training\u001B[39;00m\n\u001B[0;32m    793\u001B[0m \u001B[38;5;28;01mif\u001B[39;00m RANK \u001B[38;5;129;01min\u001B[39;00m {\u001B[38;5;241m-\u001B[39m\u001B[38;5;241m1\u001B[39m, \u001B[38;5;241m0\u001B[39m}:\n",
      "File \u001B[1;32m~\\PycharmProjects\\PythonProject\\.venv\\Lib\\site-packages\\ultralytics\\engine\\trainer.py:211\u001B[0m, in \u001B[0;36mBaseTrainer.train\u001B[1;34m(self)\u001B[0m\n\u001B[0;32m    208\u001B[0m         ddp_cleanup(\u001B[38;5;28mself\u001B[39m, \u001B[38;5;28mstr\u001B[39m(file))\n\u001B[0;32m    210\u001B[0m \u001B[38;5;28;01melse\u001B[39;00m:\n\u001B[1;32m--> 211\u001B[0m     \u001B[38;5;28;43mself\u001B[39;49m\u001B[38;5;241;43m.\u001B[39;49m\u001B[43m_do_train\u001B[49m\u001B[43m(\u001B[49m\u001B[43mworld_size\u001B[49m\u001B[43m)\u001B[49m\n",
      "File \u001B[1;32m~\\PycharmProjects\\PythonProject\\.venv\\Lib\\site-packages\\ultralytics\\engine\\trainer.py:385\u001B[0m, in \u001B[0;36mBaseTrainer._do_train\u001B[1;34m(self, world_size)\u001B[0m\n\u001B[0;32m    383\u001B[0m \u001B[38;5;28;01mwith\u001B[39;00m autocast(\u001B[38;5;28mself\u001B[39m\u001B[38;5;241m.\u001B[39mamp):\n\u001B[0;32m    384\u001B[0m     batch \u001B[38;5;241m=\u001B[39m \u001B[38;5;28mself\u001B[39m\u001B[38;5;241m.\u001B[39mpreprocess_batch(batch)\n\u001B[1;32m--> 385\u001B[0m     loss, \u001B[38;5;28mself\u001B[39m\u001B[38;5;241m.\u001B[39mloss_items \u001B[38;5;241m=\u001B[39m \u001B[38;5;28;43mself\u001B[39;49m\u001B[38;5;241;43m.\u001B[39;49m\u001B[43mmodel\u001B[49m\u001B[43m(\u001B[49m\u001B[43mbatch\u001B[49m\u001B[43m)\u001B[49m\n\u001B[0;32m    386\u001B[0m     \u001B[38;5;28mself\u001B[39m\u001B[38;5;241m.\u001B[39mloss \u001B[38;5;241m=\u001B[39m loss\u001B[38;5;241m.\u001B[39msum()\n\u001B[0;32m    387\u001B[0m     \u001B[38;5;28;01mif\u001B[39;00m RANK \u001B[38;5;241m!=\u001B[39m \u001B[38;5;241m-\u001B[39m\u001B[38;5;241m1\u001B[39m:\n",
      "File \u001B[1;32m~\\PycharmProjects\\PythonProject\\.venv\\Lib\\site-packages\\torch\\nn\\modules\\module.py:1501\u001B[0m, in \u001B[0;36mModule._call_impl\u001B[1;34m(self, *args, **kwargs)\u001B[0m\n\u001B[0;32m   1496\u001B[0m \u001B[38;5;66;03m# If we don't have any hooks, we want to skip the rest of the logic in\u001B[39;00m\n\u001B[0;32m   1497\u001B[0m \u001B[38;5;66;03m# this function, and just call forward.\u001B[39;00m\n\u001B[0;32m   1498\u001B[0m \u001B[38;5;28;01mif\u001B[39;00m \u001B[38;5;129;01mnot\u001B[39;00m (\u001B[38;5;28mself\u001B[39m\u001B[38;5;241m.\u001B[39m_backward_hooks \u001B[38;5;129;01mor\u001B[39;00m \u001B[38;5;28mself\u001B[39m\u001B[38;5;241m.\u001B[39m_backward_pre_hooks \u001B[38;5;129;01mor\u001B[39;00m \u001B[38;5;28mself\u001B[39m\u001B[38;5;241m.\u001B[39m_forward_hooks \u001B[38;5;129;01mor\u001B[39;00m \u001B[38;5;28mself\u001B[39m\u001B[38;5;241m.\u001B[39m_forward_pre_hooks\n\u001B[0;32m   1499\u001B[0m         \u001B[38;5;129;01mor\u001B[39;00m _global_backward_pre_hooks \u001B[38;5;129;01mor\u001B[39;00m _global_backward_hooks\n\u001B[0;32m   1500\u001B[0m         \u001B[38;5;129;01mor\u001B[39;00m _global_forward_hooks \u001B[38;5;129;01mor\u001B[39;00m _global_forward_pre_hooks):\n\u001B[1;32m-> 1501\u001B[0m     \u001B[38;5;28;01mreturn\u001B[39;00m \u001B[43mforward_call\u001B[49m\u001B[43m(\u001B[49m\u001B[38;5;241;43m*\u001B[39;49m\u001B[43margs\u001B[49m\u001B[43m,\u001B[49m\u001B[43m \u001B[49m\u001B[38;5;241;43m*\u001B[39;49m\u001B[38;5;241;43m*\u001B[39;49m\u001B[43mkwargs\u001B[49m\u001B[43m)\u001B[49m\n\u001B[0;32m   1502\u001B[0m \u001B[38;5;66;03m# Do not call functions when jit is used\u001B[39;00m\n\u001B[0;32m   1503\u001B[0m full_backward_hooks, non_full_backward_hooks \u001B[38;5;241m=\u001B[39m [], []\n",
      "File \u001B[1;32m~\\PycharmProjects\\PythonProject\\.venv\\Lib\\site-packages\\ultralytics\\nn\\tasks.py:119\u001B[0m, in \u001B[0;36mBaseModel.forward\u001B[1;34m(self, x, *args, **kwargs)\u001B[0m\n\u001B[0;32m    105\u001B[0m \u001B[38;5;250m\u001B[39m\u001B[38;5;124;03m\"\"\"\u001B[39;00m\n\u001B[0;32m    106\u001B[0m \u001B[38;5;124;03mPerform forward pass of the model for either training or inference.\u001B[39;00m\n\u001B[0;32m    107\u001B[0m \n\u001B[1;32m   (...)\u001B[0m\n\u001B[0;32m    116\u001B[0m \u001B[38;5;124;03m    (torch.Tensor): Loss if x is a dict (training), or network predictions (inference).\u001B[39;00m\n\u001B[0;32m    117\u001B[0m \u001B[38;5;124;03m\"\"\"\u001B[39;00m\n\u001B[0;32m    118\u001B[0m \u001B[38;5;28;01mif\u001B[39;00m \u001B[38;5;28misinstance\u001B[39m(x, \u001B[38;5;28mdict\u001B[39m):  \u001B[38;5;66;03m# for cases of training and validating while training.\u001B[39;00m\n\u001B[1;32m--> 119\u001B[0m     \u001B[38;5;28;01mreturn\u001B[39;00m \u001B[38;5;28;43mself\u001B[39;49m\u001B[38;5;241;43m.\u001B[39;49m\u001B[43mloss\u001B[49m\u001B[43m(\u001B[49m\u001B[43mx\u001B[49m\u001B[43m,\u001B[49m\u001B[43m \u001B[49m\u001B[38;5;241;43m*\u001B[39;49m\u001B[43margs\u001B[49m\u001B[43m,\u001B[49m\u001B[43m \u001B[49m\u001B[38;5;241;43m*\u001B[39;49m\u001B[38;5;241;43m*\u001B[39;49m\u001B[43mkwargs\u001B[49m\u001B[43m)\u001B[49m\n\u001B[0;32m    120\u001B[0m \u001B[38;5;28;01mreturn\u001B[39;00m \u001B[38;5;28mself\u001B[39m\u001B[38;5;241m.\u001B[39mpredict(x, \u001B[38;5;241m*\u001B[39margs, \u001B[38;5;241m*\u001B[39m\u001B[38;5;241m*\u001B[39mkwargs)\n",
      "File \u001B[1;32m~\\PycharmProjects\\PythonProject\\.venv\\Lib\\site-packages\\ultralytics\\nn\\tasks.py:299\u001B[0m, in \u001B[0;36mBaseModel.loss\u001B[1;34m(self, batch, preds)\u001B[0m\n\u001B[0;32m    296\u001B[0m     \u001B[38;5;28mself\u001B[39m\u001B[38;5;241m.\u001B[39mcriterion \u001B[38;5;241m=\u001B[39m \u001B[38;5;28mself\u001B[39m\u001B[38;5;241m.\u001B[39minit_criterion()\n\u001B[0;32m    298\u001B[0m preds \u001B[38;5;241m=\u001B[39m \u001B[38;5;28mself\u001B[39m\u001B[38;5;241m.\u001B[39mforward(batch[\u001B[38;5;124m\"\u001B[39m\u001B[38;5;124mimg\u001B[39m\u001B[38;5;124m\"\u001B[39m]) \u001B[38;5;28;01mif\u001B[39;00m preds \u001B[38;5;129;01mis\u001B[39;00m \u001B[38;5;28;01mNone\u001B[39;00m \u001B[38;5;28;01melse\u001B[39;00m preds\n\u001B[1;32m--> 299\u001B[0m \u001B[38;5;28;01mreturn\u001B[39;00m \u001B[38;5;28;43mself\u001B[39;49m\u001B[38;5;241;43m.\u001B[39;49m\u001B[43mcriterion\u001B[49m\u001B[43m(\u001B[49m\u001B[43mpreds\u001B[49m\u001B[43m,\u001B[49m\u001B[43m \u001B[49m\u001B[43mbatch\u001B[49m\u001B[43m)\u001B[49m\n",
      "File \u001B[1;32m~\\PycharmProjects\\PythonProject\\.venv\\Lib\\site-packages\\ultralytics\\utils\\loss.py:219\u001B[0m, in \u001B[0;36mv8DetectionLoss.__call__\u001B[1;34m(self, preds, batch)\u001B[0m\n\u001B[0;32m    217\u001B[0m \u001B[38;5;66;03m# Targets\u001B[39;00m\n\u001B[0;32m    218\u001B[0m targets \u001B[38;5;241m=\u001B[39m torch\u001B[38;5;241m.\u001B[39mcat((batch[\u001B[38;5;124m\"\u001B[39m\u001B[38;5;124mbatch_idx\u001B[39m\u001B[38;5;124m\"\u001B[39m]\u001B[38;5;241m.\u001B[39mview(\u001B[38;5;241m-\u001B[39m\u001B[38;5;241m1\u001B[39m, \u001B[38;5;241m1\u001B[39m), batch[\u001B[38;5;124m\"\u001B[39m\u001B[38;5;124mcls\u001B[39m\u001B[38;5;124m\"\u001B[39m]\u001B[38;5;241m.\u001B[39mview(\u001B[38;5;241m-\u001B[39m\u001B[38;5;241m1\u001B[39m, \u001B[38;5;241m1\u001B[39m), batch[\u001B[38;5;124m\"\u001B[39m\u001B[38;5;124mbboxes\u001B[39m\u001B[38;5;124m\"\u001B[39m]), \u001B[38;5;241m1\u001B[39m)\n\u001B[1;32m--> 219\u001B[0m targets \u001B[38;5;241m=\u001B[39m \u001B[38;5;28;43mself\u001B[39;49m\u001B[38;5;241;43m.\u001B[39;49m\u001B[43mpreprocess\u001B[49m\u001B[43m(\u001B[49m\u001B[43mtargets\u001B[49m\u001B[38;5;241;43m.\u001B[39;49m\u001B[43mto\u001B[49m\u001B[43m(\u001B[49m\u001B[38;5;28;43mself\u001B[39;49m\u001B[38;5;241;43m.\u001B[39;49m\u001B[43mdevice\u001B[49m\u001B[43m)\u001B[49m\u001B[43m,\u001B[49m\u001B[43m \u001B[49m\u001B[43mbatch_size\u001B[49m\u001B[43m,\u001B[49m\u001B[43m \u001B[49m\u001B[43mscale_tensor\u001B[49m\u001B[38;5;241;43m=\u001B[39;49m\u001B[43mimgsz\u001B[49m\u001B[43m[\u001B[49m\u001B[43m[\u001B[49m\u001B[38;5;241;43m1\u001B[39;49m\u001B[43m,\u001B[49m\u001B[43m \u001B[49m\u001B[38;5;241;43m0\u001B[39;49m\u001B[43m,\u001B[49m\u001B[43m \u001B[49m\u001B[38;5;241;43m1\u001B[39;49m\u001B[43m,\u001B[49m\u001B[43m \u001B[49m\u001B[38;5;241;43m0\u001B[39;49m\u001B[43m]\u001B[49m\u001B[43m]\u001B[49m\u001B[43m)\u001B[49m\n\u001B[0;32m    220\u001B[0m gt_labels, gt_bboxes \u001B[38;5;241m=\u001B[39m targets\u001B[38;5;241m.\u001B[39msplit((\u001B[38;5;241m1\u001B[39m, \u001B[38;5;241m4\u001B[39m), \u001B[38;5;241m2\u001B[39m)  \u001B[38;5;66;03m# cls, xyxy\u001B[39;00m\n\u001B[0;32m    221\u001B[0m mask_gt \u001B[38;5;241m=\u001B[39m gt_bboxes\u001B[38;5;241m.\u001B[39msum(\u001B[38;5;241m2\u001B[39m, keepdim\u001B[38;5;241m=\u001B[39m\u001B[38;5;28;01mTrue\u001B[39;00m)\u001B[38;5;241m.\u001B[39mgt_(\u001B[38;5;241m0.0\u001B[39m)\n",
      "File \u001B[1;32m~\\PycharmProjects\\PythonProject\\.venv\\Lib\\site-packages\\ultralytics\\utils\\loss.py\u001B[0m, in \u001B[0;36mv8DetectionLoss.preprocess\u001B[1;34m(self, targets, batch_size, scale_tensor)\u001B[0m\n\u001B[0;32m      0\u001B[0m <Error retrieving source code with stack_data see ipython/ipython#13598>\n",
      "\u001B[1;31mKeyboardInterrupt\u001B[0m: "
     ]
    }
   ],
   "execution_count": 1
  },
  {
   "metadata": {
    "ExecuteTime": {
     "end_time": "2025-03-31T21:01:16.760919Z",
     "start_time": "2025-03-31T21:01:11.100653Z"
    }
   },
   "cell_type": "code",
   "source": [
    "from ultralytics import YOLO\n",
    "import os\n",
    "import time\n",
    "\n",
    "# Path to the model\n",
    "MODEL_PATH = r\"E:\\shittymikshitson\\runs\\weapon_detection\\weights\\best.pt\"\n",
    "\n",
    "print(f\"Starting ONNX export with troubleshooting settings...\")\n",
    "start_time = time.time()\n",
    "\n",
    "# Load model\n",
    "model = YOLO(MODEL_PATH)\n",
    "\n",
    "# Export with optimized settings for speed\n",
    "try:\n",
    "    # Use a fixed size (rather than dynamic) to simplify and speed up conversion\n",
    "    model.export(\n",
    "        format=\"onnx\",\n",
    "        imgsz=640,  # Fixed image size\n",
    "        simplify=True,  # Simplify the model graph\n",
    "        opset=13,  # Try older opset which is often more stable\n",
    "        half=False,  # Use FP32 precision (more compatible)\n",
    "        dynamic=False,  # Fixed input size for faster export\n",
    "        verbose=True  # Show detailed progress\n",
    "    )\n",
    "\n",
    "    print(f\"\\nExport completed in {time.time() - start_time:.2f} seconds!\")\n",
    "    print(f\"ONNX model saved at: {os.path.splitext(MODEL_PATH)[0]}.onnx\")\n",
    "\n",
    "except Exception as e:\n",
    "    print(f\"Export failed with error: {e}\")\n",
    "\n",
    "    print(\"\\nTrying alternative export settings...\")\n",
    "    # Try alternative settings if the first attempt fails\n",
    "    try:\n",
    "        model.export(\n",
    "            format=\"onnx\",\n",
    "            opset=11,  # Try even older opset version\n",
    "            simplify=True,\n",
    "            verbose=True\n",
    "        )\n",
    "        print(f\"\\nAlternative export completed in {time.time() - start_time:.2f} seconds!\")\n",
    "    except Exception as e2:\n",
    "        print(f\"Alternative export also failed: {e2}\")\n",
    "        print(\"\\nRecommendation: Try updating ultralytics package with 'pip install -U ultralytics'\")"
   ],
   "id": "d31168a91a7c69b2",
   "outputs": [
    {
     "name": "stdout",
     "output_type": "stream",
     "text": [
      "Starting ONNX export with troubleshooting settings...\n",
      "Ultralytics 8.3.99  Python-3.11.9 torch-2.0.1+cu117 CPU (AMD Ryzen 5 5600 6-Core Processor)\n",
      "Model summary (fused): 72 layers, 11,126,745 parameters, 0 gradients, 28.4 GFLOPs\n",
      "\n",
      "\u001B[34m\u001B[1mPyTorch:\u001B[0m starting from 'E:\\shittymikshitson\\runs\\weapon_detection\\weights\\best.pt' with input shape (1, 3, 640, 640) BCHW and output shape(s) (1, 7, 8400) (64.1 MB)\n",
      "\n",
      "\u001B[34m\u001B[1mONNX:\u001B[0m starting export with onnx 1.17.0 opset 13...\n",
      "============= Diagnostic Run torch.onnx.export version 2.0.1+cu117 =============\n",
      "verbose: False, log level: Level.ERROR\n",
      "======================= 0 NONE 0 NOTE 0 WARNING 0 ERROR ========================\n",
      "\n",
      "\u001B[34m\u001B[1mONNX:\u001B[0m slimming with onnxslim 0.1.49...\n",
      "\u001B[34m\u001B[1mONNX:\u001B[0m export success  2.6s, saved as 'E:\\shittymikshitson\\runs\\weapon_detection\\weights\\best.onnx' (42.7 MB)\n",
      "\n",
      "Export complete (3.2s)\n",
      "Results saved to \u001B[1mE:\\shittymikshitson\\runs\\weapon_detection\\weights\u001B[0m\n",
      "Predict:         yolo predict task=detect model=E:\\shittymikshitson\\runs\\weapon_detection\\weights\\best.onnx imgsz=640  \n",
      "Validate:        yolo val task=detect model=E:\\shittymikshitson\\runs\\weapon_detection\\weights\\best.onnx imgsz=640 data=E:\\shittymikshitson\\extracted_datasets\\weapon-detection.v16-remapped-train-80-val-20.yolov8\\data.yaml  \n",
      "Visualize:       https://netron.app\n",
      "\n",
      "Export completed in 3.27 seconds!\n",
      "ONNX model saved at: E:\\shittymikshitson\\runs\\weapon_detection\\weights\\best.onnx\n"
     ]
    }
   ],
   "execution_count": 1
  }
 ],
 "metadata": {
  "kernelspec": {
   "display_name": "Python 3",
   "language": "python",
   "name": "python3"
  },
  "language_info": {
   "codemirror_mode": {
    "name": "ipython",
    "version": 2
   },
   "file_extension": ".py",
   "mimetype": "text/x-python",
   "name": "python",
   "nbconvert_exporter": "python",
   "pygments_lexer": "ipython2",
   "version": "2.7.6"
  }
 },
 "nbformat": 4,
 "nbformat_minor": 5
}
