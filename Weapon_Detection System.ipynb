{
 "cells": [
  {
   "cell_type": "code",
   "id": "d60d99be45b73de9",
   "metadata": {
    "ExecuteTime": {
     "end_time": "2025-03-26T05:52:11.688306Z",
     "start_time": "2025-03-26T05:52:11.481591Z"
    }
   },
   "source": [
    "import torch\n",
    "import torch.nn as nn\n",
    "import torch.optim as optim\n",
    "import torch_directml\n",
    "import time\n",
    "\n",
    "# Set DirectML device\n",
    "device = torch_directml.device(0)\n",
    "print(\"PyTorch DirectML Device:\", device)\n",
    "print(torch_directml.device_name(0))\n"
   ],
   "outputs": [
    {
     "name": "stdout",
     "output_type": "stream",
     "text": [
      "PyTorch DirectML Device: privateuseone:0\n",
      "NVIDIA GeForce GTX 770M\u0000\n"
     ]
    }
   ],
   "execution_count": 3
  },
  {
   "metadata": {},
   "cell_type": "code",
   "outputs": [],
   "source": "",
   "id": "7f124a0e274aea7",
   "execution_count": null
  },
  {
   "metadata": {
    "collapsed": true,
    "ExecuteTime": {
     "end_time": "2025-03-26T14:17:29.505245Z",
     "start_time": "2025-03-26T14:16:48.315770Z"
    }
   },
   "cell_type": "code",
   "source": [
    "import torch\n",
    "from ultralytics import YOLO\n",
    "import os\n",
    "\n",
    "device = torch.device(\"cuda\" if torch.cuda.is_available() else \"cpu\")\n",
    "\n",
    "model = YOLO(\"yolov8n.pt\")\n",
    "model.to(device)\n",
    "\n",
    "model.train(\n",
    "    data=\"E:/ML/Weapon Detection System/weapon-detection.v1i.yolov8/data.yaml\",\n",
    "    epochs=100,\n",
    "    imgsz=640,\n",
    "    batch=2,\n",
    "    device=device,\n",
    "    amp=False,\n",
    "    workers=0\n",
    ")"
   ],
   "id": "initial_id",
   "outputs": [
    {
     "name": "stdout",
     "output_type": "stream",
     "text": [
      "\u001B[34m\u001B[1mengine\\trainer: \u001B[0mtask=detect, mode=train, model=yolov8n.pt, data=E:/ML/Weapon Detection System/weapon-detection.v1i.yolov8/data.yaml, epochs=50, time=None, patience=100, batch=2, imgsz=640, save=True, save_period=-1, cache=False, device=privateuseone:0, workers=0, project=None, name=train7, exist_ok=False, pretrained=True, optimizer=auto, verbose=True, seed=0, deterministic=True, single_cls=False, rect=False, cos_lr=False, close_mosaic=10, resume=False, amp=False, fraction=1.0, profile=False, freeze=None, multi_scale=False, overlap_mask=True, mask_ratio=4, dropout=0.0, val=True, split=val, save_json=False, save_hybrid=False, conf=None, iou=0.7, max_det=300, half=False, dnn=False, plots=True, source=None, vid_stride=1, stream_buffer=False, visualize=False, augment=False, agnostic_nms=False, classes=None, retina_masks=False, embed=None, show=False, save_frames=False, save_txt=False, save_conf=False, save_crop=False, show_labels=True, show_conf=True, show_boxes=True, line_width=None, format=torchscript, keras=False, optimize=False, int8=False, dynamic=False, simplify=True, opset=None, workspace=None, nms=False, lr0=0.01, lrf=0.01, momentum=0.937, weight_decay=0.0005, warmup_epochs=3.0, warmup_momentum=0.8, warmup_bias_lr=0.1, box=7.5, cls=0.5, dfl=1.5, pose=12.0, kobj=1.0, nbs=64, hsv_h=0.015, hsv_s=0.7, hsv_v=0.4, degrees=0.0, translate=0.1, scale=0.5, shear=0.0, perspective=0.0, flipud=0.0, fliplr=0.5, bgr=0.0, mosaic=1.0, mixup=0.0, copy_paste=0.0, copy_paste_mode=flip, auto_augment=randaugment, erasing=0.4, crop_fraction=1.0, cfg=None, tracker=botsort.yaml, save_dir=runs\\detect\\train7\n",
      "Overriding model.yaml nc=80 with nc=1\n",
      "\n",
      "                   from  n    params  module                                       arguments                     \n",
      "  0                  -1  1       464  ultralytics.nn.modules.conv.Conv             [3, 16, 3, 2]                 \n",
      "  1                  -1  1      4672  ultralytics.nn.modules.conv.Conv             [16, 32, 3, 2]                \n",
      "  2                  -1  1      7360  ultralytics.nn.modules.block.C2f             [32, 32, 1, True]             \n",
      "  3                  -1  1     18560  ultralytics.nn.modules.conv.Conv             [32, 64, 3, 2]                \n",
      "  4                  -1  2     49664  ultralytics.nn.modules.block.C2f             [64, 64, 2, True]             \n",
      "  5                  -1  1     73984  ultralytics.nn.modules.conv.Conv             [64, 128, 3, 2]               \n",
      "  6                  -1  2    197632  ultralytics.nn.modules.block.C2f             [128, 128, 2, True]           \n",
      "  7                  -1  1    295424  ultralytics.nn.modules.conv.Conv             [128, 256, 3, 2]              \n",
      "  8                  -1  1    460288  ultralytics.nn.modules.block.C2f             [256, 256, 1, True]           \n",
      "  9                  -1  1    164608  ultralytics.nn.modules.block.SPPF            [256, 256, 5]                 \n",
      " 10                  -1  1         0  torch.nn.modules.upsampling.Upsample         [None, 2, 'nearest']          \n",
      " 11             [-1, 6]  1         0  ultralytics.nn.modules.conv.Concat           [1]                           \n",
      " 12                  -1  1    148224  ultralytics.nn.modules.block.C2f             [384, 128, 1]                 \n",
      " 13                  -1  1         0  torch.nn.modules.upsampling.Upsample         [None, 2, 'nearest']          \n",
      " 14             [-1, 4]  1         0  ultralytics.nn.modules.conv.Concat           [1]                           \n",
      " 15                  -1  1     37248  ultralytics.nn.modules.block.C2f             [192, 64, 1]                  \n",
      " 16                  -1  1     36992  ultralytics.nn.modules.conv.Conv             [64, 64, 3, 2]                \n",
      " 17            [-1, 12]  1         0  ultralytics.nn.modules.conv.Concat           [1]                           \n",
      " 18                  -1  1    123648  ultralytics.nn.modules.block.C2f             [192, 128, 1]                 \n",
      " 19                  -1  1    147712  ultralytics.nn.modules.conv.Conv             [128, 128, 3, 2]              \n",
      " 20             [-1, 9]  1         0  ultralytics.nn.modules.conv.Concat           [1]                           \n",
      " 21                  -1  1    493056  ultralytics.nn.modules.block.C2f             [384, 256, 1]                 \n",
      " 22        [15, 18, 21]  1    751507  ultralytics.nn.modules.head.Detect           [1, [64, 128, 256]]           \n",
      "Model summary: 129 layers, 3,011,043 parameters, 3,011,027 gradients, 8.2 GFLOPs\n",
      "\n",
      "Transferred 319/355 items from pretrained weights\n",
      "WARNING  setting 'requires_grad=True' for frozen layer 'model.0.conv.weight'. See ultralytics.engine.trainer for customization of frozen layers.\n",
      "WARNING  setting 'requires_grad=True' for frozen layer 'model.0.bn.weight'. See ultralytics.engine.trainer for customization of frozen layers.\n",
      "WARNING  setting 'requires_grad=True' for frozen layer 'model.0.bn.bias'. See ultralytics.engine.trainer for customization of frozen layers.\n",
      "WARNING  setting 'requires_grad=True' for frozen layer 'model.1.conv.weight'. See ultralytics.engine.trainer for customization of frozen layers.\n",
      "WARNING  setting 'requires_grad=True' for frozen layer 'model.1.bn.weight'. See ultralytics.engine.trainer for customization of frozen layers.\n",
      "WARNING  setting 'requires_grad=True' for frozen layer 'model.1.bn.bias'. See ultralytics.engine.trainer for customization of frozen layers.\n",
      "WARNING  setting 'requires_grad=True' for frozen layer 'model.2.cv1.conv.weight'. See ultralytics.engine.trainer for customization of frozen layers.\n",
      "WARNING  setting 'requires_grad=True' for frozen layer 'model.2.cv1.bn.weight'. See ultralytics.engine.trainer for customization of frozen layers.\n",
      "WARNING  setting 'requires_grad=True' for frozen layer 'model.2.cv1.bn.bias'. See ultralytics.engine.trainer for customization of frozen layers.\n",
      "WARNING  setting 'requires_grad=True' for frozen layer 'model.2.cv2.conv.weight'. See ultralytics.engine.trainer for customization of frozen layers.\n",
      "WARNING  setting 'requires_grad=True' for frozen layer 'model.2.cv2.bn.weight'. See ultralytics.engine.trainer for customization of frozen layers.\n",
      "WARNING  setting 'requires_grad=True' for frozen layer 'model.2.cv2.bn.bias'. See ultralytics.engine.trainer for customization of frozen layers.\n",
      "WARNING  setting 'requires_grad=True' for frozen layer 'model.2.m.0.cv1.conv.weight'. See ultralytics.engine.trainer for customization of frozen layers.\n",
      "WARNING  setting 'requires_grad=True' for frozen layer 'model.2.m.0.cv1.bn.weight'. See ultralytics.engine.trainer for customization of frozen layers.\n",
      "WARNING  setting 'requires_grad=True' for frozen layer 'model.2.m.0.cv1.bn.bias'. See ultralytics.engine.trainer for customization of frozen layers.\n",
      "WARNING  setting 'requires_grad=True' for frozen layer 'model.2.m.0.cv2.conv.weight'. See ultralytics.engine.trainer for customization of frozen layers.\n",
      "WARNING  setting 'requires_grad=True' for frozen layer 'model.2.m.0.cv2.bn.weight'. See ultralytics.engine.trainer for customization of frozen layers.\n",
      "WARNING  setting 'requires_grad=True' for frozen layer 'model.2.m.0.cv2.bn.bias'. See ultralytics.engine.trainer for customization of frozen layers.\n",
      "WARNING  setting 'requires_grad=True' for frozen layer 'model.3.conv.weight'. See ultralytics.engine.trainer for customization of frozen layers.\n",
      "WARNING  setting 'requires_grad=True' for frozen layer 'model.3.bn.weight'. See ultralytics.engine.trainer for customization of frozen layers.\n",
      "WARNING  setting 'requires_grad=True' for frozen layer 'model.3.bn.bias'. See ultralytics.engine.trainer for customization of frozen layers.\n",
      "WARNING  setting 'requires_grad=True' for frozen layer 'model.4.cv1.conv.weight'. See ultralytics.engine.trainer for customization of frozen layers.\n",
      "WARNING  setting 'requires_grad=True' for frozen layer 'model.4.cv1.bn.weight'. See ultralytics.engine.trainer for customization of frozen layers.\n",
      "WARNING  setting 'requires_grad=True' for frozen layer 'model.4.cv1.bn.bias'. See ultralytics.engine.trainer for customization of frozen layers.\n",
      "WARNING  setting 'requires_grad=True' for frozen layer 'model.4.cv2.conv.weight'. See ultralytics.engine.trainer for customization of frozen layers.\n",
      "WARNING  setting 'requires_grad=True' for frozen layer 'model.4.cv2.bn.weight'. See ultralytics.engine.trainer for customization of frozen layers.\n",
      "WARNING  setting 'requires_grad=True' for frozen layer 'model.4.cv2.bn.bias'. See ultralytics.engine.trainer for customization of frozen layers.\n",
      "WARNING  setting 'requires_grad=True' for frozen layer 'model.4.m.0.cv1.conv.weight'. See ultralytics.engine.trainer for customization of frozen layers.\n",
      "WARNING  setting 'requires_grad=True' for frozen layer 'model.4.m.0.cv1.bn.weight'. See ultralytics.engine.trainer for customization of frozen layers.\n",
      "WARNING  setting 'requires_grad=True' for frozen layer 'model.4.m.0.cv1.bn.bias'. See ultralytics.engine.trainer for customization of frozen layers.\n",
      "WARNING  setting 'requires_grad=True' for frozen layer 'model.4.m.0.cv2.conv.weight'. See ultralytics.engine.trainer for customization of frozen layers.\n",
      "WARNING  setting 'requires_grad=True' for frozen layer 'model.4.m.0.cv2.bn.weight'. See ultralytics.engine.trainer for customization of frozen layers.\n",
      "WARNING  setting 'requires_grad=True' for frozen layer 'model.4.m.0.cv2.bn.bias'. See ultralytics.engine.trainer for customization of frozen layers.\n",
      "WARNING  setting 'requires_grad=True' for frozen layer 'model.4.m.1.cv1.conv.weight'. See ultralytics.engine.trainer for customization of frozen layers.\n",
      "WARNING  setting 'requires_grad=True' for frozen layer 'model.4.m.1.cv1.bn.weight'. See ultralytics.engine.trainer for customization of frozen layers.\n",
      "WARNING  setting 'requires_grad=True' for frozen layer 'model.4.m.1.cv1.bn.bias'. See ultralytics.engine.trainer for customization of frozen layers.\n",
      "WARNING  setting 'requires_grad=True' for frozen layer 'model.4.m.1.cv2.conv.weight'. See ultralytics.engine.trainer for customization of frozen layers.\n",
      "WARNING  setting 'requires_grad=True' for frozen layer 'model.4.m.1.cv2.bn.weight'. See ultralytics.engine.trainer for customization of frozen layers.\n",
      "WARNING  setting 'requires_grad=True' for frozen layer 'model.4.m.1.cv2.bn.bias'. See ultralytics.engine.trainer for customization of frozen layers.\n",
      "WARNING  setting 'requires_grad=True' for frozen layer 'model.5.conv.weight'. See ultralytics.engine.trainer for customization of frozen layers.\n",
      "WARNING  setting 'requires_grad=True' for frozen layer 'model.5.bn.weight'. See ultralytics.engine.trainer for customization of frozen layers.\n",
      "WARNING  setting 'requires_grad=True' for frozen layer 'model.5.bn.bias'. See ultralytics.engine.trainer for customization of frozen layers.\n",
      "WARNING  setting 'requires_grad=True' for frozen layer 'model.6.cv1.conv.weight'. See ultralytics.engine.trainer for customization of frozen layers.\n",
      "WARNING  setting 'requires_grad=True' for frozen layer 'model.6.cv1.bn.weight'. See ultralytics.engine.trainer for customization of frozen layers.\n",
      "WARNING  setting 'requires_grad=True' for frozen layer 'model.6.cv1.bn.bias'. See ultralytics.engine.trainer for customization of frozen layers.\n",
      "WARNING  setting 'requires_grad=True' for frozen layer 'model.6.cv2.conv.weight'. See ultralytics.engine.trainer for customization of frozen layers.\n",
      "WARNING  setting 'requires_grad=True' for frozen layer 'model.6.cv2.bn.weight'. See ultralytics.engine.trainer for customization of frozen layers.\n",
      "WARNING  setting 'requires_grad=True' for frozen layer 'model.6.cv2.bn.bias'. See ultralytics.engine.trainer for customization of frozen layers.\n",
      "WARNING  setting 'requires_grad=True' for frozen layer 'model.6.m.0.cv1.conv.weight'. See ultralytics.engine.trainer for customization of frozen layers.\n",
      "WARNING  setting 'requires_grad=True' for frozen layer 'model.6.m.0.cv1.bn.weight'. See ultralytics.engine.trainer for customization of frozen layers.\n",
      "WARNING  setting 'requires_grad=True' for frozen layer 'model.6.m.0.cv1.bn.bias'. See ultralytics.engine.trainer for customization of frozen layers.\n",
      "WARNING  setting 'requires_grad=True' for frozen layer 'model.6.m.0.cv2.conv.weight'. See ultralytics.engine.trainer for customization of frozen layers.\n",
      "WARNING  setting 'requires_grad=True' for frozen layer 'model.6.m.0.cv2.bn.weight'. See ultralytics.engine.trainer for customization of frozen layers.\n",
      "WARNING  setting 'requires_grad=True' for frozen layer 'model.6.m.0.cv2.bn.bias'. See ultralytics.engine.trainer for customization of frozen layers.\n",
      "WARNING  setting 'requires_grad=True' for frozen layer 'model.6.m.1.cv1.conv.weight'. See ultralytics.engine.trainer for customization of frozen layers.\n",
      "WARNING  setting 'requires_grad=True' for frozen layer 'model.6.m.1.cv1.bn.weight'. See ultralytics.engine.trainer for customization of frozen layers.\n",
      "WARNING  setting 'requires_grad=True' for frozen layer 'model.6.m.1.cv1.bn.bias'. See ultralytics.engine.trainer for customization of frozen layers.\n",
      "WARNING  setting 'requires_grad=True' for frozen layer 'model.6.m.1.cv2.conv.weight'. See ultralytics.engine.trainer for customization of frozen layers.\n",
      "WARNING  setting 'requires_grad=True' for frozen layer 'model.6.m.1.cv2.bn.weight'. See ultralytics.engine.trainer for customization of frozen layers.\n",
      "WARNING  setting 'requires_grad=True' for frozen layer 'model.6.m.1.cv2.bn.bias'. See ultralytics.engine.trainer for customization of frozen layers.\n",
      "WARNING  setting 'requires_grad=True' for frozen layer 'model.7.conv.weight'. See ultralytics.engine.trainer for customization of frozen layers.\n",
      "WARNING  setting 'requires_grad=True' for frozen layer 'model.7.bn.weight'. See ultralytics.engine.trainer for customization of frozen layers.\n",
      "WARNING  setting 'requires_grad=True' for frozen layer 'model.7.bn.bias'. See ultralytics.engine.trainer for customization of frozen layers.\n",
      "WARNING  setting 'requires_grad=True' for frozen layer 'model.8.cv1.conv.weight'. See ultralytics.engine.trainer for customization of frozen layers.\n",
      "WARNING  setting 'requires_grad=True' for frozen layer 'model.8.cv1.bn.weight'. See ultralytics.engine.trainer for customization of frozen layers.\n",
      "WARNING  setting 'requires_grad=True' for frozen layer 'model.8.cv1.bn.bias'. See ultralytics.engine.trainer for customization of frozen layers.\n",
      "WARNING  setting 'requires_grad=True' for frozen layer 'model.8.cv2.conv.weight'. See ultralytics.engine.trainer for customization of frozen layers.\n",
      "WARNING  setting 'requires_grad=True' for frozen layer 'model.8.cv2.bn.weight'. See ultralytics.engine.trainer for customization of frozen layers.\n",
      "WARNING  setting 'requires_grad=True' for frozen layer 'model.8.cv2.bn.bias'. See ultralytics.engine.trainer for customization of frozen layers.\n",
      "WARNING  setting 'requires_grad=True' for frozen layer 'model.8.m.0.cv1.conv.weight'. See ultralytics.engine.trainer for customization of frozen layers.\n",
      "WARNING  setting 'requires_grad=True' for frozen layer 'model.8.m.0.cv1.bn.weight'. See ultralytics.engine.trainer for customization of frozen layers.\n",
      "WARNING  setting 'requires_grad=True' for frozen layer 'model.8.m.0.cv1.bn.bias'. See ultralytics.engine.trainer for customization of frozen layers.\n",
      "WARNING  setting 'requires_grad=True' for frozen layer 'model.8.m.0.cv2.conv.weight'. See ultralytics.engine.trainer for customization of frozen layers.\n",
      "WARNING  setting 'requires_grad=True' for frozen layer 'model.8.m.0.cv2.bn.weight'. See ultralytics.engine.trainer for customization of frozen layers.\n",
      "WARNING  setting 'requires_grad=True' for frozen layer 'model.8.m.0.cv2.bn.bias'. See ultralytics.engine.trainer for customization of frozen layers.\n",
      "WARNING  setting 'requires_grad=True' for frozen layer 'model.9.cv1.conv.weight'. See ultralytics.engine.trainer for customization of frozen layers.\n",
      "WARNING  setting 'requires_grad=True' for frozen layer 'model.9.cv1.bn.weight'. See ultralytics.engine.trainer for customization of frozen layers.\n",
      "WARNING  setting 'requires_grad=True' for frozen layer 'model.9.cv1.bn.bias'. See ultralytics.engine.trainer for customization of frozen layers.\n",
      "WARNING  setting 'requires_grad=True' for frozen layer 'model.9.cv2.conv.weight'. See ultralytics.engine.trainer for customization of frozen layers.\n",
      "WARNING  setting 'requires_grad=True' for frozen layer 'model.9.cv2.bn.weight'. See ultralytics.engine.trainer for customization of frozen layers.\n",
      "WARNING  setting 'requires_grad=True' for frozen layer 'model.9.cv2.bn.bias'. See ultralytics.engine.trainer for customization of frozen layers.\n",
      "WARNING  setting 'requires_grad=True' for frozen layer 'model.12.cv1.conv.weight'. See ultralytics.engine.trainer for customization of frozen layers.\n",
      "WARNING  setting 'requires_grad=True' for frozen layer 'model.12.cv1.bn.weight'. See ultralytics.engine.trainer for customization of frozen layers.\n",
      "WARNING  setting 'requires_grad=True' for frozen layer 'model.12.cv1.bn.bias'. See ultralytics.engine.trainer for customization of frozen layers.\n",
      "WARNING  setting 'requires_grad=True' for frozen layer 'model.12.cv2.conv.weight'. See ultralytics.engine.trainer for customization of frozen layers.\n",
      "WARNING  setting 'requires_grad=True' for frozen layer 'model.12.cv2.bn.weight'. See ultralytics.engine.trainer for customization of frozen layers.\n",
      "WARNING  setting 'requires_grad=True' for frozen layer 'model.12.cv2.bn.bias'. See ultralytics.engine.trainer for customization of frozen layers.\n",
      "WARNING  setting 'requires_grad=True' for frozen layer 'model.12.m.0.cv1.conv.weight'. See ultralytics.engine.trainer for customization of frozen layers.\n",
      "WARNING  setting 'requires_grad=True' for frozen layer 'model.12.m.0.cv1.bn.weight'. See ultralytics.engine.trainer for customization of frozen layers.\n",
      "WARNING  setting 'requires_grad=True' for frozen layer 'model.12.m.0.cv1.bn.bias'. See ultralytics.engine.trainer for customization of frozen layers.\n",
      "WARNING  setting 'requires_grad=True' for frozen layer 'model.12.m.0.cv2.conv.weight'. See ultralytics.engine.trainer for customization of frozen layers.\n",
      "WARNING  setting 'requires_grad=True' for frozen layer 'model.12.m.0.cv2.bn.weight'. See ultralytics.engine.trainer for customization of frozen layers.\n",
      "WARNING  setting 'requires_grad=True' for frozen layer 'model.12.m.0.cv2.bn.bias'. See ultralytics.engine.trainer for customization of frozen layers.\n",
      "WARNING  setting 'requires_grad=True' for frozen layer 'model.15.cv1.conv.weight'. See ultralytics.engine.trainer for customization of frozen layers.\n",
      "WARNING  setting 'requires_grad=True' for frozen layer 'model.15.cv1.bn.weight'. See ultralytics.engine.trainer for customization of frozen layers.\n",
      "WARNING  setting 'requires_grad=True' for frozen layer 'model.15.cv1.bn.bias'. See ultralytics.engine.trainer for customization of frozen layers.\n",
      "WARNING  setting 'requires_grad=True' for frozen layer 'model.15.cv2.conv.weight'. See ultralytics.engine.trainer for customization of frozen layers.\n",
      "WARNING  setting 'requires_grad=True' for frozen layer 'model.15.cv2.bn.weight'. See ultralytics.engine.trainer for customization of frozen layers.\n",
      "WARNING  setting 'requires_grad=True' for frozen layer 'model.15.cv2.bn.bias'. See ultralytics.engine.trainer for customization of frozen layers.\n",
      "WARNING  setting 'requires_grad=True' for frozen layer 'model.15.m.0.cv1.conv.weight'. See ultralytics.engine.trainer for customization of frozen layers.\n",
      "WARNING  setting 'requires_grad=True' for frozen layer 'model.15.m.0.cv1.bn.weight'. See ultralytics.engine.trainer for customization of frozen layers.\n",
      "WARNING  setting 'requires_grad=True' for frozen layer 'model.15.m.0.cv1.bn.bias'. See ultralytics.engine.trainer for customization of frozen layers.\n",
      "WARNING  setting 'requires_grad=True' for frozen layer 'model.15.m.0.cv2.conv.weight'. See ultralytics.engine.trainer for customization of frozen layers.\n",
      "WARNING  setting 'requires_grad=True' for frozen layer 'model.15.m.0.cv2.bn.weight'. See ultralytics.engine.trainer for customization of frozen layers.\n",
      "WARNING  setting 'requires_grad=True' for frozen layer 'model.15.m.0.cv2.bn.bias'. See ultralytics.engine.trainer for customization of frozen layers.\n",
      "WARNING  setting 'requires_grad=True' for frozen layer 'model.16.conv.weight'. See ultralytics.engine.trainer for customization of frozen layers.\n",
      "WARNING  setting 'requires_grad=True' for frozen layer 'model.16.bn.weight'. See ultralytics.engine.trainer for customization of frozen layers.\n",
      "WARNING  setting 'requires_grad=True' for frozen layer 'model.16.bn.bias'. See ultralytics.engine.trainer for customization of frozen layers.\n",
      "WARNING  setting 'requires_grad=True' for frozen layer 'model.18.cv1.conv.weight'. See ultralytics.engine.trainer for customization of frozen layers.\n",
      "WARNING  setting 'requires_grad=True' for frozen layer 'model.18.cv1.bn.weight'. See ultralytics.engine.trainer for customization of frozen layers.\n",
      "WARNING  setting 'requires_grad=True' for frozen layer 'model.18.cv1.bn.bias'. See ultralytics.engine.trainer for customization of frozen layers.\n",
      "WARNING  setting 'requires_grad=True' for frozen layer 'model.18.cv2.conv.weight'. See ultralytics.engine.trainer for customization of frozen layers.\n",
      "WARNING  setting 'requires_grad=True' for frozen layer 'model.18.cv2.bn.weight'. See ultralytics.engine.trainer for customization of frozen layers.\n",
      "WARNING  setting 'requires_grad=True' for frozen layer 'model.18.cv2.bn.bias'. See ultralytics.engine.trainer for customization of frozen layers.\n",
      "WARNING  setting 'requires_grad=True' for frozen layer 'model.18.m.0.cv1.conv.weight'. See ultralytics.engine.trainer for customization of frozen layers.\n",
      "WARNING  setting 'requires_grad=True' for frozen layer 'model.18.m.0.cv1.bn.weight'. See ultralytics.engine.trainer for customization of frozen layers.\n",
      "WARNING  setting 'requires_grad=True' for frozen layer 'model.18.m.0.cv1.bn.bias'. See ultralytics.engine.trainer for customization of frozen layers.\n",
      "WARNING  setting 'requires_grad=True' for frozen layer 'model.18.m.0.cv2.conv.weight'. See ultralytics.engine.trainer for customization of frozen layers.\n",
      "WARNING  setting 'requires_grad=True' for frozen layer 'model.18.m.0.cv2.bn.weight'. See ultralytics.engine.trainer for customization of frozen layers.\n",
      "WARNING  setting 'requires_grad=True' for frozen layer 'model.18.m.0.cv2.bn.bias'. See ultralytics.engine.trainer for customization of frozen layers.\n",
      "WARNING  setting 'requires_grad=True' for frozen layer 'model.19.conv.weight'. See ultralytics.engine.trainer for customization of frozen layers.\n",
      "WARNING  setting 'requires_grad=True' for frozen layer 'model.19.bn.weight'. See ultralytics.engine.trainer for customization of frozen layers.\n",
      "WARNING  setting 'requires_grad=True' for frozen layer 'model.19.bn.bias'. See ultralytics.engine.trainer for customization of frozen layers.\n",
      "WARNING  setting 'requires_grad=True' for frozen layer 'model.21.cv1.conv.weight'. See ultralytics.engine.trainer for customization of frozen layers.\n",
      "WARNING  setting 'requires_grad=True' for frozen layer 'model.21.cv1.bn.weight'. See ultralytics.engine.trainer for customization of frozen layers.\n",
      "WARNING  setting 'requires_grad=True' for frozen layer 'model.21.cv1.bn.bias'. See ultralytics.engine.trainer for customization of frozen layers.\n",
      "WARNING  setting 'requires_grad=True' for frozen layer 'model.21.cv2.conv.weight'. See ultralytics.engine.trainer for customization of frozen layers.\n",
      "WARNING  setting 'requires_grad=True' for frozen layer 'model.21.cv2.bn.weight'. See ultralytics.engine.trainer for customization of frozen layers.\n",
      "WARNING  setting 'requires_grad=True' for frozen layer 'model.21.cv2.bn.bias'. See ultralytics.engine.trainer for customization of frozen layers.\n",
      "WARNING  setting 'requires_grad=True' for frozen layer 'model.21.m.0.cv1.conv.weight'. See ultralytics.engine.trainer for customization of frozen layers.\n",
      "WARNING  setting 'requires_grad=True' for frozen layer 'model.21.m.0.cv1.bn.weight'. See ultralytics.engine.trainer for customization of frozen layers.\n",
      "WARNING  setting 'requires_grad=True' for frozen layer 'model.21.m.0.cv1.bn.bias'. See ultralytics.engine.trainer for customization of frozen layers.\n",
      "WARNING  setting 'requires_grad=True' for frozen layer 'model.21.m.0.cv2.conv.weight'. See ultralytics.engine.trainer for customization of frozen layers.\n",
      "WARNING  setting 'requires_grad=True' for frozen layer 'model.21.m.0.cv2.bn.weight'. See ultralytics.engine.trainer for customization of frozen layers.\n",
      "WARNING  setting 'requires_grad=True' for frozen layer 'model.21.m.0.cv2.bn.bias'. See ultralytics.engine.trainer for customization of frozen layers.\n",
      "WARNING  setting 'requires_grad=True' for frozen layer 'model.22.cv2.0.0.conv.weight'. See ultralytics.engine.trainer for customization of frozen layers.\n",
      "WARNING  setting 'requires_grad=True' for frozen layer 'model.22.cv2.0.0.bn.weight'. See ultralytics.engine.trainer for customization of frozen layers.\n",
      "WARNING  setting 'requires_grad=True' for frozen layer 'model.22.cv2.0.0.bn.bias'. See ultralytics.engine.trainer for customization of frozen layers.\n",
      "WARNING  setting 'requires_grad=True' for frozen layer 'model.22.cv2.0.1.conv.weight'. See ultralytics.engine.trainer for customization of frozen layers.\n",
      "WARNING  setting 'requires_grad=True' for frozen layer 'model.22.cv2.0.1.bn.weight'. See ultralytics.engine.trainer for customization of frozen layers.\n",
      "WARNING  setting 'requires_grad=True' for frozen layer 'model.22.cv2.0.1.bn.bias'. See ultralytics.engine.trainer for customization of frozen layers.\n",
      "WARNING  setting 'requires_grad=True' for frozen layer 'model.22.cv2.0.2.weight'. See ultralytics.engine.trainer for customization of frozen layers.\n",
      "WARNING  setting 'requires_grad=True' for frozen layer 'model.22.cv2.0.2.bias'. See ultralytics.engine.trainer for customization of frozen layers.\n",
      "WARNING  setting 'requires_grad=True' for frozen layer 'model.22.cv2.1.0.conv.weight'. See ultralytics.engine.trainer for customization of frozen layers.\n",
      "WARNING  setting 'requires_grad=True' for frozen layer 'model.22.cv2.1.0.bn.weight'. See ultralytics.engine.trainer for customization of frozen layers.\n",
      "WARNING  setting 'requires_grad=True' for frozen layer 'model.22.cv2.1.0.bn.bias'. See ultralytics.engine.trainer for customization of frozen layers.\n",
      "WARNING  setting 'requires_grad=True' for frozen layer 'model.22.cv2.1.1.conv.weight'. See ultralytics.engine.trainer for customization of frozen layers.\n",
      "WARNING  setting 'requires_grad=True' for frozen layer 'model.22.cv2.1.1.bn.weight'. See ultralytics.engine.trainer for customization of frozen layers.\n",
      "WARNING  setting 'requires_grad=True' for frozen layer 'model.22.cv2.1.1.bn.bias'. See ultralytics.engine.trainer for customization of frozen layers.\n",
      "WARNING  setting 'requires_grad=True' for frozen layer 'model.22.cv2.1.2.weight'. See ultralytics.engine.trainer for customization of frozen layers.\n",
      "WARNING  setting 'requires_grad=True' for frozen layer 'model.22.cv2.1.2.bias'. See ultralytics.engine.trainer for customization of frozen layers.\n",
      "WARNING  setting 'requires_grad=True' for frozen layer 'model.22.cv2.2.0.conv.weight'. See ultralytics.engine.trainer for customization of frozen layers.\n",
      "WARNING  setting 'requires_grad=True' for frozen layer 'model.22.cv2.2.0.bn.weight'. See ultralytics.engine.trainer for customization of frozen layers.\n",
      "WARNING  setting 'requires_grad=True' for frozen layer 'model.22.cv2.2.0.bn.bias'. See ultralytics.engine.trainer for customization of frozen layers.\n",
      "WARNING  setting 'requires_grad=True' for frozen layer 'model.22.cv2.2.1.conv.weight'. See ultralytics.engine.trainer for customization of frozen layers.\n",
      "WARNING  setting 'requires_grad=True' for frozen layer 'model.22.cv2.2.1.bn.weight'. See ultralytics.engine.trainer for customization of frozen layers.\n",
      "WARNING  setting 'requires_grad=True' for frozen layer 'model.22.cv2.2.1.bn.bias'. See ultralytics.engine.trainer for customization of frozen layers.\n",
      "WARNING  setting 'requires_grad=True' for frozen layer 'model.22.cv2.2.2.weight'. See ultralytics.engine.trainer for customization of frozen layers.\n",
      "WARNING  setting 'requires_grad=True' for frozen layer 'model.22.cv2.2.2.bias'. See ultralytics.engine.trainer for customization of frozen layers.\n",
      "Freezing layer 'model.22.dfl.conv.weight'\n"
     ]
    },
    {
     "name": "stderr",
     "output_type": "stream",
     "text": [
      "\u001B[34m\u001B[1mtrain: \u001B[0mScanning E:\\ML\\Weapon Detection System\\weapon-detection.v1i.yolov8\\train\\labels.cache... 460 images, 163 backgrounds, 0 corrupt: 100%|██████████| 460/460 [00:00<?, ?it/s]\n",
      "\u001B[34m\u001B[1mval: \u001B[0mScanning E:\\ML\\Weapon Detection System\\weapon-detection.v1i.yolov8\\valid\\labels.cache... 74 images, 1 backgrounds, 0 corrupt: 100%|██████████| 74/74 [00:00<?, ?it/s]\n"
     ]
    },
    {
     "name": "stdout",
     "output_type": "stream",
     "text": [
      "Plotting labels to runs\\detect\\train7\\labels.jpg... \n",
      "\u001B[34m\u001B[1moptimizer:\u001B[0m 'optimizer=auto' found, ignoring 'lr0=0.01' and 'momentum=0.937' and determining best 'optimizer', 'lr0' and 'momentum' automatically... \n",
      "\u001B[34m\u001B[1moptimizer:\u001B[0m AdamW(lr=0.002, momentum=0.9) with parameter groups 57 weight(decay=0.0), 64 weight(decay=0.0005), 63 bias(decay=0.0)\n",
      "Image sizes 640 train, 640 val\n",
      "Using 0 dataloader workers\n",
      "Logging results to \u001B[1mruns\\detect\\train7\u001B[0m\n",
      "Starting training for 50 epochs...\n",
      "\n",
      "      Epoch    GPU_mem   box_loss   cls_loss   dfl_loss  Instances       Size\n"
     ]
    },
    {
     "name": "stderr",
     "output_type": "stream",
     "text": [
      "  0%|          | 0/230 [00:00<?, ?it/s]\n"
     ]
    },
    {
     "ename": "RuntimeError",
     "evalue": "unknown error",
     "output_type": "error",
     "traceback": [
      "\u001B[31m---------------------------------------------------------------------------\u001B[39m",
      "\u001B[31mRuntimeError\u001B[39m                              Traceback (most recent call last)",
      "\u001B[36mCell\u001B[39m\u001B[36m \u001B[39m\u001B[32mIn[1]\u001B[39m\u001B[32m, line 18\u001B[39m\n\u001B[32m     15\u001B[39m model.to(device)\n\u001B[32m     17\u001B[39m \u001B[38;5;66;03m# Train with DirectML\u001B[39;00m\n\u001B[32m---> \u001B[39m\u001B[32m18\u001B[39m \u001B[43mmodel\u001B[49m\u001B[43m.\u001B[49m\u001B[43mtrain\u001B[49m\u001B[43m(\u001B[49m\n\u001B[32m     19\u001B[39m \u001B[43m    \u001B[49m\u001B[43mdata\u001B[49m\u001B[43m=\u001B[49m\u001B[33;43m\"\u001B[39;49m\u001B[33;43mE:/ML/Weapon Detection System/weapon-detection.v1i.yolov8/data.yaml\u001B[39;49m\u001B[33;43m\"\u001B[39;49m\u001B[43m,\u001B[49m\n\u001B[32m     20\u001B[39m \u001B[43m    \u001B[49m\u001B[43mepochs\u001B[49m\u001B[43m=\u001B[49m\u001B[32;43m50\u001B[39;49m\u001B[43m,\u001B[49m\n\u001B[32m     21\u001B[39m \u001B[43m    \u001B[49m\u001B[43mimgsz\u001B[49m\u001B[43m=\u001B[49m\u001B[32;43m640\u001B[39;49m\u001B[43m,\u001B[49m\n\u001B[32m     22\u001B[39m \u001B[43m    \u001B[49m\u001B[43mbatch\u001B[49m\u001B[43m=\u001B[49m\u001B[32;43m2\u001B[39;49m\u001B[43m,\u001B[49m\n\u001B[32m     23\u001B[39m \u001B[43m    \u001B[49m\u001B[43mdevice\u001B[49m\u001B[43m=\u001B[49m\u001B[43mdevice\u001B[49m\u001B[43m,\u001B[49m\n\u001B[32m     24\u001B[39m \u001B[43m    \u001B[49m\u001B[43mamp\u001B[49m\u001B[43m=\u001B[49m\u001B[38;5;28;43;01mFalse\u001B[39;49;00m\u001B[43m,\u001B[49m\n\u001B[32m     25\u001B[39m \u001B[43m    \u001B[49m\u001B[43mworkers\u001B[49m\u001B[43m=\u001B[49m\u001B[32;43m0\u001B[39;49m\u001B[43m  \u001B[49m\u001B[38;5;66;43;03m# Disable multiprocessing workers\u001B[39;49;00m\n\u001B[32m     26\u001B[39m \u001B[43m)\u001B[49m\n",
      "\u001B[36mFile \u001B[39m\u001B[32mE:\\BSAI-5th\\DataMining\\.venv\\Lib\\site-packages\\ultralytics\\engine\\model.py:791\u001B[39m, in \u001B[36mModel.train\u001B[39m\u001B[34m(self, trainer, **kwargs)\u001B[39m\n\u001B[32m    788\u001B[39m     \u001B[38;5;28mself\u001B[39m.model = \u001B[38;5;28mself\u001B[39m.trainer.model\n\u001B[32m    790\u001B[39m \u001B[38;5;28mself\u001B[39m.trainer.hub_session = \u001B[38;5;28mself\u001B[39m.session  \u001B[38;5;66;03m# attach optional HUB session\u001B[39;00m\n\u001B[32m--> \u001B[39m\u001B[32m791\u001B[39m \u001B[38;5;28;43mself\u001B[39;49m\u001B[43m.\u001B[49m\u001B[43mtrainer\u001B[49m\u001B[43m.\u001B[49m\u001B[43mtrain\u001B[49m\u001B[43m(\u001B[49m\u001B[43m)\u001B[49m\n\u001B[32m    792\u001B[39m \u001B[38;5;66;03m# Update model and cfg after training\u001B[39;00m\n\u001B[32m    793\u001B[39m \u001B[38;5;28;01mif\u001B[39;00m RANK \u001B[38;5;129;01min\u001B[39;00m {-\u001B[32m1\u001B[39m, \u001B[32m0\u001B[39m}:\n",
      "\u001B[36mFile \u001B[39m\u001B[32mE:\\BSAI-5th\\DataMining\\.venv\\Lib\\site-packages\\ultralytics\\engine\\trainer.py:211\u001B[39m, in \u001B[36mBaseTrainer.train\u001B[39m\u001B[34m(self)\u001B[39m\n\u001B[32m    208\u001B[39m         ddp_cleanup(\u001B[38;5;28mself\u001B[39m, \u001B[38;5;28mstr\u001B[39m(file))\n\u001B[32m    210\u001B[39m \u001B[38;5;28;01melse\u001B[39;00m:\n\u001B[32m--> \u001B[39m\u001B[32m211\u001B[39m     \u001B[38;5;28;43mself\u001B[39;49m\u001B[43m.\u001B[49m\u001B[43m_do_train\u001B[49m\u001B[43m(\u001B[49m\u001B[43mworld_size\u001B[49m\u001B[43m)\u001B[49m\n",
      "\u001B[36mFile \u001B[39m\u001B[32mE:\\BSAI-5th\\DataMining\\.venv\\Lib\\site-packages\\ultralytics\\engine\\trainer.py:384\u001B[39m, in \u001B[36mBaseTrainer._do_train\u001B[39m\u001B[34m(self, world_size)\u001B[39m\n\u001B[32m    382\u001B[39m \u001B[38;5;28;01mwith\u001B[39;00m autocast(\u001B[38;5;28mself\u001B[39m.amp):\n\u001B[32m    383\u001B[39m     batch = \u001B[38;5;28mself\u001B[39m.preprocess_batch(batch)\n\u001B[32m--> \u001B[39m\u001B[32m384\u001B[39m     \u001B[38;5;28mself\u001B[39m.loss, \u001B[38;5;28mself\u001B[39m.loss_items = \u001B[38;5;28;43mself\u001B[39;49m\u001B[43m.\u001B[49m\u001B[43mmodel\u001B[49m\u001B[43m(\u001B[49m\u001B[43mbatch\u001B[49m\u001B[43m)\u001B[49m\n\u001B[32m    385\u001B[39m     \u001B[38;5;28;01mif\u001B[39;00m RANK != -\u001B[32m1\u001B[39m:\n\u001B[32m    386\u001B[39m         \u001B[38;5;28mself\u001B[39m.loss *= world_size\n",
      "\u001B[36mFile \u001B[39m\u001B[32mE:\\BSAI-5th\\DataMining\\.venv\\Lib\\site-packages\\torch\\nn\\modules\\module.py:1553\u001B[39m, in \u001B[36mModule._wrapped_call_impl\u001B[39m\u001B[34m(self, *args, **kwargs)\u001B[39m\n\u001B[32m   1551\u001B[39m     \u001B[38;5;28;01mreturn\u001B[39;00m \u001B[38;5;28mself\u001B[39m._compiled_call_impl(*args, **kwargs)  \u001B[38;5;66;03m# type: ignore[misc]\u001B[39;00m\n\u001B[32m   1552\u001B[39m \u001B[38;5;28;01melse\u001B[39;00m:\n\u001B[32m-> \u001B[39m\u001B[32m1553\u001B[39m     \u001B[38;5;28;01mreturn\u001B[39;00m \u001B[38;5;28;43mself\u001B[39;49m\u001B[43m.\u001B[49m\u001B[43m_call_impl\u001B[49m\u001B[43m(\u001B[49m\u001B[43m*\u001B[49m\u001B[43margs\u001B[49m\u001B[43m,\u001B[49m\u001B[43m \u001B[49m\u001B[43m*\u001B[49m\u001B[43m*\u001B[49m\u001B[43mkwargs\u001B[49m\u001B[43m)\u001B[49m\n",
      "\u001B[36mFile \u001B[39m\u001B[32mE:\\BSAI-5th\\DataMining\\.venv\\Lib\\site-packages\\torch\\nn\\modules\\module.py:1562\u001B[39m, in \u001B[36mModule._call_impl\u001B[39m\u001B[34m(self, *args, **kwargs)\u001B[39m\n\u001B[32m   1557\u001B[39m \u001B[38;5;66;03m# If we don't have any hooks, we want to skip the rest of the logic in\u001B[39;00m\n\u001B[32m   1558\u001B[39m \u001B[38;5;66;03m# this function, and just call forward.\u001B[39;00m\n\u001B[32m   1559\u001B[39m \u001B[38;5;28;01mif\u001B[39;00m \u001B[38;5;129;01mnot\u001B[39;00m (\u001B[38;5;28mself\u001B[39m._backward_hooks \u001B[38;5;129;01mor\u001B[39;00m \u001B[38;5;28mself\u001B[39m._backward_pre_hooks \u001B[38;5;129;01mor\u001B[39;00m \u001B[38;5;28mself\u001B[39m._forward_hooks \u001B[38;5;129;01mor\u001B[39;00m \u001B[38;5;28mself\u001B[39m._forward_pre_hooks\n\u001B[32m   1560\u001B[39m         \u001B[38;5;129;01mor\u001B[39;00m _global_backward_pre_hooks \u001B[38;5;129;01mor\u001B[39;00m _global_backward_hooks\n\u001B[32m   1561\u001B[39m         \u001B[38;5;129;01mor\u001B[39;00m _global_forward_hooks \u001B[38;5;129;01mor\u001B[39;00m _global_forward_pre_hooks):\n\u001B[32m-> \u001B[39m\u001B[32m1562\u001B[39m     \u001B[38;5;28;01mreturn\u001B[39;00m \u001B[43mforward_call\u001B[49m\u001B[43m(\u001B[49m\u001B[43m*\u001B[49m\u001B[43margs\u001B[49m\u001B[43m,\u001B[49m\u001B[43m \u001B[49m\u001B[43m*\u001B[49m\u001B[43m*\u001B[49m\u001B[43mkwargs\u001B[49m\u001B[43m)\u001B[49m\n\u001B[32m   1564\u001B[39m \u001B[38;5;28;01mtry\u001B[39;00m:\n\u001B[32m   1565\u001B[39m     result = \u001B[38;5;28;01mNone\u001B[39;00m\n",
      "\u001B[36mFile \u001B[39m\u001B[32mE:\\BSAI-5th\\DataMining\\.venv\\Lib\\site-packages\\ultralytics\\nn\\tasks.py:113\u001B[39m, in \u001B[36mBaseModel.forward\u001B[39m\u001B[34m(self, x, *args, **kwargs)\u001B[39m\n\u001B[32m     99\u001B[39m \u001B[38;5;250m\u001B[39m\u001B[33;03m\"\"\"\u001B[39;00m\n\u001B[32m    100\u001B[39m \u001B[33;03mPerform forward pass of the model for either training or inference.\u001B[39;00m\n\u001B[32m    101\u001B[39m \n\u001B[32m   (...)\u001B[39m\u001B[32m    110\u001B[39m \u001B[33;03m    (torch.Tensor): Loss if x is a dict (training), or network predictions (inference).\u001B[39;00m\n\u001B[32m    111\u001B[39m \u001B[33;03m\"\"\"\u001B[39;00m\n\u001B[32m    112\u001B[39m \u001B[38;5;28;01mif\u001B[39;00m \u001B[38;5;28misinstance\u001B[39m(x, \u001B[38;5;28mdict\u001B[39m):  \u001B[38;5;66;03m# for cases of training and validating while training.\u001B[39;00m\n\u001B[32m--> \u001B[39m\u001B[32m113\u001B[39m     \u001B[38;5;28;01mreturn\u001B[39;00m \u001B[38;5;28;43mself\u001B[39;49m\u001B[43m.\u001B[49m\u001B[43mloss\u001B[49m\u001B[43m(\u001B[49m\u001B[43mx\u001B[49m\u001B[43m,\u001B[49m\u001B[43m \u001B[49m\u001B[43m*\u001B[49m\u001B[43margs\u001B[49m\u001B[43m,\u001B[49m\u001B[43m \u001B[49m\u001B[43m*\u001B[49m\u001B[43m*\u001B[49m\u001B[43mkwargs\u001B[49m\u001B[43m)\u001B[49m\n\u001B[32m    114\u001B[39m \u001B[38;5;28;01mreturn\u001B[39;00m \u001B[38;5;28mself\u001B[39m.predict(x, *args, **kwargs)\n",
      "\u001B[36mFile \u001B[39m\u001B[32mE:\\BSAI-5th\\DataMining\\.venv\\Lib\\site-packages\\ultralytics\\nn\\tasks.py:290\u001B[39m, in \u001B[36mBaseModel.loss\u001B[39m\u001B[34m(self, batch, preds)\u001B[39m\n\u001B[32m    287\u001B[39m \u001B[38;5;28;01mif\u001B[39;00m \u001B[38;5;28mgetattr\u001B[39m(\u001B[38;5;28mself\u001B[39m, \u001B[33m\"\u001B[39m\u001B[33mcriterion\u001B[39m\u001B[33m\"\u001B[39m, \u001B[38;5;28;01mNone\u001B[39;00m) \u001B[38;5;129;01mis\u001B[39;00m \u001B[38;5;28;01mNone\u001B[39;00m:\n\u001B[32m    288\u001B[39m     \u001B[38;5;28mself\u001B[39m.criterion = \u001B[38;5;28mself\u001B[39m.init_criterion()\n\u001B[32m--> \u001B[39m\u001B[32m290\u001B[39m preds = \u001B[38;5;28;43mself\u001B[39;49m\u001B[43m.\u001B[49m\u001B[43mforward\u001B[49m\u001B[43m(\u001B[49m\u001B[43mbatch\u001B[49m\u001B[43m[\u001B[49m\u001B[33;43m\"\u001B[39;49m\u001B[33;43mimg\u001B[39;49m\u001B[33;43m\"\u001B[39;49m\u001B[43m]\u001B[49m\u001B[43m)\u001B[49m \u001B[38;5;28;01mif\u001B[39;00m preds \u001B[38;5;129;01mis\u001B[39;00m \u001B[38;5;28;01mNone\u001B[39;00m \u001B[38;5;28;01melse\u001B[39;00m preds\n\u001B[32m    291\u001B[39m \u001B[38;5;28;01mreturn\u001B[39;00m \u001B[38;5;28mself\u001B[39m.criterion(preds, batch)\n",
      "\u001B[36mFile \u001B[39m\u001B[32mE:\\BSAI-5th\\DataMining\\.venv\\Lib\\site-packages\\ultralytics\\nn\\tasks.py:114\u001B[39m, in \u001B[36mBaseModel.forward\u001B[39m\u001B[34m(self, x, *args, **kwargs)\u001B[39m\n\u001B[32m    112\u001B[39m \u001B[38;5;28;01mif\u001B[39;00m \u001B[38;5;28misinstance\u001B[39m(x, \u001B[38;5;28mdict\u001B[39m):  \u001B[38;5;66;03m# for cases of training and validating while training.\u001B[39;00m\n\u001B[32m    113\u001B[39m     \u001B[38;5;28;01mreturn\u001B[39;00m \u001B[38;5;28mself\u001B[39m.loss(x, *args, **kwargs)\n\u001B[32m--> \u001B[39m\u001B[32m114\u001B[39m \u001B[38;5;28;01mreturn\u001B[39;00m \u001B[38;5;28;43mself\u001B[39;49m\u001B[43m.\u001B[49m\u001B[43mpredict\u001B[49m\u001B[43m(\u001B[49m\u001B[43mx\u001B[49m\u001B[43m,\u001B[49m\u001B[43m \u001B[49m\u001B[43m*\u001B[49m\u001B[43margs\u001B[49m\u001B[43m,\u001B[49m\u001B[43m \u001B[49m\u001B[43m*\u001B[49m\u001B[43m*\u001B[49m\u001B[43mkwargs\u001B[49m\u001B[43m)\u001B[49m\n",
      "\u001B[36mFile \u001B[39m\u001B[32mE:\\BSAI-5th\\DataMining\\.venv\\Lib\\site-packages\\ultralytics\\nn\\tasks.py:132\u001B[39m, in \u001B[36mBaseModel.predict\u001B[39m\u001B[34m(self, x, profile, visualize, augment, embed)\u001B[39m\n\u001B[32m    130\u001B[39m \u001B[38;5;28;01mif\u001B[39;00m augment:\n\u001B[32m    131\u001B[39m     \u001B[38;5;28;01mreturn\u001B[39;00m \u001B[38;5;28mself\u001B[39m._predict_augment(x)\n\u001B[32m--> \u001B[39m\u001B[32m132\u001B[39m \u001B[38;5;28;01mreturn\u001B[39;00m \u001B[38;5;28;43mself\u001B[39;49m\u001B[43m.\u001B[49m\u001B[43m_predict_once\u001B[49m\u001B[43m(\u001B[49m\u001B[43mx\u001B[49m\u001B[43m,\u001B[49m\u001B[43m \u001B[49m\u001B[43mprofile\u001B[49m\u001B[43m,\u001B[49m\u001B[43m \u001B[49m\u001B[43mvisualize\u001B[49m\u001B[43m,\u001B[49m\u001B[43m \u001B[49m\u001B[43membed\u001B[49m\u001B[43m)\u001B[49m\n",
      "\u001B[36mFile \u001B[39m\u001B[32mE:\\BSAI-5th\\DataMining\\.venv\\Lib\\site-packages\\ultralytics\\nn\\tasks.py:153\u001B[39m, in \u001B[36mBaseModel._predict_once\u001B[39m\u001B[34m(self, x, profile, visualize, embed)\u001B[39m\n\u001B[32m    151\u001B[39m \u001B[38;5;28;01mif\u001B[39;00m profile:\n\u001B[32m    152\u001B[39m     \u001B[38;5;28mself\u001B[39m._profile_one_layer(m, x, dt)\n\u001B[32m--> \u001B[39m\u001B[32m153\u001B[39m x = \u001B[43mm\u001B[49m\u001B[43m(\u001B[49m\u001B[43mx\u001B[49m\u001B[43m)\u001B[49m  \u001B[38;5;66;03m# run\u001B[39;00m\n\u001B[32m    154\u001B[39m y.append(x \u001B[38;5;28;01mif\u001B[39;00m m.i \u001B[38;5;129;01min\u001B[39;00m \u001B[38;5;28mself\u001B[39m.save \u001B[38;5;28;01melse\u001B[39;00m \u001B[38;5;28;01mNone\u001B[39;00m)  \u001B[38;5;66;03m# save output\u001B[39;00m\n\u001B[32m    155\u001B[39m \u001B[38;5;28;01mif\u001B[39;00m visualize:\n",
      "\u001B[36mFile \u001B[39m\u001B[32mE:\\BSAI-5th\\DataMining\\.venv\\Lib\\site-packages\\torch\\nn\\modules\\module.py:1553\u001B[39m, in \u001B[36mModule._wrapped_call_impl\u001B[39m\u001B[34m(self, *args, **kwargs)\u001B[39m\n\u001B[32m   1551\u001B[39m     \u001B[38;5;28;01mreturn\u001B[39;00m \u001B[38;5;28mself\u001B[39m._compiled_call_impl(*args, **kwargs)  \u001B[38;5;66;03m# type: ignore[misc]\u001B[39;00m\n\u001B[32m   1552\u001B[39m \u001B[38;5;28;01melse\u001B[39;00m:\n\u001B[32m-> \u001B[39m\u001B[32m1553\u001B[39m     \u001B[38;5;28;01mreturn\u001B[39;00m \u001B[38;5;28;43mself\u001B[39;49m\u001B[43m.\u001B[49m\u001B[43m_call_impl\u001B[49m\u001B[43m(\u001B[49m\u001B[43m*\u001B[49m\u001B[43margs\u001B[49m\u001B[43m,\u001B[49m\u001B[43m \u001B[49m\u001B[43m*\u001B[49m\u001B[43m*\u001B[49m\u001B[43mkwargs\u001B[49m\u001B[43m)\u001B[49m\n",
      "\u001B[36mFile \u001B[39m\u001B[32mE:\\BSAI-5th\\DataMining\\.venv\\Lib\\site-packages\\torch\\nn\\modules\\module.py:1562\u001B[39m, in \u001B[36mModule._call_impl\u001B[39m\u001B[34m(self, *args, **kwargs)\u001B[39m\n\u001B[32m   1557\u001B[39m \u001B[38;5;66;03m# If we don't have any hooks, we want to skip the rest of the logic in\u001B[39;00m\n\u001B[32m   1558\u001B[39m \u001B[38;5;66;03m# this function, and just call forward.\u001B[39;00m\n\u001B[32m   1559\u001B[39m \u001B[38;5;28;01mif\u001B[39;00m \u001B[38;5;129;01mnot\u001B[39;00m (\u001B[38;5;28mself\u001B[39m._backward_hooks \u001B[38;5;129;01mor\u001B[39;00m \u001B[38;5;28mself\u001B[39m._backward_pre_hooks \u001B[38;5;129;01mor\u001B[39;00m \u001B[38;5;28mself\u001B[39m._forward_hooks \u001B[38;5;129;01mor\u001B[39;00m \u001B[38;5;28mself\u001B[39m._forward_pre_hooks\n\u001B[32m   1560\u001B[39m         \u001B[38;5;129;01mor\u001B[39;00m _global_backward_pre_hooks \u001B[38;5;129;01mor\u001B[39;00m _global_backward_hooks\n\u001B[32m   1561\u001B[39m         \u001B[38;5;129;01mor\u001B[39;00m _global_forward_hooks \u001B[38;5;129;01mor\u001B[39;00m _global_forward_pre_hooks):\n\u001B[32m-> \u001B[39m\u001B[32m1562\u001B[39m     \u001B[38;5;28;01mreturn\u001B[39;00m \u001B[43mforward_call\u001B[49m\u001B[43m(\u001B[49m\u001B[43m*\u001B[49m\u001B[43margs\u001B[49m\u001B[43m,\u001B[49m\u001B[43m \u001B[49m\u001B[43m*\u001B[49m\u001B[43m*\u001B[49m\u001B[43mkwargs\u001B[49m\u001B[43m)\u001B[49m\n\u001B[32m   1564\u001B[39m \u001B[38;5;28;01mtry\u001B[39;00m:\n\u001B[32m   1565\u001B[39m     result = \u001B[38;5;28;01mNone\u001B[39;00m\n",
      "\u001B[36mFile \u001B[39m\u001B[32mE:\\BSAI-5th\\DataMining\\.venv\\Lib\\site-packages\\ultralytics\\nn\\modules\\conv.py:79\u001B[39m, in \u001B[36mConv.forward\u001B[39m\u001B[34m(self, x)\u001B[39m\n\u001B[32m     69\u001B[39m \u001B[38;5;28;01mdef\u001B[39;00m\u001B[38;5;250m \u001B[39m\u001B[34mforward\u001B[39m(\u001B[38;5;28mself\u001B[39m, x):\n\u001B[32m     70\u001B[39m \u001B[38;5;250m    \u001B[39m\u001B[33;03m\"\"\"\u001B[39;00m\n\u001B[32m     71\u001B[39m \u001B[33;03m    Apply convolution, batch normalization and activation to input tensor.\u001B[39;00m\n\u001B[32m     72\u001B[39m \n\u001B[32m   (...)\u001B[39m\u001B[32m     77\u001B[39m \u001B[33;03m        (torch.Tensor): Output tensor.\u001B[39;00m\n\u001B[32m     78\u001B[39m \u001B[33;03m    \"\"\"\u001B[39;00m\n\u001B[32m---> \u001B[39m\u001B[32m79\u001B[39m     \u001B[38;5;28;01mreturn\u001B[39;00m \u001B[38;5;28mself\u001B[39m.act(\u001B[38;5;28;43mself\u001B[39;49m\u001B[43m.\u001B[49m\u001B[43mbn\u001B[49m\u001B[43m(\u001B[49m\u001B[38;5;28;43mself\u001B[39;49m\u001B[43m.\u001B[49m\u001B[43mconv\u001B[49m\u001B[43m(\u001B[49m\u001B[43mx\u001B[49m\u001B[43m)\u001B[49m\u001B[43m)\u001B[49m)\n",
      "\u001B[36mFile \u001B[39m\u001B[32mE:\\BSAI-5th\\DataMining\\.venv\\Lib\\site-packages\\torch\\nn\\modules\\module.py:1553\u001B[39m, in \u001B[36mModule._wrapped_call_impl\u001B[39m\u001B[34m(self, *args, **kwargs)\u001B[39m\n\u001B[32m   1551\u001B[39m     \u001B[38;5;28;01mreturn\u001B[39;00m \u001B[38;5;28mself\u001B[39m._compiled_call_impl(*args, **kwargs)  \u001B[38;5;66;03m# type: ignore[misc]\u001B[39;00m\n\u001B[32m   1552\u001B[39m \u001B[38;5;28;01melse\u001B[39;00m:\n\u001B[32m-> \u001B[39m\u001B[32m1553\u001B[39m     \u001B[38;5;28;01mreturn\u001B[39;00m \u001B[38;5;28;43mself\u001B[39;49m\u001B[43m.\u001B[49m\u001B[43m_call_impl\u001B[49m\u001B[43m(\u001B[49m\u001B[43m*\u001B[49m\u001B[43margs\u001B[49m\u001B[43m,\u001B[49m\u001B[43m \u001B[49m\u001B[43m*\u001B[49m\u001B[43m*\u001B[49m\u001B[43mkwargs\u001B[49m\u001B[43m)\u001B[49m\n",
      "\u001B[36mFile \u001B[39m\u001B[32mE:\\BSAI-5th\\DataMining\\.venv\\Lib\\site-packages\\torch\\nn\\modules\\module.py:1562\u001B[39m, in \u001B[36mModule._call_impl\u001B[39m\u001B[34m(self, *args, **kwargs)\u001B[39m\n\u001B[32m   1557\u001B[39m \u001B[38;5;66;03m# If we don't have any hooks, we want to skip the rest of the logic in\u001B[39;00m\n\u001B[32m   1558\u001B[39m \u001B[38;5;66;03m# this function, and just call forward.\u001B[39;00m\n\u001B[32m   1559\u001B[39m \u001B[38;5;28;01mif\u001B[39;00m \u001B[38;5;129;01mnot\u001B[39;00m (\u001B[38;5;28mself\u001B[39m._backward_hooks \u001B[38;5;129;01mor\u001B[39;00m \u001B[38;5;28mself\u001B[39m._backward_pre_hooks \u001B[38;5;129;01mor\u001B[39;00m \u001B[38;5;28mself\u001B[39m._forward_hooks \u001B[38;5;129;01mor\u001B[39;00m \u001B[38;5;28mself\u001B[39m._forward_pre_hooks\n\u001B[32m   1560\u001B[39m         \u001B[38;5;129;01mor\u001B[39;00m _global_backward_pre_hooks \u001B[38;5;129;01mor\u001B[39;00m _global_backward_hooks\n\u001B[32m   1561\u001B[39m         \u001B[38;5;129;01mor\u001B[39;00m _global_forward_hooks \u001B[38;5;129;01mor\u001B[39;00m _global_forward_pre_hooks):\n\u001B[32m-> \u001B[39m\u001B[32m1562\u001B[39m     \u001B[38;5;28;01mreturn\u001B[39;00m \u001B[43mforward_call\u001B[49m\u001B[43m(\u001B[49m\u001B[43m*\u001B[49m\u001B[43margs\u001B[49m\u001B[43m,\u001B[49m\u001B[43m \u001B[49m\u001B[43m*\u001B[49m\u001B[43m*\u001B[49m\u001B[43mkwargs\u001B[49m\u001B[43m)\u001B[49m\n\u001B[32m   1564\u001B[39m \u001B[38;5;28;01mtry\u001B[39;00m:\n\u001B[32m   1565\u001B[39m     result = \u001B[38;5;28;01mNone\u001B[39;00m\n",
      "\u001B[36mFile \u001B[39m\u001B[32mE:\\BSAI-5th\\DataMining\\.venv\\Lib\\site-packages\\torch\\nn\\modules\\batchnorm.py:176\u001B[39m, in \u001B[36m_BatchNorm.forward\u001B[39m\u001B[34m(self, input)\u001B[39m\n\u001B[32m    169\u001B[39m     bn_training = (\u001B[38;5;28mself\u001B[39m.running_mean \u001B[38;5;129;01mis\u001B[39;00m \u001B[38;5;28;01mNone\u001B[39;00m) \u001B[38;5;129;01mand\u001B[39;00m (\u001B[38;5;28mself\u001B[39m.running_var \u001B[38;5;129;01mis\u001B[39;00m \u001B[38;5;28;01mNone\u001B[39;00m)\n\u001B[32m    171\u001B[39m \u001B[38;5;250m\u001B[39m\u001B[33mr\u001B[39m\u001B[33;03m\"\"\"\u001B[39;00m\n\u001B[32m    172\u001B[39m \u001B[33;03mBuffers are only updated if they are to be tracked and we are in training mode. Thus they only need to be\u001B[39;00m\n\u001B[32m    173\u001B[39m \u001B[33;03mpassed when the update should occur (i.e. in training mode when they are tracked), or when buffer stats are\u001B[39;00m\n\u001B[32m    174\u001B[39m \u001B[33;03mused for normalization (i.e. in eval mode when buffers are not None).\u001B[39;00m\n\u001B[32m    175\u001B[39m \u001B[33;03m\"\"\"\u001B[39;00m\n\u001B[32m--> \u001B[39m\u001B[32m176\u001B[39m \u001B[38;5;28;01mreturn\u001B[39;00m \u001B[43mF\u001B[49m\u001B[43m.\u001B[49m\u001B[43mbatch_norm\u001B[49m\u001B[43m(\u001B[49m\n\u001B[32m    177\u001B[39m \u001B[43m    \u001B[49m\u001B[38;5;28;43minput\u001B[39;49m\u001B[43m,\u001B[49m\n\u001B[32m    178\u001B[39m \u001B[43m    \u001B[49m\u001B[38;5;66;43;03m# If buffers are not to be tracked, ensure that they won't be updated\u001B[39;49;00m\n\u001B[32m    179\u001B[39m \u001B[43m    \u001B[49m\u001B[38;5;28;43mself\u001B[39;49m\u001B[43m.\u001B[49m\u001B[43mrunning_mean\u001B[49m\n\u001B[32m    180\u001B[39m \u001B[43m    \u001B[49m\u001B[38;5;28;43;01mif\u001B[39;49;00m\u001B[43m \u001B[49m\u001B[38;5;129;43;01mnot\u001B[39;49;00m\u001B[43m \u001B[49m\u001B[38;5;28;43mself\u001B[39;49m\u001B[43m.\u001B[49m\u001B[43mtraining\u001B[49m\u001B[43m \u001B[49m\u001B[38;5;129;43;01mor\u001B[39;49;00m\u001B[43m \u001B[49m\u001B[38;5;28;43mself\u001B[39;49m\u001B[43m.\u001B[49m\u001B[43mtrack_running_stats\u001B[49m\n\u001B[32m    181\u001B[39m \u001B[43m    \u001B[49m\u001B[38;5;28;43;01melse\u001B[39;49;00m\u001B[43m \u001B[49m\u001B[38;5;28;43;01mNone\u001B[39;49;00m\u001B[43m,\u001B[49m\n\u001B[32m    182\u001B[39m \u001B[43m    \u001B[49m\u001B[38;5;28;43mself\u001B[39;49m\u001B[43m.\u001B[49m\u001B[43mrunning_var\u001B[49m\u001B[43m \u001B[49m\u001B[38;5;28;43;01mif\u001B[39;49;00m\u001B[43m \u001B[49m\u001B[38;5;129;43;01mnot\u001B[39;49;00m\u001B[43m \u001B[49m\u001B[38;5;28;43mself\u001B[39;49m\u001B[43m.\u001B[49m\u001B[43mtraining\u001B[49m\u001B[43m \u001B[49m\u001B[38;5;129;43;01mor\u001B[39;49;00m\u001B[43m \u001B[49m\u001B[38;5;28;43mself\u001B[39;49m\u001B[43m.\u001B[49m\u001B[43mtrack_running_stats\u001B[49m\u001B[43m \u001B[49m\u001B[38;5;28;43;01melse\u001B[39;49;00m\u001B[43m \u001B[49m\u001B[38;5;28;43;01mNone\u001B[39;49;00m\u001B[43m,\u001B[49m\n\u001B[32m    183\u001B[39m \u001B[43m    \u001B[49m\u001B[38;5;28;43mself\u001B[39;49m\u001B[43m.\u001B[49m\u001B[43mweight\u001B[49m\u001B[43m,\u001B[49m\n\u001B[32m    184\u001B[39m \u001B[43m    \u001B[49m\u001B[38;5;28;43mself\u001B[39;49m\u001B[43m.\u001B[49m\u001B[43mbias\u001B[49m\u001B[43m,\u001B[49m\n\u001B[32m    185\u001B[39m \u001B[43m    \u001B[49m\u001B[43mbn_training\u001B[49m\u001B[43m,\u001B[49m\n\u001B[32m    186\u001B[39m \u001B[43m    \u001B[49m\u001B[43mexponential_average_factor\u001B[49m\u001B[43m,\u001B[49m\n\u001B[32m    187\u001B[39m \u001B[43m    \u001B[49m\u001B[38;5;28;43mself\u001B[39;49m\u001B[43m.\u001B[49m\u001B[43meps\u001B[49m\u001B[43m,\u001B[49m\n\u001B[32m    188\u001B[39m \u001B[43m\u001B[49m\u001B[43m)\u001B[49m\n",
      "\u001B[36mFile \u001B[39m\u001B[32mE:\\BSAI-5th\\DataMining\\.venv\\Lib\\site-packages\\torch\\nn\\functional.py:2512\u001B[39m, in \u001B[36mbatch_norm\u001B[39m\u001B[34m(input, running_mean, running_var, weight, bias, training, momentum, eps)\u001B[39m\n\u001B[32m   2509\u001B[39m \u001B[38;5;28;01mif\u001B[39;00m training:\n\u001B[32m   2510\u001B[39m     _verify_batch_size(\u001B[38;5;28minput\u001B[39m.size())\n\u001B[32m-> \u001B[39m\u001B[32m2512\u001B[39m \u001B[38;5;28;01mreturn\u001B[39;00m \u001B[43mtorch\u001B[49m\u001B[43m.\u001B[49m\u001B[43mbatch_norm\u001B[49m\u001B[43m(\u001B[49m\n\u001B[32m   2513\u001B[39m \u001B[43m    \u001B[49m\u001B[38;5;28;43minput\u001B[39;49m\u001B[43m,\u001B[49m\u001B[43m \u001B[49m\u001B[43mweight\u001B[49m\u001B[43m,\u001B[49m\u001B[43m \u001B[49m\u001B[43mbias\u001B[49m\u001B[43m,\u001B[49m\u001B[43m \u001B[49m\u001B[43mrunning_mean\u001B[49m\u001B[43m,\u001B[49m\u001B[43m \u001B[49m\u001B[43mrunning_var\u001B[49m\u001B[43m,\u001B[49m\u001B[43m \u001B[49m\u001B[43mtraining\u001B[49m\u001B[43m,\u001B[49m\u001B[43m \u001B[49m\u001B[43mmomentum\u001B[49m\u001B[43m,\u001B[49m\u001B[43m \u001B[49m\u001B[43meps\u001B[49m\u001B[43m,\u001B[49m\u001B[43m \u001B[49m\u001B[43mtorch\u001B[49m\u001B[43m.\u001B[49m\u001B[43mbackends\u001B[49m\u001B[43m.\u001B[49m\u001B[43mcudnn\u001B[49m\u001B[43m.\u001B[49m\u001B[43menabled\u001B[49m\n\u001B[32m   2514\u001B[39m \u001B[43m\u001B[49m\u001B[43m)\u001B[49m\n",
      "\u001B[31mRuntimeError\u001B[39m: unknown error"
     ]
    }
   ],
   "execution_count": 1
  },
  {
   "metadata": {
    "jupyter": {
     "is_executing": true
    },
    "ExecuteTime": {
     "start_time": "2025-03-26T14:21:30.862109Z"
    }
   },
   "cell_type": "code",
   "source": [
    "import torch\n",
    "from ultralytics import YOLO\n",
    "import os\n",
    "\n",
    "model = YOLO(\"yolov8n.pt\")\n",
    "model.to(device)\n",
    "model.train(\n",
    "    data=\"E:/ML/Weapon Detection System/weapon-detection.v1i.yolov8/data.yaml\",\n",
    "    epochs=50,\n",
    "    imgsz=640,\n",
    "    batch=8,\n",
    "    device=\"cpu\"\n",
    ")"
   ],
   "id": "8b25c17691441101",
   "outputs": [
    {
     "name": "stdout",
     "output_type": "stream",
     "text": [
      "Ultralytics 8.3.96  Python-3.11.0 torch-2.4.1+cpu CPU (Intel Core(TM) i7-4700MQ 2.40GHz)\n",
      "\u001B[34m\u001B[1mengine\\trainer: \u001B[0mtask=detect, mode=train, model=yolov8n.pt, data=E:/ML/Weapon Detection System/weapon-detection.v1i.yolov8/data.yaml, epochs=50, time=None, patience=100, batch=8, imgsz=640, save=True, save_period=-1, cache=False, device=cpu, workers=8, project=None, name=train9, exist_ok=False, pretrained=True, optimizer=auto, verbose=True, seed=0, deterministic=True, single_cls=False, rect=False, cos_lr=False, close_mosaic=10, resume=False, amp=True, fraction=1.0, profile=False, freeze=None, multi_scale=False, overlap_mask=True, mask_ratio=4, dropout=0.0, val=True, split=val, save_json=False, save_hybrid=False, conf=None, iou=0.7, max_det=300, half=False, dnn=False, plots=True, source=None, vid_stride=1, stream_buffer=False, visualize=False, augment=False, agnostic_nms=False, classes=None, retina_masks=False, embed=None, show=False, save_frames=False, save_txt=False, save_conf=False, save_crop=False, show_labels=True, show_conf=True, show_boxes=True, line_width=None, format=torchscript, keras=False, optimize=False, int8=False, dynamic=False, simplify=True, opset=None, workspace=None, nms=False, lr0=0.01, lrf=0.01, momentum=0.937, weight_decay=0.0005, warmup_epochs=3.0, warmup_momentum=0.8, warmup_bias_lr=0.1, box=7.5, cls=0.5, dfl=1.5, pose=12.0, kobj=1.0, nbs=64, hsv_h=0.015, hsv_s=0.7, hsv_v=0.4, degrees=0.0, translate=0.1, scale=0.5, shear=0.0, perspective=0.0, flipud=0.0, fliplr=0.5, bgr=0.0, mosaic=1.0, mixup=0.0, copy_paste=0.0, copy_paste_mode=flip, auto_augment=randaugment, erasing=0.4, crop_fraction=1.0, cfg=None, tracker=botsort.yaml, save_dir=runs\\detect\\train9\n",
      "Overriding model.yaml nc=80 with nc=1\n",
      "\n",
      "                   from  n    params  module                                       arguments                     \n",
      "  0                  -1  1       464  ultralytics.nn.modules.conv.Conv             [3, 16, 3, 2]                 \n",
      "  1                  -1  1      4672  ultralytics.nn.modules.conv.Conv             [16, 32, 3, 2]                \n",
      "  2                  -1  1      7360  ultralytics.nn.modules.block.C2f             [32, 32, 1, True]             \n",
      "  3                  -1  1     18560  ultralytics.nn.modules.conv.Conv             [32, 64, 3, 2]                \n",
      "  4                  -1  2     49664  ultralytics.nn.modules.block.C2f             [64, 64, 2, True]             \n",
      "  5                  -1  1     73984  ultralytics.nn.modules.conv.Conv             [64, 128, 3, 2]               \n",
      "  6                  -1  2    197632  ultralytics.nn.modules.block.C2f             [128, 128, 2, True]           \n",
      "  7                  -1  1    295424  ultralytics.nn.modules.conv.Conv             [128, 256, 3, 2]              \n",
      "  8                  -1  1    460288  ultralytics.nn.modules.block.C2f             [256, 256, 1, True]           \n",
      "  9                  -1  1    164608  ultralytics.nn.modules.block.SPPF            [256, 256, 5]                 \n",
      " 10                  -1  1         0  torch.nn.modules.upsampling.Upsample         [None, 2, 'nearest']          \n",
      " 11             [-1, 6]  1         0  ultralytics.nn.modules.conv.Concat           [1]                           \n",
      " 12                  -1  1    148224  ultralytics.nn.modules.block.C2f             [384, 128, 1]                 \n",
      " 13                  -1  1         0  torch.nn.modules.upsampling.Upsample         [None, 2, 'nearest']          \n",
      " 14             [-1, 4]  1         0  ultralytics.nn.modules.conv.Concat           [1]                           \n",
      " 15                  -1  1     37248  ultralytics.nn.modules.block.C2f             [192, 64, 1]                  \n",
      " 16                  -1  1     36992  ultralytics.nn.modules.conv.Conv             [64, 64, 3, 2]                \n",
      " 17            [-1, 12]  1         0  ultralytics.nn.modules.conv.Concat           [1]                           \n",
      " 18                  -1  1    123648  ultralytics.nn.modules.block.C2f             [192, 128, 1]                 \n",
      " 19                  -1  1    147712  ultralytics.nn.modules.conv.Conv             [128, 128, 3, 2]              \n",
      " 20             [-1, 9]  1         0  ultralytics.nn.modules.conv.Concat           [1]                           \n",
      " 21                  -1  1    493056  ultralytics.nn.modules.block.C2f             [384, 256, 1]                 \n",
      " 22        [15, 18, 21]  1    751507  ultralytics.nn.modules.head.Detect           [1, [64, 128, 256]]           \n",
      "Model summary: 129 layers, 3,011,043 parameters, 3,011,027 gradients, 8.2 GFLOPs\n",
      "\n",
      "Transferred 319/355 items from pretrained weights\n",
      "WARNING  setting 'requires_grad=True' for frozen layer 'model.0.conv.weight'. See ultralytics.engine.trainer for customization of frozen layers.\n",
      "WARNING  setting 'requires_grad=True' for frozen layer 'model.0.bn.weight'. See ultralytics.engine.trainer for customization of frozen layers.\n",
      "WARNING  setting 'requires_grad=True' for frozen layer 'model.0.bn.bias'. See ultralytics.engine.trainer for customization of frozen layers.\n",
      "WARNING  setting 'requires_grad=True' for frozen layer 'model.1.conv.weight'. See ultralytics.engine.trainer for customization of frozen layers.\n",
      "WARNING  setting 'requires_grad=True' for frozen layer 'model.1.bn.weight'. See ultralytics.engine.trainer for customization of frozen layers.\n",
      "WARNING  setting 'requires_grad=True' for frozen layer 'model.1.bn.bias'. See ultralytics.engine.trainer for customization of frozen layers.\n",
      "WARNING  setting 'requires_grad=True' for frozen layer 'model.2.cv1.conv.weight'. See ultralytics.engine.trainer for customization of frozen layers.\n",
      "WARNING  setting 'requires_grad=True' for frozen layer 'model.2.cv1.bn.weight'. See ultralytics.engine.trainer for customization of frozen layers.\n",
      "WARNING  setting 'requires_grad=True' for frozen layer 'model.2.cv1.bn.bias'. See ultralytics.engine.trainer for customization of frozen layers.\n",
      "WARNING  setting 'requires_grad=True' for frozen layer 'model.2.cv2.conv.weight'. See ultralytics.engine.trainer for customization of frozen layers.\n",
      "WARNING  setting 'requires_grad=True' for frozen layer 'model.2.cv2.bn.weight'. See ultralytics.engine.trainer for customization of frozen layers.\n",
      "WARNING  setting 'requires_grad=True' for frozen layer 'model.2.cv2.bn.bias'. See ultralytics.engine.trainer for customization of frozen layers.\n",
      "WARNING  setting 'requires_grad=True' for frozen layer 'model.2.m.0.cv1.conv.weight'. See ultralytics.engine.trainer for customization of frozen layers.\n",
      "WARNING  setting 'requires_grad=True' for frozen layer 'model.2.m.0.cv1.bn.weight'. See ultralytics.engine.trainer for customization of frozen layers.\n",
      "WARNING  setting 'requires_grad=True' for frozen layer 'model.2.m.0.cv1.bn.bias'. See ultralytics.engine.trainer for customization of frozen layers.\n",
      "WARNING  setting 'requires_grad=True' for frozen layer 'model.2.m.0.cv2.conv.weight'. See ultralytics.engine.trainer for customization of frozen layers.\n",
      "WARNING  setting 'requires_grad=True' for frozen layer 'model.2.m.0.cv2.bn.weight'. See ultralytics.engine.trainer for customization of frozen layers.\n",
      "WARNING  setting 'requires_grad=True' for frozen layer 'model.2.m.0.cv2.bn.bias'. See ultralytics.engine.trainer for customization of frozen layers.\n",
      "WARNING  setting 'requires_grad=True' for frozen layer 'model.3.conv.weight'. See ultralytics.engine.trainer for customization of frozen layers.\n",
      "WARNING  setting 'requires_grad=True' for frozen layer 'model.3.bn.weight'. See ultralytics.engine.trainer for customization of frozen layers.\n",
      "WARNING  setting 'requires_grad=True' for frozen layer 'model.3.bn.bias'. See ultralytics.engine.trainer for customization of frozen layers.\n",
      "WARNING  setting 'requires_grad=True' for frozen layer 'model.4.cv1.conv.weight'. See ultralytics.engine.trainer for customization of frozen layers.\n",
      "WARNING  setting 'requires_grad=True' for frozen layer 'model.4.cv1.bn.weight'. See ultralytics.engine.trainer for customization of frozen layers.\n",
      "WARNING  setting 'requires_grad=True' for frozen layer 'model.4.cv1.bn.bias'. See ultralytics.engine.trainer for customization of frozen layers.\n",
      "WARNING  setting 'requires_grad=True' for frozen layer 'model.4.cv2.conv.weight'. See ultralytics.engine.trainer for customization of frozen layers.\n",
      "WARNING  setting 'requires_grad=True' for frozen layer 'model.4.cv2.bn.weight'. See ultralytics.engine.trainer for customization of frozen layers.\n",
      "WARNING  setting 'requires_grad=True' for frozen layer 'model.4.cv2.bn.bias'. See ultralytics.engine.trainer for customization of frozen layers.\n",
      "WARNING  setting 'requires_grad=True' for frozen layer 'model.4.m.0.cv1.conv.weight'. See ultralytics.engine.trainer for customization of frozen layers.\n",
      "WARNING  setting 'requires_grad=True' for frozen layer 'model.4.m.0.cv1.bn.weight'. See ultralytics.engine.trainer for customization of frozen layers.\n",
      "WARNING  setting 'requires_grad=True' for frozen layer 'model.4.m.0.cv1.bn.bias'. See ultralytics.engine.trainer for customization of frozen layers.\n",
      "WARNING  setting 'requires_grad=True' for frozen layer 'model.4.m.0.cv2.conv.weight'. See ultralytics.engine.trainer for customization of frozen layers.\n",
      "WARNING  setting 'requires_grad=True' for frozen layer 'model.4.m.0.cv2.bn.weight'. See ultralytics.engine.trainer for customization of frozen layers.\n",
      "WARNING  setting 'requires_grad=True' for frozen layer 'model.4.m.0.cv2.bn.bias'. See ultralytics.engine.trainer for customization of frozen layers.\n",
      "WARNING  setting 'requires_grad=True' for frozen layer 'model.4.m.1.cv1.conv.weight'. See ultralytics.engine.trainer for customization of frozen layers.\n",
      "WARNING  setting 'requires_grad=True' for frozen layer 'model.4.m.1.cv1.bn.weight'. See ultralytics.engine.trainer for customization of frozen layers.\n",
      "WARNING  setting 'requires_grad=True' for frozen layer 'model.4.m.1.cv1.bn.bias'. See ultralytics.engine.trainer for customization of frozen layers.\n",
      "WARNING  setting 'requires_grad=True' for frozen layer 'model.4.m.1.cv2.conv.weight'. See ultralytics.engine.trainer for customization of frozen layers.\n",
      "WARNING  setting 'requires_grad=True' for frozen layer 'model.4.m.1.cv2.bn.weight'. See ultralytics.engine.trainer for customization of frozen layers.\n",
      "WARNING  setting 'requires_grad=True' for frozen layer 'model.4.m.1.cv2.bn.bias'. See ultralytics.engine.trainer for customization of frozen layers.\n",
      "WARNING  setting 'requires_grad=True' for frozen layer 'model.5.conv.weight'. See ultralytics.engine.trainer for customization of frozen layers.\n",
      "WARNING  setting 'requires_grad=True' for frozen layer 'model.5.bn.weight'. See ultralytics.engine.trainer for customization of frozen layers.\n",
      "WARNING  setting 'requires_grad=True' for frozen layer 'model.5.bn.bias'. See ultralytics.engine.trainer for customization of frozen layers.\n",
      "WARNING  setting 'requires_grad=True' for frozen layer 'model.6.cv1.conv.weight'. See ultralytics.engine.trainer for customization of frozen layers.\n",
      "WARNING  setting 'requires_grad=True' for frozen layer 'model.6.cv1.bn.weight'. See ultralytics.engine.trainer for customization of frozen layers.\n",
      "WARNING  setting 'requires_grad=True' for frozen layer 'model.6.cv1.bn.bias'. See ultralytics.engine.trainer for customization of frozen layers.\n",
      "WARNING  setting 'requires_grad=True' for frozen layer 'model.6.cv2.conv.weight'. See ultralytics.engine.trainer for customization of frozen layers.\n",
      "WARNING  setting 'requires_grad=True' for frozen layer 'model.6.cv2.bn.weight'. See ultralytics.engine.trainer for customization of frozen layers.\n",
      "WARNING  setting 'requires_grad=True' for frozen layer 'model.6.cv2.bn.bias'. See ultralytics.engine.trainer for customization of frozen layers.\n",
      "WARNING  setting 'requires_grad=True' for frozen layer 'model.6.m.0.cv1.conv.weight'. See ultralytics.engine.trainer for customization of frozen layers.\n",
      "WARNING  setting 'requires_grad=True' for frozen layer 'model.6.m.0.cv1.bn.weight'. See ultralytics.engine.trainer for customization of frozen layers.\n",
      "WARNING  setting 'requires_grad=True' for frozen layer 'model.6.m.0.cv1.bn.bias'. See ultralytics.engine.trainer for customization of frozen layers.\n",
      "WARNING  setting 'requires_grad=True' for frozen layer 'model.6.m.0.cv2.conv.weight'. See ultralytics.engine.trainer for customization of frozen layers.\n",
      "WARNING  setting 'requires_grad=True' for frozen layer 'model.6.m.0.cv2.bn.weight'. See ultralytics.engine.trainer for customization of frozen layers.\n",
      "WARNING  setting 'requires_grad=True' for frozen layer 'model.6.m.0.cv2.bn.bias'. See ultralytics.engine.trainer for customization of frozen layers.\n",
      "WARNING  setting 'requires_grad=True' for frozen layer 'model.6.m.1.cv1.conv.weight'. See ultralytics.engine.trainer for customization of frozen layers.\n",
      "WARNING  setting 'requires_grad=True' for frozen layer 'model.6.m.1.cv1.bn.weight'. See ultralytics.engine.trainer for customization of frozen layers.\n",
      "WARNING  setting 'requires_grad=True' for frozen layer 'model.6.m.1.cv1.bn.bias'. See ultralytics.engine.trainer for customization of frozen layers.\n",
      "WARNING  setting 'requires_grad=True' for frozen layer 'model.6.m.1.cv2.conv.weight'. See ultralytics.engine.trainer for customization of frozen layers.\n",
      "WARNING  setting 'requires_grad=True' for frozen layer 'model.6.m.1.cv2.bn.weight'. See ultralytics.engine.trainer for customization of frozen layers.\n",
      "WARNING  setting 'requires_grad=True' for frozen layer 'model.6.m.1.cv2.bn.bias'. See ultralytics.engine.trainer for customization of frozen layers.\n",
      "WARNING  setting 'requires_grad=True' for frozen layer 'model.7.conv.weight'. See ultralytics.engine.trainer for customization of frozen layers.\n",
      "WARNING  setting 'requires_grad=True' for frozen layer 'model.7.bn.weight'. See ultralytics.engine.trainer for customization of frozen layers.\n",
      "WARNING  setting 'requires_grad=True' for frozen layer 'model.7.bn.bias'. See ultralytics.engine.trainer for customization of frozen layers.\n",
      "WARNING  setting 'requires_grad=True' for frozen layer 'model.8.cv1.conv.weight'. See ultralytics.engine.trainer for customization of frozen layers.\n",
      "WARNING  setting 'requires_grad=True' for frozen layer 'model.8.cv1.bn.weight'. See ultralytics.engine.trainer for customization of frozen layers.\n",
      "WARNING  setting 'requires_grad=True' for frozen layer 'model.8.cv1.bn.bias'. See ultralytics.engine.trainer for customization of frozen layers.\n",
      "WARNING  setting 'requires_grad=True' for frozen layer 'model.8.cv2.conv.weight'. See ultralytics.engine.trainer for customization of frozen layers.\n",
      "WARNING  setting 'requires_grad=True' for frozen layer 'model.8.cv2.bn.weight'. See ultralytics.engine.trainer for customization of frozen layers.\n",
      "WARNING  setting 'requires_grad=True' for frozen layer 'model.8.cv2.bn.bias'. See ultralytics.engine.trainer for customization of frozen layers.\n",
      "WARNING  setting 'requires_grad=True' for frozen layer 'model.8.m.0.cv1.conv.weight'. See ultralytics.engine.trainer for customization of frozen layers.\n",
      "WARNING  setting 'requires_grad=True' for frozen layer 'model.8.m.0.cv1.bn.weight'. See ultralytics.engine.trainer for customization of frozen layers.\n",
      "WARNING  setting 'requires_grad=True' for frozen layer 'model.8.m.0.cv1.bn.bias'. See ultralytics.engine.trainer for customization of frozen layers.\n",
      "WARNING  setting 'requires_grad=True' for frozen layer 'model.8.m.0.cv2.conv.weight'. See ultralytics.engine.trainer for customization of frozen layers.\n",
      "WARNING  setting 'requires_grad=True' for frozen layer 'model.8.m.0.cv2.bn.weight'. See ultralytics.engine.trainer for customization of frozen layers.\n",
      "WARNING  setting 'requires_grad=True' for frozen layer 'model.8.m.0.cv2.bn.bias'. See ultralytics.engine.trainer for customization of frozen layers.\n",
      "WARNING  setting 'requires_grad=True' for frozen layer 'model.9.cv1.conv.weight'. See ultralytics.engine.trainer for customization of frozen layers.\n",
      "WARNING  setting 'requires_grad=True' for frozen layer 'model.9.cv1.bn.weight'. See ultralytics.engine.trainer for customization of frozen layers.\n",
      "WARNING  setting 'requires_grad=True' for frozen layer 'model.9.cv1.bn.bias'. See ultralytics.engine.trainer for customization of frozen layers.\n",
      "WARNING  setting 'requires_grad=True' for frozen layer 'model.9.cv2.conv.weight'. See ultralytics.engine.trainer for customization of frozen layers.\n",
      "WARNING  setting 'requires_grad=True' for frozen layer 'model.9.cv2.bn.weight'. See ultralytics.engine.trainer for customization of frozen layers.\n",
      "WARNING  setting 'requires_grad=True' for frozen layer 'model.9.cv2.bn.bias'. See ultralytics.engine.trainer for customization of frozen layers.\n",
      "WARNING  setting 'requires_grad=True' for frozen layer 'model.12.cv1.conv.weight'. See ultralytics.engine.trainer for customization of frozen layers.\n",
      "WARNING  setting 'requires_grad=True' for frozen layer 'model.12.cv1.bn.weight'. See ultralytics.engine.trainer for customization of frozen layers.\n",
      "WARNING  setting 'requires_grad=True' for frozen layer 'model.12.cv1.bn.bias'. See ultralytics.engine.trainer for customization of frozen layers.\n",
      "WARNING  setting 'requires_grad=True' for frozen layer 'model.12.cv2.conv.weight'. See ultralytics.engine.trainer for customization of frozen layers.\n",
      "WARNING  setting 'requires_grad=True' for frozen layer 'model.12.cv2.bn.weight'. See ultralytics.engine.trainer for customization of frozen layers.\n",
      "WARNING  setting 'requires_grad=True' for frozen layer 'model.12.cv2.bn.bias'. See ultralytics.engine.trainer for customization of frozen layers.\n",
      "WARNING  setting 'requires_grad=True' for frozen layer 'model.12.m.0.cv1.conv.weight'. See ultralytics.engine.trainer for customization of frozen layers.\n",
      "WARNING  setting 'requires_grad=True' for frozen layer 'model.12.m.0.cv1.bn.weight'. See ultralytics.engine.trainer for customization of frozen layers.\n",
      "WARNING  setting 'requires_grad=True' for frozen layer 'model.12.m.0.cv1.bn.bias'. See ultralytics.engine.trainer for customization of frozen layers.\n",
      "WARNING  setting 'requires_grad=True' for frozen layer 'model.12.m.0.cv2.conv.weight'. See ultralytics.engine.trainer for customization of frozen layers.\n",
      "WARNING  setting 'requires_grad=True' for frozen layer 'model.12.m.0.cv2.bn.weight'. See ultralytics.engine.trainer for customization of frozen layers.\n",
      "WARNING  setting 'requires_grad=True' for frozen layer 'model.12.m.0.cv2.bn.bias'. See ultralytics.engine.trainer for customization of frozen layers.\n",
      "WARNING  setting 'requires_grad=True' for frozen layer 'model.15.cv1.conv.weight'. See ultralytics.engine.trainer for customization of frozen layers.\n",
      "WARNING  setting 'requires_grad=True' for frozen layer 'model.15.cv1.bn.weight'. See ultralytics.engine.trainer for customization of frozen layers.\n",
      "WARNING  setting 'requires_grad=True' for frozen layer 'model.15.cv1.bn.bias'. See ultralytics.engine.trainer for customization of frozen layers.\n",
      "WARNING  setting 'requires_grad=True' for frozen layer 'model.15.cv2.conv.weight'. See ultralytics.engine.trainer for customization of frozen layers.\n",
      "WARNING  setting 'requires_grad=True' for frozen layer 'model.15.cv2.bn.weight'. See ultralytics.engine.trainer for customization of frozen layers.\n",
      "WARNING  setting 'requires_grad=True' for frozen layer 'model.15.cv2.bn.bias'. See ultralytics.engine.trainer for customization of frozen layers.\n",
      "WARNING  setting 'requires_grad=True' for frozen layer 'model.15.m.0.cv1.conv.weight'. See ultralytics.engine.trainer for customization of frozen layers.\n",
      "WARNING  setting 'requires_grad=True' for frozen layer 'model.15.m.0.cv1.bn.weight'. See ultralytics.engine.trainer for customization of frozen layers.\n",
      "WARNING  setting 'requires_grad=True' for frozen layer 'model.15.m.0.cv1.bn.bias'. See ultralytics.engine.trainer for customization of frozen layers.\n",
      "WARNING  setting 'requires_grad=True' for frozen layer 'model.15.m.0.cv2.conv.weight'. See ultralytics.engine.trainer for customization of frozen layers.\n",
      "WARNING  setting 'requires_grad=True' for frozen layer 'model.15.m.0.cv2.bn.weight'. See ultralytics.engine.trainer for customization of frozen layers.\n",
      "WARNING  setting 'requires_grad=True' for frozen layer 'model.15.m.0.cv2.bn.bias'. See ultralytics.engine.trainer for customization of frozen layers.\n",
      "WARNING  setting 'requires_grad=True' for frozen layer 'model.16.conv.weight'. See ultralytics.engine.trainer for customization of frozen layers.\n",
      "WARNING  setting 'requires_grad=True' for frozen layer 'model.16.bn.weight'. See ultralytics.engine.trainer for customization of frozen layers.\n",
      "WARNING  setting 'requires_grad=True' for frozen layer 'model.16.bn.bias'. See ultralytics.engine.trainer for customization of frozen layers.\n",
      "WARNING  setting 'requires_grad=True' for frozen layer 'model.18.cv1.conv.weight'. See ultralytics.engine.trainer for customization of frozen layers.\n",
      "WARNING  setting 'requires_grad=True' for frozen layer 'model.18.cv1.bn.weight'. See ultralytics.engine.trainer for customization of frozen layers.\n",
      "WARNING  setting 'requires_grad=True' for frozen layer 'model.18.cv1.bn.bias'. See ultralytics.engine.trainer for customization of frozen layers.\n",
      "WARNING  setting 'requires_grad=True' for frozen layer 'model.18.cv2.conv.weight'. See ultralytics.engine.trainer for customization of frozen layers.\n",
      "WARNING  setting 'requires_grad=True' for frozen layer 'model.18.cv2.bn.weight'. See ultralytics.engine.trainer for customization of frozen layers.\n",
      "WARNING  setting 'requires_grad=True' for frozen layer 'model.18.cv2.bn.bias'. See ultralytics.engine.trainer for customization of frozen layers.\n",
      "WARNING  setting 'requires_grad=True' for frozen layer 'model.18.m.0.cv1.conv.weight'. See ultralytics.engine.trainer for customization of frozen layers.\n",
      "WARNING  setting 'requires_grad=True' for frozen layer 'model.18.m.0.cv1.bn.weight'. See ultralytics.engine.trainer for customization of frozen layers.\n",
      "WARNING  setting 'requires_grad=True' for frozen layer 'model.18.m.0.cv1.bn.bias'. See ultralytics.engine.trainer for customization of frozen layers.\n",
      "WARNING  setting 'requires_grad=True' for frozen layer 'model.18.m.0.cv2.conv.weight'. See ultralytics.engine.trainer for customization of frozen layers.\n",
      "WARNING  setting 'requires_grad=True' for frozen layer 'model.18.m.0.cv2.bn.weight'. See ultralytics.engine.trainer for customization of frozen layers.\n",
      "WARNING  setting 'requires_grad=True' for frozen layer 'model.18.m.0.cv2.bn.bias'. See ultralytics.engine.trainer for customization of frozen layers.\n",
      "WARNING  setting 'requires_grad=True' for frozen layer 'model.19.conv.weight'. See ultralytics.engine.trainer for customization of frozen layers.\n",
      "WARNING  setting 'requires_grad=True' for frozen layer 'model.19.bn.weight'. See ultralytics.engine.trainer for customization of frozen layers.\n",
      "WARNING  setting 'requires_grad=True' for frozen layer 'model.19.bn.bias'. See ultralytics.engine.trainer for customization of frozen layers.\n",
      "WARNING  setting 'requires_grad=True' for frozen layer 'model.21.cv1.conv.weight'. See ultralytics.engine.trainer for customization of frozen layers.\n",
      "WARNING  setting 'requires_grad=True' for frozen layer 'model.21.cv1.bn.weight'. See ultralytics.engine.trainer for customization of frozen layers.\n",
      "WARNING  setting 'requires_grad=True' for frozen layer 'model.21.cv1.bn.bias'. See ultralytics.engine.trainer for customization of frozen layers.\n",
      "WARNING  setting 'requires_grad=True' for frozen layer 'model.21.cv2.conv.weight'. See ultralytics.engine.trainer for customization of frozen layers.\n",
      "WARNING  setting 'requires_grad=True' for frozen layer 'model.21.cv2.bn.weight'. See ultralytics.engine.trainer for customization of frozen layers.\n",
      "WARNING  setting 'requires_grad=True' for frozen layer 'model.21.cv2.bn.bias'. See ultralytics.engine.trainer for customization of frozen layers.\n",
      "WARNING  setting 'requires_grad=True' for frozen layer 'model.21.m.0.cv1.conv.weight'. See ultralytics.engine.trainer for customization of frozen layers.\n",
      "WARNING  setting 'requires_grad=True' for frozen layer 'model.21.m.0.cv1.bn.weight'. See ultralytics.engine.trainer for customization of frozen layers.\n",
      "WARNING  setting 'requires_grad=True' for frozen layer 'model.21.m.0.cv1.bn.bias'. See ultralytics.engine.trainer for customization of frozen layers.\n",
      "WARNING  setting 'requires_grad=True' for frozen layer 'model.21.m.0.cv2.conv.weight'. See ultralytics.engine.trainer for customization of frozen layers.\n",
      "WARNING  setting 'requires_grad=True' for frozen layer 'model.21.m.0.cv2.bn.weight'. See ultralytics.engine.trainer for customization of frozen layers.\n",
      "WARNING  setting 'requires_grad=True' for frozen layer 'model.21.m.0.cv2.bn.bias'. See ultralytics.engine.trainer for customization of frozen layers.\n",
      "WARNING  setting 'requires_grad=True' for frozen layer 'model.22.cv2.0.0.conv.weight'. See ultralytics.engine.trainer for customization of frozen layers.\n",
      "WARNING  setting 'requires_grad=True' for frozen layer 'model.22.cv2.0.0.bn.weight'. See ultralytics.engine.trainer for customization of frozen layers.\n",
      "WARNING  setting 'requires_grad=True' for frozen layer 'model.22.cv2.0.0.bn.bias'. See ultralytics.engine.trainer for customization of frozen layers.\n",
      "WARNING  setting 'requires_grad=True' for frozen layer 'model.22.cv2.0.1.conv.weight'. See ultralytics.engine.trainer for customization of frozen layers.\n",
      "WARNING  setting 'requires_grad=True' for frozen layer 'model.22.cv2.0.1.bn.weight'. See ultralytics.engine.trainer for customization of frozen layers.\n",
      "WARNING  setting 'requires_grad=True' for frozen layer 'model.22.cv2.0.1.bn.bias'. See ultralytics.engine.trainer for customization of frozen layers.\n",
      "WARNING  setting 'requires_grad=True' for frozen layer 'model.22.cv2.0.2.weight'. See ultralytics.engine.trainer for customization of frozen layers.\n",
      "WARNING  setting 'requires_grad=True' for frozen layer 'model.22.cv2.0.2.bias'. See ultralytics.engine.trainer for customization of frozen layers.\n",
      "WARNING  setting 'requires_grad=True' for frozen layer 'model.22.cv2.1.0.conv.weight'. See ultralytics.engine.trainer for customization of frozen layers.\n",
      "WARNING  setting 'requires_grad=True' for frozen layer 'model.22.cv2.1.0.bn.weight'. See ultralytics.engine.trainer for customization of frozen layers.\n",
      "WARNING  setting 'requires_grad=True' for frozen layer 'model.22.cv2.1.0.bn.bias'. See ultralytics.engine.trainer for customization of frozen layers.\n",
      "WARNING  setting 'requires_grad=True' for frozen layer 'model.22.cv2.1.1.conv.weight'. See ultralytics.engine.trainer for customization of frozen layers.\n",
      "WARNING  setting 'requires_grad=True' for frozen layer 'model.22.cv2.1.1.bn.weight'. See ultralytics.engine.trainer for customization of frozen layers.\n",
      "WARNING  setting 'requires_grad=True' for frozen layer 'model.22.cv2.1.1.bn.bias'. See ultralytics.engine.trainer for customization of frozen layers.\n",
      "WARNING  setting 'requires_grad=True' for frozen layer 'model.22.cv2.1.2.weight'. See ultralytics.engine.trainer for customization of frozen layers.\n",
      "WARNING  setting 'requires_grad=True' for frozen layer 'model.22.cv2.1.2.bias'. See ultralytics.engine.trainer for customization of frozen layers.\n",
      "WARNING  setting 'requires_grad=True' for frozen layer 'model.22.cv2.2.0.conv.weight'. See ultralytics.engine.trainer for customization of frozen layers.\n",
      "WARNING  setting 'requires_grad=True' for frozen layer 'model.22.cv2.2.0.bn.weight'. See ultralytics.engine.trainer for customization of frozen layers.\n",
      "WARNING  setting 'requires_grad=True' for frozen layer 'model.22.cv2.2.0.bn.bias'. See ultralytics.engine.trainer for customization of frozen layers.\n",
      "WARNING  setting 'requires_grad=True' for frozen layer 'model.22.cv2.2.1.conv.weight'. See ultralytics.engine.trainer for customization of frozen layers.\n",
      "WARNING  setting 'requires_grad=True' for frozen layer 'model.22.cv2.2.1.bn.weight'. See ultralytics.engine.trainer for customization of frozen layers.\n",
      "WARNING  setting 'requires_grad=True' for frozen layer 'model.22.cv2.2.1.bn.bias'. See ultralytics.engine.trainer for customization of frozen layers.\n",
      "WARNING  setting 'requires_grad=True' for frozen layer 'model.22.cv2.2.2.weight'. See ultralytics.engine.trainer for customization of frozen layers.\n",
      "WARNING  setting 'requires_grad=True' for frozen layer 'model.22.cv2.2.2.bias'. See ultralytics.engine.trainer for customization of frozen layers.\n",
      "Freezing layer 'model.22.dfl.conv.weight'\n"
     ]
    },
    {
     "name": "stderr",
     "output_type": "stream",
     "text": [
      "\u001B[34m\u001B[1mtrain: \u001B[0mScanning E:\\ML\\Weapon Detection System\\weapon-detection.v1i.yolov8\\train\\labels.cache... 460 images, 163 backgrounds, 0 corrupt: 100%|██████████| 460/460 [00:00<?, ?it/s]\n",
      "\u001B[34m\u001B[1mval: \u001B[0mScanning E:\\ML\\Weapon Detection System\\weapon-detection.v1i.yolov8\\valid\\labels.cache... 74 images, 1 backgrounds, 0 corrupt: 100%|██████████| 74/74 [00:00<?, ?it/s]"
     ]
    },
    {
     "name": "stdout",
     "output_type": "stream",
     "text": [
      "Plotting labels to runs\\detect\\train9\\labels.jpg... \n"
     ]
    },
    {
     "name": "stderr",
     "output_type": "stream",
     "text": [
      "\n"
     ]
    },
    {
     "name": "stdout",
     "output_type": "stream",
     "text": [
      "\u001B[34m\u001B[1moptimizer:\u001B[0m 'optimizer=auto' found, ignoring 'lr0=0.01' and 'momentum=0.937' and determining best 'optimizer', 'lr0' and 'momentum' automatically... \n",
      "\u001B[34m\u001B[1moptimizer:\u001B[0m AdamW(lr=0.002, momentum=0.9) with parameter groups 57 weight(decay=0.0), 64 weight(decay=0.0005), 63 bias(decay=0.0)\n",
      "Image sizes 640 train, 640 val\n",
      "Using 0 dataloader workers\n",
      "Logging results to \u001B[1mruns\\detect\\train9\u001B[0m\n",
      "Starting training for 50 epochs...\n",
      "\n",
      "      Epoch    GPU_mem   box_loss   cls_loss   dfl_loss  Instances       Size\n"
     ]
    },
    {
     "name": "stderr",
     "output_type": "stream",
     "text": [
      "       1/50         0G      1.742      4.917       1.79          4        640: 100%|██████████| 58/58 [03:06<00:00,  3.21s/it]\n",
      "                 Class     Images  Instances      Box(P          R      mAP50  mAP50-95): 100%|██████████| 5/5 [00:12<00:00,  2.53s/it]"
     ]
    },
    {
     "name": "stdout",
     "output_type": "stream",
     "text": [
      "                   all         74         82    0.00198      0.537     0.0187    0.00385\n"
     ]
    },
    {
     "name": "stderr",
     "output_type": "stream",
     "text": [
      "\n"
     ]
    },
    {
     "name": "stdout",
     "output_type": "stream",
     "text": [
      "\n",
      "      Epoch    GPU_mem   box_loss   cls_loss   dfl_loss  Instances       Size\n"
     ]
    },
    {
     "name": "stderr",
     "output_type": "stream",
     "text": [
      "       2/50         0G       2.22      5.014      2.186          6        640: 100%|██████████| 58/58 [03:25<00:00,  3.55s/it]\n",
      "                 Class     Images  Instances      Box(P          R      mAP50  mAP50-95): 100%|██████████| 5/5 [00:11<00:00,  2.29s/it]"
     ]
    },
    {
     "name": "stdout",
     "output_type": "stream",
     "text": [
      "                   all         74         82    0.00729     0.0854    0.00394    0.00104\n"
     ]
    },
    {
     "name": "stderr",
     "output_type": "stream",
     "text": [
      "\n"
     ]
    },
    {
     "name": "stdout",
     "output_type": "stream",
     "text": [
      "\n",
      "      Epoch    GPU_mem   box_loss   cls_loss   dfl_loss  Instances       Size\n"
     ]
    },
    {
     "name": "stderr",
     "output_type": "stream",
     "text": [
      "       3/50         0G      2.531      4.663      2.441          5        640: 100%|██████████| 58/58 [03:18<00:00,  3.42s/it]\n",
      "                 Class     Images  Instances      Box(P          R      mAP50  mAP50-95): 100%|██████████| 5/5 [00:10<00:00,  2.16s/it]"
     ]
    },
    {
     "name": "stdout",
     "output_type": "stream",
     "text": [
      "                   all         74         82    0.00139      0.366    0.00177   0.000423\n"
     ]
    },
    {
     "name": "stderr",
     "output_type": "stream",
     "text": [
      "\n"
     ]
    },
    {
     "name": "stdout",
     "output_type": "stream",
     "text": [
      "\n",
      "      Epoch    GPU_mem   box_loss   cls_loss   dfl_loss  Instances       Size\n"
     ]
    },
    {
     "name": "stderr",
     "output_type": "stream",
     "text": [
      "       4/50         0G      2.635      4.415      2.592          5        640: 100%|██████████| 58/58 [03:12<00:00,  3.31s/it]\n",
      "                 Class     Images  Instances      Box(P          R      mAP50  mAP50-95): 100%|██████████| 5/5 [00:11<00:00,  2.23s/it]"
     ]
    },
    {
     "name": "stdout",
     "output_type": "stream",
     "text": [
      "                   all         74         82    0.00138      0.146    0.00669   0.000891\n"
     ]
    },
    {
     "name": "stderr",
     "output_type": "stream",
     "text": [
      "\n"
     ]
    },
    {
     "name": "stdout",
     "output_type": "stream",
     "text": [
      "\n",
      "      Epoch    GPU_mem   box_loss   cls_loss   dfl_loss  Instances       Size\n"
     ]
    },
    {
     "name": "stderr",
     "output_type": "stream",
     "text": [
      "       5/50         0G      2.646      4.447      2.617          5        640: 100%|██████████| 58/58 [03:24<00:00,  3.53s/it]\n",
      "                 Class     Images  Instances      Box(P          R      mAP50  mAP50-95): 100%|██████████| 5/5 [00:10<00:00,  2.02s/it]"
     ]
    },
    {
     "name": "stdout",
     "output_type": "stream",
     "text": [
      "                   all         74         82    0.00113      0.305     0.0022   0.000514\n"
     ]
    },
    {
     "name": "stderr",
     "output_type": "stream",
     "text": [
      "\n"
     ]
    },
    {
     "name": "stdout",
     "output_type": "stream",
     "text": [
      "\n",
      "      Epoch    GPU_mem   box_loss   cls_loss   dfl_loss  Instances       Size\n"
     ]
    },
    {
     "name": "stderr",
     "output_type": "stream",
     "text": [
      "       6/50         0G      2.715      4.517      2.726          4        640: 100%|██████████| 58/58 [03:21<00:00,  3.47s/it]\n",
      "                 Class     Images  Instances      Box(P          R      mAP50  mAP50-95): 100%|██████████| 5/5 [00:10<00:00,  2.04s/it]"
     ]
    },
    {
     "name": "stdout",
     "output_type": "stream",
     "text": [
      "                   all         74         82   0.000631      0.171   0.000376   0.000119\n"
     ]
    },
    {
     "name": "stderr",
     "output_type": "stream",
     "text": [
      "\n"
     ]
    },
    {
     "name": "stdout",
     "output_type": "stream",
     "text": [
      "\n",
      "      Epoch    GPU_mem   box_loss   cls_loss   dfl_loss  Instances       Size\n"
     ]
    },
    {
     "name": "stderr",
     "output_type": "stream",
     "text": [
      "       7/50         0G      2.579      4.042      2.696          3        640: 100%|██████████| 58/58 [03:23<00:00,  3.50s/it]\n",
      "                 Class     Images  Instances      Box(P          R      mAP50  mAP50-95): 100%|██████████| 5/5 [00:10<00:00,  2.02s/it]"
     ]
    },
    {
     "name": "stdout",
     "output_type": "stream",
     "text": [
      "                   all         74         82    0.00134      0.171    0.00378   0.000566\n"
     ]
    },
    {
     "name": "stderr",
     "output_type": "stream",
     "text": [
      "\n"
     ]
    },
    {
     "name": "stdout",
     "output_type": "stream",
     "text": [
      "\n",
      "      Epoch    GPU_mem   box_loss   cls_loss   dfl_loss  Instances       Size\n"
     ]
    },
    {
     "name": "stderr",
     "output_type": "stream",
     "text": [
      "       8/50         0G      2.568      4.017      2.617          5        640: 100%|██████████| 58/58 [03:25<00:00,  3.53s/it]\n",
      "                 Class     Images  Instances      Box(P          R      mAP50  mAP50-95): 100%|██████████| 5/5 [00:10<00:00,  2.05s/it]"
     ]
    },
    {
     "name": "stdout",
     "output_type": "stream",
     "text": [
      "                   all         74         82    0.00122      0.293     0.0019   0.000428\n"
     ]
    },
    {
     "name": "stderr",
     "output_type": "stream",
     "text": [
      "\n"
     ]
    },
    {
     "name": "stdout",
     "output_type": "stream",
     "text": [
      "\n",
      "      Epoch    GPU_mem   box_loss   cls_loss   dfl_loss  Instances       Size\n"
     ]
    },
    {
     "name": "stderr",
     "output_type": "stream",
     "text": [
      "       9/50         0G      2.551      3.863      2.533          3        640: 100%|██████████| 58/58 [03:22<00:00,  3.49s/it]\n",
      "                 Class     Images  Instances      Box(P          R      mAP50  mAP50-95): 100%|██████████| 5/5 [00:10<00:00,  2.02s/it]"
     ]
    },
    {
     "name": "stdout",
     "output_type": "stream",
     "text": [
      "                   all         74         82    0.00179      0.451    0.00859    0.00172\n"
     ]
    },
    {
     "name": "stderr",
     "output_type": "stream",
     "text": [
      "\n"
     ]
    },
    {
     "name": "stdout",
     "output_type": "stream",
     "text": [
      "\n",
      "      Epoch    GPU_mem   box_loss   cls_loss   dfl_loss  Instances       Size\n"
     ]
    },
    {
     "name": "stderr",
     "output_type": "stream",
     "text": [
      "      10/50         0G      2.543      3.858      2.546          5        640: 100%|██████████| 58/58 [03:34<00:00,  3.70s/it]\n",
      "                 Class     Images  Instances      Box(P          R      mAP50  mAP50-95): 100%|██████████| 5/5 [00:10<00:00,  2.01s/it]"
     ]
    },
    {
     "name": "stdout",
     "output_type": "stream",
     "text": [
      "                   all         74         82    0.00289      0.402     0.0142    0.00246\n"
     ]
    },
    {
     "name": "stderr",
     "output_type": "stream",
     "text": [
      "\n"
     ]
    },
    {
     "name": "stdout",
     "output_type": "stream",
     "text": [
      "\n",
      "      Epoch    GPU_mem   box_loss   cls_loss   dfl_loss  Instances       Size\n"
     ]
    },
    {
     "name": "stderr",
     "output_type": "stream",
     "text": [
      "      11/50         0G      2.509      3.873      2.492          4        640: 100%|██████████| 58/58 [03:19<00:00,  3.44s/it]\n",
      "                 Class     Images  Instances      Box(P          R      mAP50  mAP50-95): 100%|██████████| 5/5 [00:11<00:00,  2.33s/it]"
     ]
    },
    {
     "name": "stdout",
     "output_type": "stream",
     "text": [
      "                   all         74         82    0.00257      0.402    0.00381   0.000973\n"
     ]
    },
    {
     "name": "stderr",
     "output_type": "stream",
     "text": [
      "\n"
     ]
    },
    {
     "name": "stdout",
     "output_type": "stream",
     "text": [
      "\n",
      "      Epoch    GPU_mem   box_loss   cls_loss   dfl_loss  Instances       Size\n"
     ]
    },
    {
     "name": "stderr",
     "output_type": "stream",
     "text": [
      "      12/50         0G      2.475      3.706      2.486          6        640: 100%|██████████| 58/58 [03:38<00:00,  3.76s/it]\n",
      "                 Class     Images  Instances      Box(P          R      mAP50  mAP50-95): 100%|██████████| 5/5 [00:10<00:00,  2.08s/it]"
     ]
    },
    {
     "name": "stdout",
     "output_type": "stream",
     "text": [
      "                   all         74         82     0.0027      0.463     0.0231    0.00798\n"
     ]
    },
    {
     "name": "stderr",
     "output_type": "stream",
     "text": [
      "\n"
     ]
    },
    {
     "name": "stdout",
     "output_type": "stream",
     "text": [
      "\n",
      "      Epoch    GPU_mem   box_loss   cls_loss   dfl_loss  Instances       Size\n"
     ]
    },
    {
     "name": "stderr",
     "output_type": "stream",
     "text": [
      "      13/50         0G      2.512      3.838      2.492          2        640: 100%|██████████| 58/58 [03:22<00:00,  3.49s/it]\n",
      "                 Class     Images  Instances      Box(P          R      mAP50  mAP50-95): 100%|██████████| 5/5 [00:11<00:00,  2.30s/it]"
     ]
    },
    {
     "name": "stdout",
     "output_type": "stream",
     "text": [
      "                   all         74         82    0.00194      0.415     0.0107    0.00229\n"
     ]
    },
    {
     "name": "stderr",
     "output_type": "stream",
     "text": [
      "\n"
     ]
    },
    {
     "name": "stdout",
     "output_type": "stream",
     "text": [
      "\n",
      "      Epoch    GPU_mem   box_loss   cls_loss   dfl_loss  Instances       Size\n"
     ]
    },
    {
     "name": "stderr",
     "output_type": "stream",
     "text": [
      "      14/50         0G      2.444      3.837      2.437          6        640: 100%|██████████| 58/58 [03:30<00:00,  3.63s/it]\n",
      "                 Class     Images  Instances      Box(P          R      mAP50  mAP50-95): 100%|██████████| 5/5 [00:11<00:00,  2.34s/it]"
     ]
    },
    {
     "name": "stdout",
     "output_type": "stream",
     "text": [
      "                   all         74         82    0.00223      0.573    0.00879    0.00216\n"
     ]
    },
    {
     "name": "stderr",
     "output_type": "stream",
     "text": [
      "\n"
     ]
    },
    {
     "name": "stdout",
     "output_type": "stream",
     "text": [
      "\n",
      "      Epoch    GPU_mem   box_loss   cls_loss   dfl_loss  Instances       Size\n"
     ]
    },
    {
     "name": "stderr",
     "output_type": "stream",
     "text": [
      "      15/50         0G      2.386      3.683      2.442          2        640: 100%|██████████| 58/58 [03:31<00:00,  3.65s/it]\n",
      "                 Class     Images  Instances      Box(P          R      mAP50  mAP50-95): 100%|██████████| 5/5 [00:11<00:00,  2.29s/it]"
     ]
    },
    {
     "name": "stdout",
     "output_type": "stream",
     "text": [
      "                   all         74         82    0.00246      0.537     0.0127    0.00362\n"
     ]
    },
    {
     "name": "stderr",
     "output_type": "stream",
     "text": [
      "\n"
     ]
    },
    {
     "name": "stdout",
     "output_type": "stream",
     "text": [
      "\n",
      "      Epoch    GPU_mem   box_loss   cls_loss   dfl_loss  Instances       Size\n"
     ]
    },
    {
     "name": "stderr",
     "output_type": "stream",
     "text": [
      "      16/50         0G      2.354      3.642      2.453          4        640: 100%|██████████| 58/58 [03:45<00:00,  3.88s/it]\n",
      "                 Class     Images  Instances      Box(P          R      mAP50  mAP50-95): 100%|██████████| 5/5 [00:10<00:00,  2.02s/it]"
     ]
    },
    {
     "name": "stdout",
     "output_type": "stream",
     "text": [
      "                   all         74         82    0.00214      0.476     0.0172    0.00394\n"
     ]
    },
    {
     "name": "stderr",
     "output_type": "stream",
     "text": [
      "\n"
     ]
    },
    {
     "name": "stdout",
     "output_type": "stream",
     "text": [
      "\n",
      "      Epoch    GPU_mem   box_loss   cls_loss   dfl_loss  Instances       Size\n"
     ]
    },
    {
     "name": "stderr",
     "output_type": "stream",
     "text": [
      "      17/50         0G       2.33      3.586      2.379          4        640: 100%|██████████| 58/58 [03:46<00:00,  3.91s/it]\n",
      "                 Class     Images  Instances      Box(P          R      mAP50  mAP50-95): 100%|██████████| 5/5 [00:11<00:00,  2.31s/it]"
     ]
    },
    {
     "name": "stdout",
     "output_type": "stream",
     "text": [
      "                   all         74         82     0.0029      0.476     0.0143    0.00372\n"
     ]
    },
    {
     "name": "stderr",
     "output_type": "stream",
     "text": [
      "\n"
     ]
    },
    {
     "name": "stdout",
     "output_type": "stream",
     "text": [
      "\n",
      "      Epoch    GPU_mem   box_loss   cls_loss   dfl_loss  Instances       Size\n"
     ]
    },
    {
     "name": "stderr",
     "output_type": "stream",
     "text": [
      "      18/50         0G      2.297      3.494        2.4          5        640: 100%|██████████| 58/58 [03:36<00:00,  3.73s/it]\n",
      "                 Class     Images  Instances      Box(P          R      mAP50  mAP50-95): 100%|██████████| 5/5 [00:10<00:00,  2.00s/it]"
     ]
    },
    {
     "name": "stdout",
     "output_type": "stream",
     "text": [
      "                   all         74         82    0.00335        0.5     0.0298    0.00647\n"
     ]
    },
    {
     "name": "stderr",
     "output_type": "stream",
     "text": [
      "\n"
     ]
    },
    {
     "name": "stdout",
     "output_type": "stream",
     "text": [
      "\n",
      "      Epoch    GPU_mem   box_loss   cls_loss   dfl_loss  Instances       Size\n"
     ]
    },
    {
     "name": "stderr",
     "output_type": "stream",
     "text": [
      "      19/50         0G      2.299      3.523      2.357          2        640: 100%|██████████| 58/58 [03:36<00:00,  3.74s/it]\n",
      "                 Class     Images  Instances      Box(P          R      mAP50  mAP50-95): 100%|██████████| 5/5 [00:12<00:00,  2.54s/it]"
     ]
    },
    {
     "name": "stdout",
     "output_type": "stream",
     "text": [
      "                   all         74         82    0.00288      0.488      0.019    0.00396\n"
     ]
    },
    {
     "name": "stderr",
     "output_type": "stream",
     "text": [
      "\n"
     ]
    },
    {
     "name": "stdout",
     "output_type": "stream",
     "text": [
      "\n",
      "      Epoch    GPU_mem   box_loss   cls_loss   dfl_loss  Instances       Size\n"
     ]
    },
    {
     "name": "stderr",
     "output_type": "stream",
     "text": [
      "      20/50         0G      2.178      3.333      2.271          3        640: 100%|██████████| 58/58 [03:37<00:00,  3.75s/it]\n",
      "                 Class     Images  Instances      Box(P          R      mAP50  mAP50-95): 100%|██████████| 5/5 [00:11<00:00,  2.30s/it]"
     ]
    },
    {
     "name": "stdout",
     "output_type": "stream",
     "text": [
      "                   all         74         82    0.00341      0.561     0.0207    0.00545\n"
     ]
    },
    {
     "name": "stderr",
     "output_type": "stream",
     "text": [
      "\n"
     ]
    },
    {
     "name": "stdout",
     "output_type": "stream",
     "text": [
      "\n",
      "      Epoch    GPU_mem   box_loss   cls_loss   dfl_loss  Instances       Size\n"
     ]
    },
    {
     "name": "stderr",
     "output_type": "stream",
     "text": [
      "      21/50         0G      2.182      3.372      2.304          4        640: 100%|██████████| 58/58 [03:32<00:00,  3.67s/it]\n",
      "                 Class     Images  Instances      Box(P          R      mAP50  mAP50-95): 100%|██████████| 5/5 [00:11<00:00,  2.25s/it]"
     ]
    },
    {
     "name": "stdout",
     "output_type": "stream",
     "text": [
      "                   all         74         82     0.0111      0.378      0.026    0.00594\n"
     ]
    },
    {
     "name": "stderr",
     "output_type": "stream",
     "text": [
      "\n"
     ]
    },
    {
     "name": "stdout",
     "output_type": "stream",
     "text": [
      "\n",
      "      Epoch    GPU_mem   box_loss   cls_loss   dfl_loss  Instances       Size\n"
     ]
    },
    {
     "name": "stderr",
     "output_type": "stream",
     "text": [
      "      22/50         0G       2.25      3.407      2.293          5        640: 100%|██████████| 58/58 [03:29<00:00,  3.61s/it]\n",
      "                 Class     Images  Instances      Box(P          R      mAP50  mAP50-95): 100%|██████████| 5/5 [00:09<00:00,  1.94s/it]"
     ]
    },
    {
     "name": "stdout",
     "output_type": "stream",
     "text": [
      "                   all         74         82     0.0562      0.195      0.048     0.0196\n"
     ]
    },
    {
     "name": "stderr",
     "output_type": "stream",
     "text": [
      "\n"
     ]
    },
    {
     "name": "stdout",
     "output_type": "stream",
     "text": [
      "\n",
      "      Epoch    GPU_mem   box_loss   cls_loss   dfl_loss  Instances       Size\n"
     ]
    },
    {
     "name": "stderr",
     "output_type": "stream",
     "text": [
      "      23/50         0G      2.181      3.282      2.221          6        640: 100%|██████████| 58/58 [03:22<00:00,  3.50s/it]\n",
      "                 Class     Images  Instances      Box(P          R      mAP50  mAP50-95): 100%|██████████| 5/5 [00:11<00:00,  2.21s/it]"
     ]
    },
    {
     "name": "stdout",
     "output_type": "stream",
     "text": [
      "                   all         74         82     0.0418      0.061     0.0316     0.0135\n"
     ]
    },
    {
     "name": "stderr",
     "output_type": "stream",
     "text": [
      "\n"
     ]
    },
    {
     "name": "stdout",
     "output_type": "stream",
     "text": [
      "\n",
      "      Epoch    GPU_mem   box_loss   cls_loss   dfl_loss  Instances       Size\n"
     ]
    },
    {
     "name": "stderr",
     "output_type": "stream",
     "text": [
      "      24/50         0G      2.237      3.245      2.338          6        640:  33%|███▎      | 19/58 [38:31<06:16,  9.65s/it]   "
     ]
    }
   ],
   "execution_count": null
  },
  {
   "metadata": {},
   "cell_type": "code",
   "outputs": [],
   "execution_count": null,
   "source": "model.export(format=\"onnx\")",
   "id": "75c27938a8d1a985"
  },
  {
   "metadata": {},
   "cell_type": "code",
   "outputs": [],
   "execution_count": null,
   "source": "",
   "id": "af86bd2a3f85e618"
  }
 ],
 "metadata": {
  "kernelspec": {
   "display_name": "Python 3",
   "language": "python",
   "name": "python3"
  },
  "language_info": {
   "codemirror_mode": {
    "name": "ipython",
    "version": 2
   },
   "file_extension": ".py",
   "mimetype": "text/x-python",
   "name": "python",
   "nbconvert_exporter": "python",
   "pygments_lexer": "ipython2",
   "version": "2.7.6"
  }
 },
 "nbformat": 4,
 "nbformat_minor": 5
}
